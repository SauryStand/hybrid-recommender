{
 "cells": [
  {
   "cell_type": "code",
   "execution_count": 1,
   "metadata": {},
   "outputs": [
    {
     "data": {
      "text/html": [
       "<style>.container { width:80% !important; }</style>"
      ],
      "text/plain": [
       "<IPython.core.display.HTML object>"
      ]
     },
     "metadata": {},
     "output_type": "display_data"
    }
   ],
   "source": [
    "\n",
    "import numpy as np\n",
    "import pandas as pd\n",
    "import os\n",
    "import sys\n",
    "import pickle\n",
    "import time\n",
    "import datetime\n",
    "import matplotlib.pyplot as plt\n",
    "import seaborn as sns\n",
    "from importlib import reload\n",
    "%matplotlib inline\n",
    "from IPython.core.display import display, HTML, clear_output\n",
    "display(HTML(\"<style>.container { width:80% !important; }</style>\"))"
   ]
  },
  {
   "cell_type": "code",
   "execution_count": 2,
   "metadata": {},
   "outputs": [],
   "source": [
    "import pandas as pd\n",
    "import numpy as np\n",
    "import os\n",
    "import datetime\n",
    "import pickle"
   ]
  },
  {
   "cell_type": "code",
   "execution_count": 3,
   "metadata": {},
   "outputs": [],
   "source": [
    "class MovieFilter(object):\n",
    "\n",
    "    def __init__(self, movies, title_col='title'):\n",
    "        self.movies = movies\n",
    "        self.title_col = title_col\n",
    "\n",
    "    def filter_string_length(self, length=60):\n",
    "        title_lens = self.movies.apply(lambda x: len(x[self.title_col]), axis=1)\n",
    "        mask = title_lens < length\n",
    "        len0 = len(self.movies)\n",
    "        self.movies = self.movies[mask]\n",
    "        len1 = len(self.movies)\n",
    "        self.print_filter_results('filter_string_length', len0, len1)\n",
    "\n",
    "    def filter_english_words(self, num_allow=2):\n",
    "        import string\n",
    "        cwd = os.getcwd()\n",
    "        words_en = set(line.strip() for line in open(os.path.join(cwd, \"..\", \"data\", \"wordsEn.txt\")))\n",
    "\n",
    "        def check_if_english(row):\n",
    "            title = row[self.title_col].lower()\n",
    "            title = ''.join(c for c in title if c not in set(string.punctuation)).strip()\n",
    "            title = ''.join(c for c in title if not c.isdigit()).strip()\n",
    "            words = title.split(' ')\n",
    "            count = 0\n",
    "            for word in words:\n",
    "                if word.strip() not in words_en:\n",
    "                    count += 1\n",
    "                    if count >= num_allow:\n",
    "                        return False\n",
    "            return True\n",
    "        mask = self.movies.apply(check_if_english, axis=1)\n",
    "        len0 = len(self.movies)\n",
    "        self.movies = self.movies[mask]\n",
    "        len1 = len(self.movies)\n",
    "        self.print_filter_results('filter_english_words', len0, len1)\n",
    "\n",
    "    def filter_release_year(self, min_year=1990):\n",
    "        import re\n",
    "\n",
    "        def get_release_year(row):\n",
    "            title = row[self.title_col]\n",
    "            year = re.search(r'\\(\\d{4}\\)', title)\n",
    "            if year:\n",
    "                year = year.group(0)\n",
    "            else:\n",
    "                return None\n",
    "            year = int(year.replace('(', '').replace(')', ''))\n",
    "            return year\n",
    "        release_year = self.movies.apply(get_release_year, axis=1)\n",
    "        mask = release_year > min_year\n",
    "        len0 = len(self.movies)\n",
    "        self.movies = self.movies[mask]\n",
    "        len1 = len(self.movies)\n",
    "        self.print_filter_results('filter_release_year', len0, len1)\n",
    "\n",
    "    def filter_rating_freq(self, freq, threshold=200, movieId_col='movieId'):\n",
    "        red_freq = freq[freq >= threshold]\n",
    "        red_freq = red_freq.index.tolist()\n",
    "        mask = self.movies[movieId_col].isin(red_freq)\n",
    "        len0 = len(self.movies)\n",
    "        self.movies = self.movies[mask]\n",
    "        len1 = len(self.movies)\n",
    "        self.print_filter_results('filter_rating_freq', len0, len1)\n",
    "\n",
    "    @staticmethod\n",
    "    def print_filter_results(filter_name, len0, len1):\n",
    "        print('{} filtered out {} movies. Num before: {}. Num after: {}'.format(filter_name, len0 - len1, len0, len1))\n",
    "\n",
    "    def reduce_ratings_dataset(self, ratings, movieId_col='movieId'):\n",
    "        mask = ratings[movieId_col].isin(self.movies[movieId_col])\n",
    "        len0 = len(ratings)\n",
    "        ratings = ratings[mask]\n",
    "        len1 = len(ratings)\n",
    "        print('Filtered out {} ratings. Num before: {}. Num after: {}'.format(len0 - len1, len0, len1))"
   ]
  },
  {
   "cell_type": "code",
   "execution_count": 5,
   "metadata": {},
   "outputs": [],
   "source": [
    "path = 'C:\\\\Users\\\\jz3f19\\\\Downloads\\\\ml-20m\\\\ml-20m\\\\'"
   ]
  },
  {
   "cell_type": "code",
   "execution_count": 6,
   "metadata": {},
   "outputs": [],
   "source": [
    "movies = pd.read_csv(path + 'movies.csv')"
   ]
  },
  {
   "cell_type": "code",
   "execution_count": 7,
   "metadata": {},
   "outputs": [
    {
     "data": {
      "text/html": [
       "<div>\n",
       "<style scoped>\n",
       "    .dataframe tbody tr th:only-of-type {\n",
       "        vertical-align: middle;\n",
       "    }\n",
       "\n",
       "    .dataframe tbody tr th {\n",
       "        vertical-align: top;\n",
       "    }\n",
       "\n",
       "    .dataframe thead th {\n",
       "        text-align: right;\n",
       "    }\n",
       "</style>\n",
       "<table border=\"1\" class=\"dataframe\">\n",
       "  <thead>\n",
       "    <tr style=\"text-align: right;\">\n",
       "      <th></th>\n",
       "      <th>movieId</th>\n",
       "      <th>title</th>\n",
       "      <th>genres</th>\n",
       "    </tr>\n",
       "  </thead>\n",
       "  <tbody>\n",
       "    <tr>\n",
       "      <td>0</td>\n",
       "      <td>1</td>\n",
       "      <td>Toy Story (1995)</td>\n",
       "      <td>Adventure|Animation|Children|Comedy|Fantasy</td>\n",
       "    </tr>\n",
       "    <tr>\n",
       "      <td>1</td>\n",
       "      <td>2</td>\n",
       "      <td>Jumanji (1995)</td>\n",
       "      <td>Adventure|Children|Fantasy</td>\n",
       "    </tr>\n",
       "    <tr>\n",
       "      <td>2</td>\n",
       "      <td>3</td>\n",
       "      <td>Grumpier Old Men (1995)</td>\n",
       "      <td>Comedy|Romance</td>\n",
       "    </tr>\n",
       "    <tr>\n",
       "      <td>3</td>\n",
       "      <td>4</td>\n",
       "      <td>Waiting to Exhale (1995)</td>\n",
       "      <td>Comedy|Drama|Romance</td>\n",
       "    </tr>\n",
       "    <tr>\n",
       "      <td>4</td>\n",
       "      <td>5</td>\n",
       "      <td>Father of the Bride Part II (1995)</td>\n",
       "      <td>Comedy</td>\n",
       "    </tr>\n",
       "  </tbody>\n",
       "</table>\n",
       "</div>"
      ],
      "text/plain": [
       "   movieId                               title  \\\n",
       "0        1                    Toy Story (1995)   \n",
       "1        2                      Jumanji (1995)   \n",
       "2        3             Grumpier Old Men (1995)   \n",
       "3        4            Waiting to Exhale (1995)   \n",
       "4        5  Father of the Bride Part II (1995)   \n",
       "\n",
       "                                        genres  \n",
       "0  Adventure|Animation|Children|Comedy|Fantasy  \n",
       "1                   Adventure|Children|Fantasy  \n",
       "2                               Comedy|Romance  \n",
       "3                         Comedy|Drama|Romance  \n",
       "4                                       Comedy  "
      ]
     },
     "execution_count": 7,
     "metadata": {},
     "output_type": "execute_result"
    }
   ],
   "source": [
    "movies.head()"
   ]
  },
  {
   "cell_type": "code",
   "execution_count": 8,
   "metadata": {},
   "outputs": [],
   "source": [
    "ratings = pd.read_csv(path + 'ratings.csv')"
   ]
  },
  {
   "cell_type": "code",
   "execution_count": 9,
   "metadata": {},
   "outputs": [
    {
     "data": {
      "text/plain": [
       "movieId\n",
       "1    49695\n",
       "2    22243\n",
       "3    12735\n",
       "4     2756\n",
       "5    12161\n",
       "Name: rating, dtype: int64"
      ]
     },
     "execution_count": 9,
     "metadata": {},
     "output_type": "execute_result"
    }
   ],
   "source": [
    "frequences = ratings.groupby('movieId')['rating'].count()\n",
    "frequences.head()"
   ]
  },
  {
   "cell_type": "code",
   "execution_count": 10,
   "metadata": {},
   "outputs": [],
   "source": [
    "mf = MovieFilter(movies)"
   ]
  },
  {
   "cell_type": "code",
   "execution_count": 13,
   "metadata": {},
   "outputs": [
    {
     "name": "stdout",
     "output_type": "stream",
     "text": [
      "filter_rating_freq filtered out 18732 movies. Num before: 27278. Num after: 8546\n"
     ]
    }
   ],
   "source": [
    "mf.filter_rating_freq(frequences, threshold=100)"
   ]
  },
  {
   "cell_type": "code",
   "execution_count": 14,
   "metadata": {},
   "outputs": [],
   "source": [
    "red_movies = mf.movies"
   ]
  },
  {
   "cell_type": "code",
   "execution_count": 16,
   "metadata": {},
   "outputs": [],
   "source": [
    "red_rating_data = pd.merge(ratings, red_movies[['movieId']], on='movieId')"
   ]
  },
  {
   "cell_type": "code",
   "execution_count": 17,
   "metadata": {},
   "outputs": [
    {
     "data": {
      "text/html": [
       "<div>\n",
       "<style scoped>\n",
       "    .dataframe tbody tr th:only-of-type {\n",
       "        vertical-align: middle;\n",
       "    }\n",
       "\n",
       "    .dataframe tbody tr th {\n",
       "        vertical-align: top;\n",
       "    }\n",
       "\n",
       "    .dataframe thead th {\n",
       "        text-align: right;\n",
       "    }\n",
       "</style>\n",
       "<table border=\"1\" class=\"dataframe\">\n",
       "  <thead>\n",
       "    <tr style=\"text-align: right;\">\n",
       "      <th></th>\n",
       "      <th>userId</th>\n",
       "      <th>movieId</th>\n",
       "      <th>rating</th>\n",
       "      <th>timestamp</th>\n",
       "    </tr>\n",
       "  </thead>\n",
       "  <tbody>\n",
       "    <tr>\n",
       "      <td>0</td>\n",
       "      <td>1</td>\n",
       "      <td>2</td>\n",
       "      <td>3.5</td>\n",
       "      <td>1112486027</td>\n",
       "    </tr>\n",
       "    <tr>\n",
       "      <td>1</td>\n",
       "      <td>5</td>\n",
       "      <td>2</td>\n",
       "      <td>3.0</td>\n",
       "      <td>851527569</td>\n",
       "    </tr>\n",
       "    <tr>\n",
       "      <td>2</td>\n",
       "      <td>13</td>\n",
       "      <td>2</td>\n",
       "      <td>3.0</td>\n",
       "      <td>849082742</td>\n",
       "    </tr>\n",
       "    <tr>\n",
       "      <td>3</td>\n",
       "      <td>29</td>\n",
       "      <td>2</td>\n",
       "      <td>3.0</td>\n",
       "      <td>835562174</td>\n",
       "    </tr>\n",
       "    <tr>\n",
       "      <td>4</td>\n",
       "      <td>34</td>\n",
       "      <td>2</td>\n",
       "      <td>3.0</td>\n",
       "      <td>846509384</td>\n",
       "    </tr>\n",
       "    <tr>\n",
       "      <td>...</td>\n",
       "      <td>...</td>\n",
       "      <td>...</td>\n",
       "      <td>...</td>\n",
       "      <td>...</td>\n",
       "    </tr>\n",
       "    <tr>\n",
       "      <td>19706276</td>\n",
       "      <td>130767</td>\n",
       "      <td>79590</td>\n",
       "      <td>2.5</td>\n",
       "      <td>1281482514</td>\n",
       "    </tr>\n",
       "    <tr>\n",
       "      <td>19706277</td>\n",
       "      <td>131900</td>\n",
       "      <td>79590</td>\n",
       "      <td>3.5</td>\n",
       "      <td>1322985471</td>\n",
       "    </tr>\n",
       "    <tr>\n",
       "      <td>19706278</td>\n",
       "      <td>133511</td>\n",
       "      <td>79590</td>\n",
       "      <td>4.0</td>\n",
       "      <td>1286208539</td>\n",
       "    </tr>\n",
       "    <tr>\n",
       "      <td>19706279</td>\n",
       "      <td>134510</td>\n",
       "      <td>79590</td>\n",
       "      <td>5.0</td>\n",
       "      <td>1315887279</td>\n",
       "    </tr>\n",
       "    <tr>\n",
       "      <td>19706280</td>\n",
       "      <td>134573</td>\n",
       "      <td>79590</td>\n",
       "      <td>4.0</td>\n",
       "      <td>1304680717</td>\n",
       "    </tr>\n",
       "  </tbody>\n",
       "</table>\n",
       "<p>19706281 rows × 4 columns</p>\n",
       "</div>"
      ],
      "text/plain": [
       "          userId  movieId  rating   timestamp\n",
       "0              1        2     3.5  1112486027\n",
       "1              5        2     3.0   851527569\n",
       "2             13        2     3.0   849082742\n",
       "3             29        2     3.0   835562174\n",
       "4             34        2     3.0   846509384\n",
       "...          ...      ...     ...         ...\n",
       "19706276  130767    79590     2.5  1281482514\n",
       "19706277  131900    79590     3.5  1322985471\n",
       "19706278  133511    79590     4.0  1286208539\n",
       "19706279  134510    79590     5.0  1315887279\n",
       "19706280  134573    79590     4.0  1304680717\n",
       "\n",
       "[19706281 rows x 4 columns]"
      ]
     },
     "execution_count": 17,
     "metadata": {},
     "output_type": "execute_result"
    }
   ],
   "source": [
    "red_rating_data"
   ]
  },
  {
   "cell_type": "code",
   "execution_count": 19,
   "metadata": {},
   "outputs": [],
   "source": [
    "red_rating_data.to_csv(path + 'ratings_filtered.csv', index=False)"
   ]
  },
  {
   "cell_type": "code",
   "execution_count": null,
   "metadata": {},
   "outputs": [],
   "source": []
  },
  {
   "cell_type": "code",
   "execution_count": null,
   "metadata": {},
   "outputs": [],
   "source": []
  },
  {
   "cell_type": "code",
   "execution_count": null,
   "metadata": {},
   "outputs": [],
   "source": []
  }
 ],
 "metadata": {
  "kernelspec": {
   "display_name": "Python 3",
   "language": "python",
   "name": "python3"
  },
  "language_info": {
   "codemirror_mode": {
    "name": "ipython",
    "version": 3
   },
   "file_extension": ".py",
   "mimetype": "text/x-python",
   "name": "python",
   "nbconvert_exporter": "python",
   "pygments_lexer": "ipython3",
   "version": "3.6.9"
  }
 },
 "nbformat": 4,
 "nbformat_minor": 4
}
