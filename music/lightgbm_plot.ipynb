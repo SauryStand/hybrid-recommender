{
 "cells": [
  {
   "cell_type": "code",
   "execution_count": 1,
   "metadata": {},
   "outputs": [
    {
     "name": "stderr",
     "output_type": "stream",
     "text": [
      "/opt/conda/lib/python3.7/site-packages/fuzzywuzzy/fuzz.py:11: UserWarning: Using slow pure-python SequenceMatcher. Install python-Levenshtein to remove this warning\n",
      "  warnings.warn('Using slow pure-python SequenceMatcher. Install python-Levenshtein to remove this warning')\n",
      "[nltk_data] Downloading package stopwords to\n",
      "[nltk_data]     /home/jupyter/nltk_data...\n",
      "[nltk_data]   Package stopwords is already up-to-date!\n"
     ]
    },
    {
     "data": {
      "text/plain": [
       "True"
      ]
     },
     "execution_count": 1,
     "metadata": {},
     "output_type": "execute_result"
    }
   ],
   "source": [
    "import pandas as pd\n",
    "import numpy as np\n",
    "from sklearn.feature_extraction.text import CountVectorizer\n",
    "from sklearn.metrics.pairwise import cosine_similarity\n",
    "import matplotlib.pyplot as plt\n",
    "from scipy.sparse import csr_matrix\n",
    "from sklearn.neighbors import NearestNeighbors\n",
    "from fuzzywuzzy import fuzz\n",
    "from ast import literal_eval\n",
    "from surprise import SVD, SVDpp, KNNBasic\n",
    "from surprise import Dataset\n",
    "from surprise.model_selection import cross_validate,train_test_split, GridSearchCV\n",
    "from surprise import NormalPredictor\n",
    "from surprise import Reader\n",
    "from surprise import accuracy\n",
    "\n",
    "import re \n",
    "from sklearn.feature_extraction.text import TfidfVectorizer, TfidfTransformer\n",
    "from nltk.corpus import stopwords\n",
    "from nltk.stem.porter import PorterStemmer\n",
    "import nltk\n",
    "\n",
    "nltk.download('stopwords')"
   ]
  },
  {
   "cell_type": "code",
   "execution_count": 2,
   "metadata": {},
   "outputs": [],
   "source": [
    "%matplotlib inline\n",
    "import pandas as pd\n",
    "import numpy as np\n",
    "import matplotlib.pyplot as plt\n",
    "import seaborn as sns\n",
    "from scipy import stats\n",
    "from ast import literal_eval\n",
    "from sklearn.feature_extraction.text import TfidfVectorizer, CountVectorizer\n",
    "from sklearn.metrics.pairwise import linear_kernel, cosine_similarity\n",
    "from nltk.stem.snowball import SnowballStemmer\n",
    "from nltk.stem.wordnet import WordNetLemmatizer\n",
    "from nltk.corpus import wordnet\n",
    "from surprise import Reader, Dataset, SVD\n",
    "from surprise.model_selection import cross_validate\n",
    "import lightgbm as lgb\n",
    "import warnings; warnings.simplefilter('ignore')"
   ]
  },
  {
   "cell_type": "code",
   "execution_count": 3,
   "metadata": {},
   "outputs": [],
   "source": [
    "train_features = pd.read_csv('train_features.csv')\n",
    "test_features = pd.read_csv('test_features.csv')"
   ]
  },
  {
   "cell_type": "code",
   "execution_count": 4,
   "metadata": {},
   "outputs": [],
   "source": [
    "drop_list = ['repeat_count','repeat_percentage','repeat_count_msno','repeat_percentage_msno']\n",
    "drop_list2 = ['Unnamed: 0', 'Unnamed: 0.1']\n",
    "train_features = train_features.drop(drop_list2,axis=1)\n",
    "test_features = test_features.drop(drop_list2,axis=1)"
   ]
  },
  {
   "cell_type": "code",
   "execution_count": 5,
   "metadata": {},
   "outputs": [],
   "source": [
    "for col in train_features.columns:\n",
    "    if train_features[col].dtype == object:\n",
    "        train_features[col] = train_features[col].astype('category')\n",
    "        test_features[col] = test_features[col].astype('category')"
   ]
  },
  {
   "cell_type": "code",
   "execution_count": 38,
   "metadata": {},
   "outputs": [
    {
     "data": {
      "text/plain": [
       "35"
      ]
     },
     "execution_count": 38,
     "metadata": {},
     "output_type": "execute_result"
    }
   ],
   "source": [
    "train_features.shape[-1]"
   ]
  },
  {
   "cell_type": "code",
   "execution_count": 48,
   "metadata": {},
   "outputs": [
    {
     "name": "stdout",
     "output_type": "stream",
     "text": [
      "[10]\ttraining's auc: 0.806233\tvalid_1's auc: 0.81167\n",
      "[20]\ttraining's auc: 0.825292\tvalid_1's auc: 0.810582\n",
      "[30]\ttraining's auc: 0.838259\tvalid_1's auc: 0.808677\n",
      "[40]\ttraining's auc: 0.846474\tvalid_1's auc: 0.807038\n",
      "[50]\ttraining's auc: 0.853369\tvalid_1's auc: 0.805879\n",
      "[60]\ttraining's auc: 0.858116\tvalid_1's auc: 0.804787\n",
      "[70]\ttraining's auc: 0.862027\tvalid_1's auc: 0.80399\n",
      "[80]\ttraining's auc: 0.865757\tvalid_1's auc: 0.80326\n",
      "[10]\ttraining's auc: 0.832315\tvalid_1's auc: 0.768206\n",
      "[20]\ttraining's auc: 0.850036\tvalid_1's auc: 0.768709\n",
      "[30]\ttraining's auc: 0.861554\tvalid_1's auc: 0.766981\n",
      "[40]\ttraining's auc: 0.86906\tvalid_1's auc: 0.765827\n",
      "[50]\ttraining's auc: 0.874388\tvalid_1's auc: 0.764502\n",
      "[60]\ttraining's auc: 0.878302\tvalid_1's auc: 0.763428\n",
      "[70]\ttraining's auc: 0.882215\tvalid_1's auc: 0.762638\n",
      "[80]\ttraining's auc: 0.884937\tvalid_1's auc: 0.761682\n",
      "[10]\ttraining's auc: 0.836993\tvalid_1's auc: 0.742905\n",
      "[20]\ttraining's auc: 0.853529\tvalid_1's auc: 0.742694\n",
      "[30]\ttraining's auc: 0.864358\tvalid_1's auc: 0.740742\n",
      "[40]\ttraining's auc: 0.871145\tvalid_1's auc: 0.739007\n",
      "[50]\ttraining's auc: 0.87651\tvalid_1's auc: 0.73776\n",
      "[60]\ttraining's auc: 0.880249\tvalid_1's auc: 0.7368\n",
      "[70]\ttraining's auc: 0.883486\tvalid_1's auc: 0.735952\n",
      "[80]\ttraining's auc: 0.88653\tvalid_1's auc: 0.735217\n"
     ]
    }
   ],
   "source": [
    "from sklearn.model_selection import KFold\n",
    "# Create a Cross Validation with 3 splits\n",
    "kf = KFold(n_splits=3)\n",
    "\n",
    "predictions = np.zeros(shape=[len(test_features)])\n",
    "\n",
    "evals_result = {}\n",
    "\n",
    "# For each KFold\n",
    "for train_indices ,validate_indices in kf.split(train_features) : \n",
    "    train_data = lgb.Dataset(train_features.drop(['target'],axis=1).loc[train_indices,:],label=train_features.loc[train_indices,'target'])\n",
    "    val_data = lgb.Dataset(train_features.drop(['target'],axis=1).loc[validate_indices,:],label=train_features.loc[validate_indices,'target'])\n",
    "\n",
    "    params = {\n",
    "            'objective': 'binary',\n",
    "            'boosting': 'gbdt',\n",
    "            'learning_rate': 0.2 ,\n",
    "            'verbose': 0,\n",
    "            'num_leaves': 2**8,\n",
    "            'bagging_fraction': 0.95,\n",
    "            'bagging_freq': 1,\n",
    "            'bagging_seed': 1,\n",
    "            'feature_fraction': 0.9,\n",
    "            'feature_fraction_seed': 1,\n",
    "            'max_bin': 256,\n",
    "            'num_rounds': 80,\n",
    "            'metric' : ('auc', 'logloss')\n",
    "        }\n",
    "                    \n",
    "                \n",
    "    # Train the model    \n",
    "    lgbm_model = lgb.train(params, train_data, 100, valid_sets=[train_data, val_data],\n",
    "                           #feature_name=['f' + str(i + 1) for i in range(train_features.shape[-1]-1)],\n",
    "                           #categorical_feature=[35],\n",
    "                           evals_result=evals_result, verbose_eval=10)\n",
    "    #gbm = lgb.train(params, lgb_train, num_boost_round=100, valid_sets=[lgb_train, lgb_test], evals_result=evals_result, verbose_eval=10)\n",
    "    predictions += lgbm_model.predict(test_features.drop(['id'],axis=1))\n",
    "    #del lgbm_model\n",
    "    # We get the ammount of predictions from the prediction list, by dividing the predictions by the number of Kfolds.\n",
    "predictions = predictions/3"
   ]
  },
  {
   "cell_type": "code",
   "execution_count": 17,
   "metadata": {},
   "outputs": [],
   "source": [
    "if lgb.compat.MATPLOTLIB_INSTALLED:\n",
    "    import matplotlib.pyplot as plt\n",
    "else:\n",
    "    raise ImportError('You need to install matplotlib for plot_example.py.')"
   ]
  },
  {
   "cell_type": "code",
   "execution_count": 49,
   "metadata": {},
   "outputs": [
    {
     "name": "stdout",
     "output_type": "stream",
     "text": [
      "画出训练结果...\n"
     ]
    },
    {
     "data": {
      "image/png": "[encoded data removed]",
      "text/plain": [
       "<Figure size 432x288 with 1 Axes>"
      ]
     },
     "metadata": {
      "needs_background": "light"
     },
     "output_type": "display_data"
    }
   ],
   "source": [
    "print('画出训练结果...')\n",
    "ax = lgb.plot_metric(evals_result, metric='auc')#metric的值与之前的params里面的值对应\n",
    "plt.show()\n"
   ]
  },
  {
   "cell_type": "code",
   "execution_count": 50,
   "metadata": {},
   "outputs": [
    {
     "data": {
      "text/plain": [
       "{'training': OrderedDict([('auc',\n",
       "               [0.808302609819095,\n",
       "                0.8156851273760624,\n",
       "                0.8193435209121832,\n",
       "                0.8221619980432251,\n",
       "                0.824545245484886,\n",
       "                0.8274027512687538,\n",
       "                0.8300356411044698,\n",
       "                0.8331399360369417,\n",
       "                0.8351016204525401,\n",
       "                0.8369931606597265,\n",
       "                0.8389722276838191,\n",
       "                0.8410329647988207,\n",
       "                0.8426612497039394,\n",
       "                0.8445360200395181,\n",
       "                0.8461172777728181,\n",
       "                0.8475672564185927,\n",
       "                0.8493668618185837,\n",
       "                0.8507738796716915,\n",
       "                0.8523544602554256,\n",
       "                0.8535289370228153,\n",
       "                0.8548489724492188,\n",
       "                0.8562134833509637,\n",
       "                0.8573647526412078,\n",
       "                0.8584289236519238,\n",
       "                0.8593675200521033,\n",
       "                0.8606876897284186,\n",
       "                0.86161615330157,\n",
       "                0.8624240897355012,\n",
       "                0.8632209200318578,\n",
       "                0.8643584190445304,\n",
       "                0.865178907509795,\n",
       "                0.8659454704381256,\n",
       "                0.866636250073438,\n",
       "                0.8672893023063347,\n",
       "                0.8680279865513111,\n",
       "                0.8688557396440912,\n",
       "                0.8694906552262787,\n",
       "                0.8701225484118905,\n",
       "                0.8705728721297936,\n",
       "                0.8711445599243742,\n",
       "                0.8718240025942491,\n",
       "                0.8724040685309828,\n",
       "                0.8730347968881881,\n",
       "                0.8735240140894013,\n",
       "                0.8738871336981934,\n",
       "                0.8746403417908425,\n",
       "                0.8752575077497246,\n",
       "                0.8757702635866862,\n",
       "                0.8761306315376789,\n",
       "                0.8765103161502266,\n",
       "                0.8768489856899603,\n",
       "                0.8771575407837898,\n",
       "                0.8776084355578229,\n",
       "                0.8780081524640426,\n",
       "                0.878386017851158,\n",
       "                0.8787154296314562,\n",
       "                0.8791294327782757,\n",
       "                0.8795680786772737,\n",
       "                0.8798346550639933,\n",
       "                0.8802491089635094,\n",
       "                0.880556160215257,\n",
       "                0.880836266987697,\n",
       "                0.8811096949859702,\n",
       "                0.8814056286662361,\n",
       "                0.8817314175292728,\n",
       "                0.8821519448420161,\n",
       "                0.8824382051384878,\n",
       "                0.8827358614780878,\n",
       "                0.8830907368675144,\n",
       "                0.8834862900352557,\n",
       "                0.883827789139365,\n",
       "                0.884200074768727,\n",
       "                0.88453882674244,\n",
       "                0.8847932637361636,\n",
       "                0.8850987179501378,\n",
       "                0.8853543355926787,\n",
       "                0.8856286675134253,\n",
       "                0.8859532801749155,\n",
       "                0.8862604479355718,\n",
       "                0.8865297261415113])]),\n",
       " 'valid_1': OrderedDict([('auc',\n",
       "               [0.7309701733655254,\n",
       "                0.736373045715325,\n",
       "                0.7383005189754538,\n",
       "                0.7400422873319833,\n",
       "                0.7408900034783664,\n",
       "                0.7407547299642374,\n",
       "                0.7416009015390164,\n",
       "                0.7421204916138662,\n",
       "                0.7425968448967152,\n",
       "                0.7429050353077588,\n",
       "                0.7431111007691791,\n",
       "                0.7430986395363243,\n",
       "                0.7431082556773075,\n",
       "                0.7432839361691341,\n",
       "                0.7430587752677892,\n",
       "                0.7429209126902099,\n",
       "                0.7428897494208678,\n",
       "                0.7428557736055157,\n",
       "                0.7428425343047886,\n",
       "                0.7426937534687414,\n",
       "                0.7425004413471596,\n",
       "                0.7424141925790056,\n",
       "                0.7421940259220124,\n",
       "                0.7420033531796383,\n",
       "                0.7416335629167592,\n",
       "                0.7414692724330099,\n",
       "                0.7411302054418903,\n",
       "                0.740852110219379,\n",
       "                0.7407139353053281,\n",
       "                0.7407423005338765,\n",
       "                0.7406306732739926,\n",
       "                0.7404296380839964,\n",
       "                0.7402198241457164,\n",
       "                0.7400096648627149,\n",
       "                0.739840709713122,\n",
       "                0.7397145028835593,\n",
       "                0.7396102844651457,\n",
       "                0.7394458882584958,\n",
       "                0.739183483166863,\n",
       "                0.739007150777789,\n",
       "                0.7389307115653223,\n",
       "                0.7387650828016411,\n",
       "                0.7386654992243442,\n",
       "                0.7385093716333667,\n",
       "                0.7382757488336101,\n",
       "                0.7382124332900158,\n",
       "                0.7381184730994264,\n",
       "                0.7379929658510742,\n",
       "                0.7378532738850244,\n",
       "                0.7377598088304574,\n",
       "                0.7376125793712379,\n",
       "                0.7375078372315893,\n",
       "                0.7374698244506843,\n",
       "                0.7373623947223927,\n",
       "                0.7372858793403206,\n",
       "                0.7371561585946812,\n",
       "                0.7370455662644808,\n",
       "                0.7369670985989047,\n",
       "                0.736821765581619,\n",
       "                0.7368004119709444,\n",
       "                0.7367022469456873,\n",
       "                0.7365601012155709,\n",
       "                0.736464636426777,\n",
       "                0.7363676227381379,\n",
       "                0.7362812830032713,\n",
       "                0.7361883812440346,\n",
       "                0.7361816924335449,\n",
       "                0.7360988322803783,\n",
       "                0.7360421832186249,\n",
       "                0.7359519243303775,\n",
       "                0.7358355331821239,\n",
       "                0.7357745539934794,\n",
       "                0.735682116478908,\n",
       "                0.7355919119202621,\n",
       "                0.7355351428612449,\n",
       "                0.7354643522168928,\n",
       "                0.7354617613413987,\n",
       "                0.7353723252359492,\n",
       "                0.735292486674335,\n",
       "                0.7352169776773122])])}"
      ]
     },
     "execution_count": 50,
     "metadata": {},
     "output_type": "execute_result"
    }
   ],
   "source": [
    "evals_result"
   ]
  },
  {
   "cell_type": "code",
   "execution_count": 52,
   "metadata": {},
   "outputs": [
    {
     "name": "stdout",
     "output_type": "stream",
     "text": [
      "画特征重要性排序...\n"
     ]
    },
    {
     "data": {
      "image/png": "[encoded data removed]",
      "text/plain": [
       "<Figure size 432x288 with 1 Axes>"
      ]
     },
     "metadata": {
      "needs_background": "light"
     },
     "output_type": "display_data"
    }
   ],
   "source": [
    "print('画特征重要性排序...')\n",
    "ax = lgb.plot_importance(lgbm_model, max_num_features=15)#max_features表示最多展示出前10个重要性特征，可以自行设置\n",
    "plt.show()\n"
   ]
  },
  {
   "cell_type": "code",
   "execution_count": 87,
   "metadata": {},
   "outputs": [],
   "source": [
    "from sklearn.metrics import confusion_matrix\n",
    "\n",
    "from IPython.display import display\n",
    "pd.options.display.max_columns = None\n",
    "#display(cm)\n",
    "\n",
    "def cm_analysis(y_true, y_pred, labels, ymap=None, figsize=(10,10)):\n",
    "\n",
    "    if ymap is not None:\n",
    "        y_pred = [ymap[yi] for yi in y_pred]\n",
    "        y_true = [ymap[yi] for yi in y_true]\n",
    "        labels = [ymap[yi] for yi in labels]\n",
    "    #cm = confusion_matrix(y_true, y_pred, labels=labels)\n",
    "    cm = confusion_matrix(y_val.argmax(axis=1), y_pred.argmax(axis=1))\n",
    "    cm_sum = np.sum(cm, axis=1, keepdims=True)\n",
    "    cm_perc = cm / cm_sum.astype(float) * 100\n",
    "    annot = np.empty_like(cm).astype(str)\n",
    "    nrows, ncols = cm.shape\n",
    "    for i in range(nrows):\n",
    "        for j in range(ncols):\n",
    "            c = cm[i, j]\n",
    "            p = cm_perc[i, j]\n",
    "            if i == j:\n",
    "                s = cm_sum[i]\n",
    "                annot[i, j] = '%.1f%%\\n%d/%d' % (p, c, s)\n",
    "            elif c == 0:\n",
    "                annot[i, j] = ''\n",
    "            else:\n",
    "                annot[i, j] = '%.1f%%\\n%d' % (p, c)\n",
    "    cm = pd.DataFrame(cm, index=labels, columns=labels)\n",
    "    cm.index.name = 'Actual'\n",
    "    cm.columns.name = 'Predicted'\n",
    "    fig, ax = plt.subplots(figsize=figsize)\n",
    "    sns.heatmap(cm, annot=annot, fmt='', ax=ax)\n",
    "    #plt.savefig(filename)\n",
    "    plt.show()"
   ]
  },
  {
   "cell_type": "code",
   "execution_count": 86,
   "metadata": {},
   "outputs": [
    {
     "name": "stdout",
     "output_type": "stream",
     "text": [
      "[0.32715071 0.36259681 0.10393143 ... 0.18359685 0.00063664 0.00103596] [1, 0]\n"
     ]
    }
   ],
   "source": [
    "lists = train_features[\"target\"].value_counts().index\n",
    "print(predictions, list(lists))"
   ]
  },
  {
   "cell_type": "code",
   "execution_count": null,
   "metadata": {},
   "outputs": [],
   "source": []
  },
  {
   "cell_type": "code",
   "execution_count": 69,
   "metadata": {},
   "outputs": [],
   "source": [
    "# print('Plotting split value histogram...')\n",
    "# ax = lgb.plot_split_value_histogram(lgbm_model, feature='repeat_precentage', bins='auto')\n",
    "# plt.show()"
   ]
  },
  {
   "cell_type": "code",
   "execution_count": 70,
   "metadata": {},
   "outputs": [],
   "source": [
    "# print('Plot 3th tree...')  # 画出决策树，其中的第三颗\n",
    "# ax = lgb.plot_tree(lgbm_model, tree_index=3, figsize=(20, 8), show_info=['split_gain'])\n",
    "# plt.show()\n"
   ]
  },
  {
   "cell_type": "code",
   "execution_count": 71,
   "metadata": {},
   "outputs": [],
   "source": [
    "#!conda install graphviz python-graphviz -y"
   ]
  },
  {
   "cell_type": "code",
   "execution_count": 72,
   "metadata": {},
   "outputs": [],
   "source": [
    "#!sudo apt-get install graphviz"
   ]
  },
  {
   "cell_type": "code",
   "execution_count": 73,
   "metadata": {},
   "outputs": [],
   "source": [
    "#!pip install graphviz==0.3.3"
   ]
  },
  {
   "cell_type": "code",
   "execution_count": 63,
   "metadata": {},
   "outputs": [],
   "source": []
  },
  {
   "cell_type": "code",
   "execution_count": 74,
   "metadata": {},
   "outputs": [],
   "source": [
    "# #print('导出决策树的pdf图像到本地')#这里需要安装graphviz应用程序和python安装包\n",
    "# #graph = lgb.create_tree_digraph(lgbm_model, tree_index=3, name='Tree3')\n",
    "\n",
    "# ax = lgb.create_tree_digraph(lgbm_model, tree_index=3)\n",
    "# with open('fst.svg', 'w') as f:\n",
    "#     f.write(ax._repr_svg_())\n",
    "\n",
    "# #dot.render(graph, view=True)"
   ]
  },
  {
   "cell_type": "code",
   "execution_count": 75,
   "metadata": {},
   "outputs": [],
   "source": [
    "import pandas as pd \n",
    "from sklearn.model_selection import train_test_split\n",
    "from sklearn.linear_model import LogisticRegressionCV\n",
    "from sklearn.svm import SVC\n",
    "from sklearn.tree import DecisionTreeClassifier\n",
    "from sklearn.ensemble import RandomForestClassifier, GradientBoostingClassifier\n",
    "import lightgbm as lgb\n",
    "from xgboost import XGBClassifier\n",
    "import matplotlib.pyplot as plt\n",
    "from sklearn import metrics\n",
    "from sklearn.preprocessing import StandardScaler"
   ]
  },
  {
   "cell_type": "code",
   "execution_count": null,
   "metadata": {},
   "outputs": [],
   "source": []
  },
  {
   "cell_type": "code",
   "execution_count": 77,
   "metadata": {},
   "outputs": [],
   "source": [
    "lgb_model = lgb.LGBMClassifier(n_estimators=100)\n",
    "\n"
   ]
  },
  {
   "cell_type": "code",
   "execution_count": 82,
   "metadata": {},
   "outputs": [],
   "source": [
    "def get_metric(clf, X, y_true):\n",
    "    y_pred = clf.predict(X)\n",
    "    y_proba = clf.predict_proba(X)\n",
    "\n",
    "    acc = metrics.accuracy_score(y_true, y_pred)\n",
    "    p = metrics.precision_score(y_true, y_pred)\n",
    "    r = metrics.recall_score(y_true, y_pred)\n",
    "    f1 = metrics.f1_score(y_true, y_pred)\n",
    "    fpr, tpr, thresholds = metrics.roc_curve(y_true, y_proba[:, 1])\n",
    "    auc = metrics.auc(fpr, tpr)\n",
    "    return acc, p, r, f1, fpr, tpr, auc\n",
    "\n",
    "scaler = StandardScaler()\n",
    "\n",
    "X_train = train_features.drop(['target'], axis=1)\n",
    "y_ = train_features['target'].values\n",
    "X_train, X_test, y_train, y_test = train_test_split(X_train, y_, test_size=0.3, random_state=2018)\n",
    "\n",
    "#X_test = test_features\n",
    "\n",
    "# X_train = scaler.fit_transform(X)\n",
    "# X_test = scaler.fit_transform(X_test)"
   ]
  },
  {
   "cell_type": "code",
   "execution_count": 83,
   "metadata": {},
   "outputs": [],
   "source": [
    "fprs_train = []\n",
    "tprs_train = []\n",
    "aucs_train = []\n",
    "fprs_test = []\n",
    "tprs_test = []\n",
    "aucs_test = []\n",
    "\n",
    "lgb_model.fit(X_train, y_train)\n",
    "acc, p, r, f1, fpr_train, tpr_train, auc_train = get_metric(lgb_model, X_train, y_train)\n",
    "fprs_train.append(fpr_train)\n",
    "tprs_train.append(tpr_train)\n",
    "aucs_train.append(auc_train)"
   ]
  },
  {
   "cell_type": "code",
   "execution_count": 84,
   "metadata": {},
   "outputs": [
    {
     "name": "stdout",
     "output_type": "stream",
     "text": [
      "0.7307052100309206 0.7330179285171478 0.7315891293980092 0.732302832024257\n"
     ]
    }
   ],
   "source": [
    "print(acc, p, r, f1)"
   ]
  },
  {
   "cell_type": "code",
   "execution_count": 89,
   "metadata": {},
   "outputs": [],
   "source": [
    "acc_t, p_t, r_t, f1_t, fpr_test, tpr_test, auc_test = get_metric(lgb_model, X_test, y_test)\n",
    "fprs_test.append(fpr_test)\n",
    "tprs_test.append(tpr_test)\n",
    "aucs_test.append(auc_test)"
   ]
  },
  {
   "cell_type": "code",
   "execution_count": 90,
   "metadata": {},
   "outputs": [
    {
     "name": "stdout",
     "output_type": "stream",
     "text": [
      "0.7270491129238497 0.7293776913510133 0.7282050499903105 0.7287908989692203\n"
     ]
    }
   ],
   "source": [
    "print(acc_t, p_t, r_t, f1_t)"
   ]
  },
  {
   "cell_type": "code",
   "execution_count": 93,
   "metadata": {},
   "outputs": [
    {
     "data": {
      "text/plain": [
       "array([0.32715071, 0.36259681, 0.10393143, 0.04597941, 0.10050211,\n",
       "       0.15250847, 0.16088236, 0.56351587, 0.11929213, 0.72602837])"
      ]
     },
     "execution_count": 93,
     "metadata": {},
     "output_type": "execute_result"
    }
   ],
   "source": [
    "predictions[:10]"
   ]
  },
  {
   "cell_type": "code",
   "execution_count": 97,
   "metadata": {},
   "outputs": [],
   "source": [
    "# y_ = train_features['target'].values\n",
    "# cm_analysis(y_, predictions, list(lists), ymap=None, figsize=(19,12))"
   ]
  },
  {
   "cell_type": "code",
   "execution_count": null,
   "metadata": {},
   "outputs": [],
   "source": []
  },
  {
   "cell_type": "code",
   "execution_count": null,
   "metadata": {},
   "outputs": [],
   "source": []
  },
  {
   "cell_type": "code",
   "execution_count": null,
   "metadata": {},
   "outputs": [],
   "source": []
  },
  {
   "cell_type": "code",
   "execution_count": 99,
   "metadata": {},
   "outputs": [
    {
     "data": {
      "image/png": "[encoded data removed]",
      "text/plain": [
       "<Figure size 432x288 with 1 Axes>"
      ]
     },
     "metadata": {
      "needs_background": "light"
     },
     "output_type": "display_data"
    }
   ],
   "source": [
    "plt.figure()\n",
    "lw = 2\n",
    "plt.plot(fpr_train, tpr_train, color='darkorange', lw=lw, label='train (AUC:%0.2f)' % auc_train)\n",
    "#plt.plot(fpr_test, tpr_test, color='cornflowerblue', lw=lw, label='test (AUC:%0.2f)' % auc_test)\n",
    "plt.plot([0, 1], [0, 1], color='navy', lw=lw, linestyle='--')\n",
    "plt.xlim([0.0, 1.0])\n",
    "plt.ylim([0.0, 1.05])\n",
    "plt.xlabel('False Positive Rate')\n",
    "plt.ylabel('True Positive Rate')\n",
    "#plt.title('Receiver operating characteristic of '+name)\n",
    "plt.legend(loc=\"lower right\")\n",
    "plt.grid(True)\n",
    "plt.show()"
   ]
  },
  {
   "cell_type": "code",
   "execution_count": null,
   "metadata": {},
   "outputs": [],
   "source": []
  }
 ],
 "metadata": {
  "environment": {
   "name": "common-cpu.m48",
   "type": "gcloud",
   "uri": "gcr.io/deeplearning-platform-release/base-cpu:m48"
  },
  "kernelspec": {
   "display_name": "Python 3",
   "language": "python",
   "name": "python3"
  },
  "language_info": {
   "codemirror_mode": {
    "name": "ipython",
    "version": 3
   },
   "file_extension": ".py",
   "mimetype": "text/x-python",
   "name": "python",
   "nbconvert_exporter": "python",
   "pygments_lexer": "ipython3",
   "version": "3.7.6"
  }
 },
 "nbformat": 4,
 "nbformat_minor": 4
}
