{
 "cells": [
  {
   "cell_type": "code",
   "execution_count": 2,
   "metadata": {},
   "outputs": [
    {
     "name": "stderr",
     "output_type": "stream",
     "text": [
      "/opt/conda/lib/python3.7/site-packages/fuzzywuzzy/fuzz.py:11: UserWarning: Using slow pure-python SequenceMatcher. Install python-Levenshtein to remove this warning\n",
      "  warnings.warn('Using slow pure-python SequenceMatcher. Install python-Levenshtein to remove this warning')\n",
      "[nltk_data] Downloading package stopwords to\n",
      "[nltk_data]     /home/jupyter/nltk_data...\n",
      "[nltk_data]   Package stopwords is already up-to-date!\n"
     ]
    },
    {
     "data": {
      "text/plain": [
       "True"
      ]
     },
     "execution_count": 2,
     "metadata": {},
     "output_type": "execute_result"
    }
   ],
   "source": [
    "import pandas as pd\n",
    "import numpy as np\n",
    "from sklearn.feature_extraction.text import CountVectorizer\n",
    "from sklearn.metrics.pairwise import cosine_similarity\n",
    "import matplotlib.pyplot as plt\n",
    "from scipy.sparse import csr_matrix\n",
    "from sklearn.neighbors import NearestNeighbors\n",
    "from fuzzywuzzy import fuzz\n",
    "from ast import literal_eval\n",
    "from surprise import SVD, SVDpp, KNNBasic\n",
    "from surprise import Dataset\n",
    "from surprise.model_selection import cross_validate,train_test_split, GridSearchCV\n",
    "from surprise import NormalPredictor\n",
    "from surprise import Reader\n",
    "from surprise import accuracy\n",
    "\n",
    "import re \n",
    "from sklearn.feature_extraction.text import TfidfVectorizer, TfidfTransformer\n",
    "from nltk.corpus import stopwords\n",
    "from nltk.stem.porter import PorterStemmer\n",
    "import nltk\n",
    "\n",
    "nltk.download('stopwords')"
   ]
  },
  {
   "cell_type": "code",
   "execution_count": 3,
   "metadata": {},
   "outputs": [],
   "source": [
    "%matplotlib inline\n",
    "import pandas as pd\n",
    "import numpy as np\n",
    "import matplotlib.pyplot as plt\n",
    "import seaborn as sns\n",
    "from scipy import stats\n",
    "from ast import literal_eval\n",
    "from sklearn.feature_extraction.text import TfidfVectorizer, CountVectorizer\n",
    "from sklearn.metrics.pairwise import linear_kernel, cosine_similarity\n",
    "from nltk.stem.snowball import SnowballStemmer\n",
    "from nltk.stem.wordnet import WordNetLemmatizer\n",
    "from nltk.corpus import wordnet\n",
    "from surprise import Reader, Dataset, SVD\n",
    "from surprise.model_selection import cross_validate\n",
    "import lightgbm as lgb\n",
    "import warnings; warnings.simplefilter('ignore')"
   ]
  },
  {
   "cell_type": "code",
   "execution_count": 4,
   "metadata": {},
   "outputs": [
    {
     "data": {
      "text/plain": [
       "1"
      ]
     },
     "execution_count": 4,
     "metadata": {},
     "output_type": "execute_result"
    }
   ],
   "source": [
    "1"
   ]
  },
  {
   "cell_type": "code",
   "execution_count": 5,
   "metadata": {},
   "outputs": [],
   "source": [
    "train_features = pd.read_csv('train_features.csv')\n",
    "test_features = pd.read_csv('test_features.csv')"
   ]
  },
  {
   "cell_type": "code",
   "execution_count": 6,
   "metadata": {},
   "outputs": [],
   "source": [
    "pd.options.display.max_columns = None\n",
    "pd.options.display.max_rows = None\n",
    "\n",
    "np.set_printoptions(threshold=np.inf)"
   ]
  },
  {
   "cell_type": "code",
   "execution_count": 7,
   "metadata": {},
   "outputs": [],
   "source": [
    "train_features.drop('song_length_y',axis = 1 , inplace =True)\n",
    "train_features.drop('genre_ids_y',axis = 1 , inplace =True)\n",
    "train_features.drop('artist_name_y',axis = 1 , inplace =True)\n",
    "train_features.drop('composer_y',axis = 1 , inplace =True)\n",
    "train_features.drop('lyricist_y',axis = 1 , inplace =True)\n",
    "train_features.drop('language_y',axis = 1 , inplace =True)\n",
    "\n",
    "test_features.drop('song_length_y',axis = 1 , inplace =True)\n",
    "test_features.drop('genre_ids_y',axis = 1 , inplace =True)\n",
    "test_features.drop('artist_name_y',axis = 1 , inplace =True)\n",
    "test_features.drop('composer_y',axis = 1 , inplace =True)\n",
    "test_features.drop('lyricist_y',axis = 1 , inplace =True)\n",
    "test_features.drop('language_y',axis = 1 , inplace =True)"
   ]
  },
  {
   "cell_type": "code",
   "execution_count": 8,
   "metadata": {},
   "outputs": [],
   "source": [
    "train_features.drop('lyricist_x',axis = 1 , inplace =True)\n",
    "test_features.drop('lyricist_x',axis = 1 , inplace =True)\n",
    "\n",
    "train_features.drop('source_type',axis = 1 , inplace =True)\n",
    "test_features.drop('source_type',axis = 1 , inplace =True)\n",
    "\n"
   ]
  },
  {
   "cell_type": "code",
   "execution_count": null,
   "metadata": {},
   "outputs": [],
   "source": []
  },
  {
   "cell_type": "code",
   "execution_count": 9,
   "metadata": {},
   "outputs": [],
   "source": [
    "def keepwords(text):\n",
    "    temp = re.sub('[^a-zA-Z]', ' ', str(text))\n",
    "    return temp.lower() + ' '\n",
    "\n",
    "#train_features['name'] = train_features['name'].astype('category')\n",
    "train_features['name'] = train_features.name.apply(lambda x: keepwords(x))\n",
    "test_features['name'] = test_features.name.apply(lambda x: keepwords(x))\n",
    "\n",
    "#train_features['artist_name_x'] = train_features['artist_name_x'].astype('category')\n",
    "train_features['artist_name_x'] = train_features.artist_name_x.apply(lambda x: keepwords(x))\n",
    "test_features['artist_name_x'] = test_features.artist_name_x.apply(lambda x: keepwords(x))\n",
    "\n",
    "#train_features['source_screen_name'] = train_features['source_screen_name'].astype('category')\n",
    "train_features['source_screen_name'] = train_features.source_screen_name.apply(lambda x: keepwords(x))\n",
    "test_features['source_screen_name'] = test_features.source_screen_name.apply(lambda x: keepwords(x))\n",
    "\n",
    "train_features['composer_x'] = train_features.composer_x.apply(lambda x: keepwords(x))\n",
    "test_features['composer_x'] = test_features.composer_x.apply(lambda x: keepwords(x))\n",
    "\n"
   ]
  },
  {
   "cell_type": "code",
   "execution_count": 10,
   "metadata": {},
   "outputs": [
    {
     "data": {
      "text/plain": [
       "1"
      ]
     },
     "execution_count": 10,
     "metadata": {},
     "output_type": "execute_result"
    }
   ],
   "source": [
    "1"
   ]
  },
  {
   "cell_type": "code",
   "execution_count": 11,
   "metadata": {},
   "outputs": [],
   "source": [
    "train_features['source_system_tab'] = train_features['source_system_tab'].fillna('')\n",
    "train_features['source_screen_name'] = train_features['source_screen_name'].fillna('')\n",
    "#train_features['source_type'] = train_features['source_type'].fillna('')\n",
    "train_features['song_length_x'] = train_features['song_length_x'].fillna(0)\n",
    "train_features['genre_ids_x'] = train_features['genre_ids_x'].fillna(0)\n",
    "train_features['artist_name_x'] = train_features['artist_name_x'].fillna('')\n",
    "#train_features['lyricist_x'] = train_features['lyricist_x'].fillna('')\n",
    "train_features['composer_x'] = train_features['composer_x'].fillna('')\n",
    "train_features['language_x'] = train_features['language_x'].fillna(0)\n",
    "train_features['name'] = train_features['name'].fillna('')\n",
    "train_features['isrc'] = train_features['isrc'].fillna(0)\n",
    "train_features['city'] = train_features['city'].fillna(0)\n",
    "train_features['bd'] = train_features['bd'].fillna(0)\n",
    "train_features['gender'] = train_features['gender'].fillna('')\n",
    "train_features['registered_via'] = train_features['registered_via'].fillna(0)\n",
    "train_features['registration_init_time'] = train_features['registration_init_time'].fillna('1901-01-01')\n",
    "train_features['expiration_date'] = train_features['expiration_date'].fillna('1901-01-01')\n",
    "train_features['repeat_count'] = train_features['repeat_count'].fillna(0)\n",
    "train_features['play_count'] = train_features['play_count'].fillna(0)\n",
    "train_features['repeat_percentage'] = train_features['repeat_percentage'].fillna(0)\n",
    "train_features['repeat_count_artist'] = train_features['repeat_count_artist'].fillna(0)\n",
    "train_features['play_count_artist'] = train_features['play_count_artist'].fillna(0)\n",
    "train_features['repeat_count_msno'] = train_features['repeat_count_msno'].fillna(0)\n",
    "train_features['play_count_msno'] = train_features['play_count_msno'].fillna(0)\n",
    "train_features['repeat_percentage_msno'] = train_features['repeat_percentage_msno'].fillna(0)\n",
    "train_features['song_year'] = train_features['song_year'].fillna(0)\n",
    "#train_features['description'] = train_features['description'].fillna(0)\n",
    "\n",
    "\n"
   ]
  },
  {
   "cell_type": "code",
   "execution_count": 12,
   "metadata": {},
   "outputs": [],
   "source": [
    "train_features['description'] = train_features['name'] + train_features['artist_name_x']\n",
    "test_features['description'] = test_features['name'] + test_features['artist_name_x']\n",
    "train_features['description'] = train_features['description'].fillna('')\n",
    "tf = TfidfVectorizer(analyzer='word', ngram_range=(1,2), min_df=0, stop_words='english')"
   ]
  },
  {
   "cell_type": "code",
   "execution_count": 13,
   "metadata": {},
   "outputs": [],
   "source": [
    "TFidvectorizer = TfidfVectorizer(max_df=0.5, max_features=10000,\n",
    "                                 min_df=2, stop_words='english',\n",
    "                                 use_idf=True)\n",
    "tf_vector = TfidfVectorizer()\n",
    "transformer = TfidfTransformer()"
   ]
  },
  {
   "cell_type": "code",
   "execution_count": 14,
   "metadata": {},
   "outputs": [],
   "source": [
    "#tfidf = transformer.fit_transform(tf_vector.fit_transform(train_features.description))\n",
    "tfidf = transformer.fit_transform(tf_vector.fit_transform(test_features.description))\n"
   ]
  },
  {
   "cell_type": "code",
   "execution_count": 17,
   "metadata": {},
   "outputs": [],
   "source": [
    "#cosine_sim = cosine_similarity(tfidf, tfidf)"
   ]
  },
  {
   "cell_type": "code",
   "execution_count": 15,
   "metadata": {},
   "outputs": [
    {
     "data": {
      "text/plain": [
       "(837941, 32348)"
      ]
     },
     "execution_count": 15,
     "metadata": {},
     "output_type": "execute_result"
    }
   ],
   "source": [
    "tfidf.shape"
   ]
  },
  {
   "cell_type": "code",
   "execution_count": 16,
   "metadata": {},
   "outputs": [
    {
     "data": {
      "text/plain": [
       "44"
      ]
     },
     "execution_count": 16,
     "metadata": {},
     "output_type": "execute_result"
    }
   ],
   "source": [
    "import gc\n",
    "gc.collect()"
   ]
  },
  {
   "cell_type": "code",
   "execution_count": 17,
   "metadata": {},
   "outputs": [],
   "source": [
    "chunk_size = 500\n",
    "matrix_len = tfidf.shape[0] # Not sparse numpy.ndarray\n",
    "\n",
    "def similarity_cosine_by_chunk(start, end):\n",
    "    if end > matrix_len:\n",
    "        end = matrix_len\n",
    "    return cosine_similarity(X=tfidf[start:end], Y=tfidf[start:end]) # scikit-learn function\n",
    "\n"
   ]
  },
  {
   "cell_type": "code",
   "execution_count": 18,
   "metadata": {},
   "outputs": [
    {
     "name": "stdout",
     "output_type": "stream",
     "text": [
      "(0,)\n",
      "(20000, 500)\n",
      "(40000, 500)\n",
      "(60000, 500)\n",
      "(80000, 500)\n",
      "(100000, 500)\n",
      "(120000, 500)\n",
      "(140000, 500)\n",
      "(160000, 500)\n",
      "(180000, 500)\n",
      "(200000, 500)\n",
      "(220000, 500)\n",
      "(240000, 500)\n",
      "(260000, 500)\n",
      "(280000, 500)\n",
      "(300000, 500)\n",
      "(320000, 500)\n",
      "(340000, 500)\n",
      "(360000, 500)\n",
      "(380000, 500)\n",
      "(400000, 500)\n",
      "(420000, 500)\n",
      "(440000, 500)\n",
      "(460000, 500)\n",
      "(480000, 500)\n",
      "(500000, 500)\n",
      "(520000, 500)\n",
      "(540000, 500)\n",
      "(560000, 500)\n",
      "(580000, 500)\n",
      "(600000, 500)\n",
      "(620000, 500)\n",
      "(640000, 500)\n",
      "(660000, 500)\n",
      "(680000, 500)\n",
      "(700000, 500)\n",
      "(720000, 500)\n",
      "(740000, 500)\n",
      "(760000, 500)\n",
      "(780000, 500)\n",
      "(800000, 500)\n",
      "(820000, 500)\n"
     ]
    },
    {
     "ename": "ValueError",
     "evalue": "all the input array dimensions for the concatenation axis must match exactly, but along dimension 1, the array at index 0 has size 500 and the array at index 1 has size 441",
     "output_type": "error",
     "traceback": [
      "\u001b[0;31m---------------------------------------------------------------------------\u001b[0m",
      "\u001b[0;31mValueError\u001b[0m                                Traceback (most recent call last)",
      "\u001b[0;32m<ipython-input-18-df93abef5981>\u001b[0m in \u001b[0;36m<module>\u001b[0;34m\u001b[0m\n\u001b[1;32m     10\u001b[0m         \u001b[0;32mdel\u001b[0m \u001b[0mcosine_similarity_chunk\u001b[0m\u001b[0;34m\u001b[0m\u001b[0;34m\u001b[0m\u001b[0m\n\u001b[1;32m     11\u001b[0m     \u001b[0;32melse\u001b[0m\u001b[0;34m:\u001b[0m\u001b[0;34m\u001b[0m\u001b[0;34m\u001b[0m\u001b[0m\n\u001b[0;32m---> 12\u001b[0;31m         \u001b[0mcosine_sim\u001b[0m \u001b[0;34m=\u001b[0m  \u001b[0mnp\u001b[0m\u001b[0;34m.\u001b[0m\u001b[0mconcatenate\u001b[0m\u001b[0;34m(\u001b[0m\u001b[0;34m(\u001b[0m\u001b[0mcosine_sim\u001b[0m\u001b[0;34m,\u001b[0m\u001b[0mcosine_similarity_chunk\u001b[0m\u001b[0;34m)\u001b[0m\u001b[0;34m,\u001b[0m \u001b[0maxis\u001b[0m\u001b[0;34m=\u001b[0m\u001b[0;36m0\u001b[0m\u001b[0;34m)\u001b[0m\u001b[0;34m\u001b[0m\u001b[0;34m\u001b[0m\u001b[0m\n\u001b[0m\u001b[1;32m     13\u001b[0m         \u001b[0;31m#cosine_sim_list.append(cosine_similarity_chunk)\u001b[0m\u001b[0;34m\u001b[0m\u001b[0;34m\u001b[0m\u001b[0;34m\u001b[0m\u001b[0m\n\u001b[1;32m     14\u001b[0m         \u001b[0;32mdel\u001b[0m \u001b[0mcosine_similarity_chunk\u001b[0m\u001b[0;34m\u001b[0m\u001b[0;34m\u001b[0m\u001b[0m\n",
      "\u001b[0;32m<__array_function__ internals>\u001b[0m in \u001b[0;36mconcatenate\u001b[0;34m(*args, **kwargs)\u001b[0m\n",
      "\u001b[0;31mValueError\u001b[0m: all the input array dimensions for the concatenation axis must match exactly, but along dimension 1, the array at index 0 has size 500 and the array at index 1 has size 441"
     ]
    }
   ],
   "source": [
    "cosine_sim = np.array([])  # to keep the final result of similarities\n",
    "cosine_sim_list = []\n",
    "for chunk_start in range(0, matrix_len, chunk_size):\n",
    "    if cosine_sim.shape[0] % 20000 == 0:\n",
    "        print(cosine_sim.shape)\n",
    "    cosine_similarity_chunk = similarity_cosine_by_chunk(chunk_start, chunk_start + chunk_size)\n",
    "    if cosine_sim.shape[0] == 0:\n",
    "        cosine_sim =  np.copy(cosine_similarity_chunk)\n",
    "        #cosine_sim_list.append(cosine_similarity_chunk)\n",
    "        del cosine_similarity_chunk\n",
    "    else:\n",
    "        cosine_sim =  np.concatenate((cosine_sim,cosine_similarity_chunk), axis=0)\n",
    "        #cosine_sim_list.append(cosine_similarity_chunk)\n",
    "        del cosine_similarity_chunk\n"
   ]
  },
  {
   "cell_type": "code",
   "execution_count": 186,
   "metadata": {},
   "outputs": [
    {
     "name": "stdout",
     "output_type": "stream",
     "text": [
      "(837500, 500)\n"
     ]
    },
    {
     "data": {
      "text/plain": [
       "0.0"
      ]
     },
     "execution_count": 186,
     "metadata": {},
     "output_type": "execute_result"
    }
   ],
   "source": [
    "np.savetxt(\"cosine_sim.txt\", cosine_sim,fmt='%f',delimiter=',')\n",
    "print(cosine_sim.shape)\n",
    "len(cosine_sim)\n",
    "cosine_sim[1][499]"
   ]
  },
  {
   "cell_type": "code",
   "execution_count": 187,
   "metadata": {},
   "outputs": [
    {
     "ename": "KeyboardInterrupt",
     "evalue": "",
     "output_type": "error",
     "traceback": [
      "\u001b[0;31m---------------------------------------------------------------------------\u001b[0m",
      "\u001b[0;31mKeyboardInterrupt\u001b[0m                         Traceback (most recent call last)",
      "\u001b[0;32m<ipython-input-187-27555a307eac>\u001b[0m in \u001b[0;36m<module>\u001b[0;34m\u001b[0m\n\u001b[0;32m----> 1\u001b[0;31m \u001b[0masd\u001b[0m \u001b[0;34m=\u001b[0m \u001b[0mnp\u001b[0m\u001b[0;34m.\u001b[0m\u001b[0mloadtxt\u001b[0m\u001b[0;34m(\u001b[0m\u001b[0;34m'cosine_sim.txt'\u001b[0m\u001b[0;34m,\u001b[0m\u001b[0mdelimiter\u001b[0m\u001b[0;34m=\u001b[0m\u001b[0;34m','\u001b[0m\u001b[0;34m)\u001b[0m\u001b[0;34m\u001b[0m\u001b[0;34m\u001b[0m\u001b[0m\n\u001b[0m\u001b[1;32m      2\u001b[0m \u001b[0masd\u001b[0m\u001b[0;34m.\u001b[0m\u001b[0mshape\u001b[0m\u001b[0;34m\u001b[0m\u001b[0;34m\u001b[0m\u001b[0m\n",
      "\u001b[0;32m/opt/conda/lib/python3.7/site-packages/numpy/lib/npyio.py\u001b[0m in \u001b[0;36mloadtxt\u001b[0;34m(fname, dtype, comments, delimiter, converters, skiprows, usecols, unpack, ndmin, encoding, max_rows)\u001b[0m\n\u001b[1;32m   1157\u001b[0m         \u001b[0;31m# converting the data\u001b[0m\u001b[0;34m\u001b[0m\u001b[0;34m\u001b[0m\u001b[0;34m\u001b[0m\u001b[0m\n\u001b[1;32m   1158\u001b[0m         \u001b[0mX\u001b[0m \u001b[0;34m=\u001b[0m \u001b[0;32mNone\u001b[0m\u001b[0;34m\u001b[0m\u001b[0;34m\u001b[0m\u001b[0m\n\u001b[0;32m-> 1159\u001b[0;31m         \u001b[0;32mfor\u001b[0m \u001b[0mx\u001b[0m \u001b[0;32min\u001b[0m \u001b[0mread_data\u001b[0m\u001b[0;34m(\u001b[0m\u001b[0m_loadtxt_chunksize\u001b[0m\u001b[0;34m)\u001b[0m\u001b[0;34m:\u001b[0m\u001b[0;34m\u001b[0m\u001b[0;34m\u001b[0m\u001b[0m\n\u001b[0m\u001b[1;32m   1160\u001b[0m             \u001b[0;32mif\u001b[0m \u001b[0mX\u001b[0m \u001b[0;32mis\u001b[0m \u001b[0;32mNone\u001b[0m\u001b[0;34m:\u001b[0m\u001b[0;34m\u001b[0m\u001b[0;34m\u001b[0m\u001b[0m\n\u001b[1;32m   1161\u001b[0m                 \u001b[0mX\u001b[0m \u001b[0;34m=\u001b[0m \u001b[0mnp\u001b[0m\u001b[0;34m.\u001b[0m\u001b[0marray\u001b[0m\u001b[0;34m(\u001b[0m\u001b[0mx\u001b[0m\u001b[0;34m,\u001b[0m \u001b[0mdtype\u001b[0m\u001b[0;34m)\u001b[0m\u001b[0;34m\u001b[0m\u001b[0;34m\u001b[0m\u001b[0m\n",
      "\u001b[0;32m/opt/conda/lib/python3.7/site-packages/numpy/lib/npyio.py\u001b[0m in \u001b[0;36mread_data\u001b[0;34m(chunk_size)\u001b[0m\n\u001b[1;32m   1085\u001b[0m \u001b[0;34m\u001b[0m\u001b[0m\n\u001b[1;32m   1086\u001b[0m             \u001b[0;31m# Convert each value according to its column and store\u001b[0m\u001b[0;34m\u001b[0m\u001b[0;34m\u001b[0m\u001b[0;34m\u001b[0m\u001b[0m\n\u001b[0;32m-> 1087\u001b[0;31m             \u001b[0mitems\u001b[0m \u001b[0;34m=\u001b[0m \u001b[0;34m[\u001b[0m\u001b[0mconv\u001b[0m\u001b[0;34m(\u001b[0m\u001b[0mval\u001b[0m\u001b[0;34m)\u001b[0m \u001b[0;32mfor\u001b[0m \u001b[0;34m(\u001b[0m\u001b[0mconv\u001b[0m\u001b[0;34m,\u001b[0m \u001b[0mval\u001b[0m\u001b[0;34m)\u001b[0m \u001b[0;32min\u001b[0m \u001b[0mzip\u001b[0m\u001b[0;34m(\u001b[0m\u001b[0mconverters\u001b[0m\u001b[0;34m,\u001b[0m \u001b[0mvals\u001b[0m\u001b[0;34m)\u001b[0m\u001b[0;34m]\u001b[0m\u001b[0;34m\u001b[0m\u001b[0;34m\u001b[0m\u001b[0m\n\u001b[0m\u001b[1;32m   1088\u001b[0m \u001b[0;34m\u001b[0m\u001b[0m\n\u001b[1;32m   1089\u001b[0m             \u001b[0;31m# Then pack it according to the dtype's nesting\u001b[0m\u001b[0;34m\u001b[0m\u001b[0;34m\u001b[0m\u001b[0;34m\u001b[0m\u001b[0m\n",
      "\u001b[0;32m/opt/conda/lib/python3.7/site-packages/numpy/lib/npyio.py\u001b[0m in \u001b[0;36m<listcomp>\u001b[0;34m(.0)\u001b[0m\n\u001b[1;32m   1085\u001b[0m \u001b[0;34m\u001b[0m\u001b[0m\n\u001b[1;32m   1086\u001b[0m             \u001b[0;31m# Convert each value according to its column and store\u001b[0m\u001b[0;34m\u001b[0m\u001b[0;34m\u001b[0m\u001b[0;34m\u001b[0m\u001b[0m\n\u001b[0;32m-> 1087\u001b[0;31m             \u001b[0mitems\u001b[0m \u001b[0;34m=\u001b[0m \u001b[0;34m[\u001b[0m\u001b[0mconv\u001b[0m\u001b[0;34m(\u001b[0m\u001b[0mval\u001b[0m\u001b[0;34m)\u001b[0m \u001b[0;32mfor\u001b[0m \u001b[0;34m(\u001b[0m\u001b[0mconv\u001b[0m\u001b[0;34m,\u001b[0m \u001b[0mval\u001b[0m\u001b[0;34m)\u001b[0m \u001b[0;32min\u001b[0m \u001b[0mzip\u001b[0m\u001b[0;34m(\u001b[0m\u001b[0mconverters\u001b[0m\u001b[0;34m,\u001b[0m \u001b[0mvals\u001b[0m\u001b[0;34m)\u001b[0m\u001b[0;34m]\u001b[0m\u001b[0;34m\u001b[0m\u001b[0;34m\u001b[0m\u001b[0m\n\u001b[0m\u001b[1;32m   1088\u001b[0m \u001b[0;34m\u001b[0m\u001b[0m\n\u001b[1;32m   1089\u001b[0m             \u001b[0;31m# Then pack it according to the dtype's nesting\u001b[0m\u001b[0;34m\u001b[0m\u001b[0;34m\u001b[0m\u001b[0;34m\u001b[0m\u001b[0m\n",
      "\u001b[0;32m/opt/conda/lib/python3.7/site-packages/numpy/lib/npyio.py\u001b[0m in \u001b[0;36mfloatconv\u001b[0;34m(x)\u001b[0m\n\u001b[1;32m    792\u001b[0m         \u001b[0;32mif\u001b[0m \u001b[0;34m'0x'\u001b[0m \u001b[0;32min\u001b[0m \u001b[0mx\u001b[0m\u001b[0;34m:\u001b[0m\u001b[0;34m\u001b[0m\u001b[0;34m\u001b[0m\u001b[0m\n\u001b[1;32m    793\u001b[0m             \u001b[0;32mreturn\u001b[0m \u001b[0mfloat\u001b[0m\u001b[0;34m.\u001b[0m\u001b[0mfromhex\u001b[0m\u001b[0;34m(\u001b[0m\u001b[0mx\u001b[0m\u001b[0;34m)\u001b[0m\u001b[0;34m\u001b[0m\u001b[0;34m\u001b[0m\u001b[0m\n\u001b[0;32m--> 794\u001b[0;31m         \u001b[0;32mreturn\u001b[0m \u001b[0mfloat\u001b[0m\u001b[0;34m(\u001b[0m\u001b[0mx\u001b[0m\u001b[0;34m)\u001b[0m\u001b[0;34m\u001b[0m\u001b[0;34m\u001b[0m\u001b[0m\n\u001b[0m\u001b[1;32m    795\u001b[0m \u001b[0;34m\u001b[0m\u001b[0m\n\u001b[1;32m    796\u001b[0m     \u001b[0mtyp\u001b[0m \u001b[0;34m=\u001b[0m \u001b[0mdtype\u001b[0m\u001b[0;34m.\u001b[0m\u001b[0mtype\u001b[0m\u001b[0;34m\u001b[0m\u001b[0;34m\u001b[0m\u001b[0m\n",
      "\u001b[0;31mKeyboardInterrupt\u001b[0m: "
     ]
    }
   ],
   "source": [
    "asd = np.loadtxt('cosine_sim.txt',delimiter=',')\n",
    "asd.shape"
   ]
  },
  {
   "cell_type": "code",
   "execution_count": 24,
   "metadata": {},
   "outputs": [],
   "source": [
    "# train_features = train_features.reset_index()\n",
    "# titles = train_features['name']\n",
    "# indices = pd.Series(train_features.index, index = train_features['description'])\n",
    "\n",
    "test_features = test_features.reset_index()\n",
    "titles = test_features['name']\n",
    "indices = pd.Series(test_features.index, index = test_features['description'])"
   ]
  },
  {
   "cell_type": "code",
   "execution_count": 40,
   "metadata": {},
   "outputs": [],
   "source": [
    "def get_index_by_name(name):\n",
    "    specific_songs = test_features.loc[test_features.name.str.contains(name)]\n",
    "    #specific_songs = test_features.loc[test_features.name.str.contains(name)]\n",
    "    dd = specific_songs.head(5)\n",
    "    #print(dd.index)\n",
    "    return dd.index\n",
    "\n",
    "def get_scores(slist):\n",
    "    res = []\n",
    "    for i in slist:\n",
    "        if i != 0:\n",
    "            res.append(i)\n",
    "    return res\n",
    "\n",
    "def get_cosine_sim_scores2(idxs):\n",
    "    res = []\n",
    "    for i in idxs:\n",
    "        sim_scores = list(enumerate(cosine_sim[i]))\n",
    "        sim_scores = sorted(sim_scores, key=lambda x: x[1], reverse=True)\n",
    "        sim_scores = sim_scores[1:31]\n",
    "        movie_indices = [i[0] for i in sim_scores]\n",
    "        temp = titles.iloc[movie_indices]\n",
    "        res.append(temp)\n",
    "\n",
    "    return res\n",
    "\n",
    "def get_cosine_sim_scores(idx):\n",
    "    res = []\n",
    "    for i in range(len(cosine_sim_list)):\n",
    "        if len(consine_sim_list[i]) > idx:\n",
    "            temp = cosine_sim_list[i][idx]\n",
    "            res.append(temp)\n",
    "            \n",
    "        #temp = map(lambda x: get_scores(x), cosine_sim_list)\n",
    "    sim_scores = list(enumerate(res))\n",
    "    #print(sim_scores)\n",
    "    return sim_scores\n",
    "\n",
    "def get_recommendation(title):\n",
    "    idx = indices[title]\n",
    "    sim_scores = list(enumerate(cosine_sim[idx]))\n",
    "    sim_scores = sorted(sim_scores, key=lambda x: x[1], reverse=True)\n",
    "    sim_scores = sim_scores[1:26]\n",
    "    movie_indices = [i[0] for i in sim_scores]\n",
    "    return titles.iloc[movie_indices]    \n",
    "    \n",
    "        \n",
    "def get_recommendations2(title):\n",
    "    idxs = get_index_by_name(title)    \n",
    "    sim_scores = get_cosine_sim_scores2(idxs)\n",
    "    return sim_scores"
   ]
  },
  {
   "cell_type": "code",
   "execution_count": 41,
   "metadata": {},
   "outputs": [],
   "source": [
    "recom = get_recommendations2('my love')"
   ]
  },
  {
   "cell_type": "code",
   "execution_count": 44,
   "metadata": {},
   "outputs": [],
   "source": [
    "recom = get_recommendations2('my love')"
   ]
  },
  {
   "cell_type": "code",
   "execution_count": 64,
   "metadata": {},
   "outputs": [],
   "source": [
    "def remove_blank(recom):\n",
    "    res = dict()\n",
    "    for r in recom:\n",
    "        for i, v in r.items():\n",
    "            temp = ' '.join(v.split())\n",
    "            if temp != '':\n",
    "                res[i] = temp\n",
    "    return res"
   ]
  },
  {
   "cell_type": "code",
   "execution_count": 65,
   "metadata": {},
   "outputs": [
    {
     "data": {
      "text/plain": [
       "{214: 'my only love',\n",
       " 308: 'play',\n",
       " 355: 'play',\n",
       " 105: 'my way to love',\n",
       " 156: 'be my lady',\n",
       " 183: 'love u u',\n",
       " 154: 'on my way',\n",
       " 346: 'on my way',\n",
       " 436: 'you are my mr right',\n",
       " 13: 'my dad',\n",
       " 274: 'be my own friend',\n",
       " 360: 'beautiful love beautiful love',\n",
       " 177: 'my love',\n",
       " 178: 'good night',\n",
       " 179: 'while my guitar gently weeps',\n",
       " 180: 'a man without love quando m innamoro',\n",
       " 115: 'my love',\n",
       " 334: 'this love',\n",
       " 414: 'you exist in my song',\n",
       " 332: 'unbreakable love',\n",
       " 283: 'practice love',\n",
       " 207: 'dancing on my own',\n",
       " 402: 'my boo',\n",
       " 426: 'love somebody',\n",
       " 190: 'thanks for your love',\n",
       " 314: 'i stay in love',\n",
       " 138: 'why not love',\n",
       " 171: 'love affair',\n",
       " 345: 'love on the weekend',\n",
       " 195: 'how deep is your love',\n",
       " 43: 'feat e so who we love',\n",
       " 293: 'what love has taught us',\n",
       " 313: 'what love has taught us',\n",
       " 383: 'crests of waves',\n",
       " 89: 'run up feat partynextdoor nicki minaj',\n",
       " 444: 'take me to church',\n",
       " 167: 'nini',\n",
       " 349: 'crush',\n",
       " 292: 'i loved you',\n",
       " 202: 'i really like you',\n",
       " 29: 'stuck with each other',\n",
       " 241: 'one year',\n",
       " 392: 'everglow',\n",
       " 56: 'try',\n",
       " 58: 'reset',\n",
       " 84: 'so far yet so close',\n",
       " 482: 'live',\n",
       " 143: 'shen ti hui chong ge',\n",
       " 496: 'nagareboshi',\n",
       " 324: 'on',\n",
       " 472: 'where u at',\n",
       " 198: 'visualization',\n",
       " 189: 'snow sound',\n",
       " 319: 'relaxation piano relaxing rain sounds',\n",
       " 132: 'kakegaeno nai uta',\n",
       " 248: 'stereo hearts feat adam levine',\n",
       " 406: 'the road',\n",
       " 147: 'don t wanna know',\n",
       " 344: 'hard to forget you',\n",
       " 396: 'magic',\n",
       " 362: 'custer',\n",
       " 325: 'radioactive nba',\n",
       " 208: 'otw remix',\n",
       " 11: 'koi',\n",
       " 14: 'the resolute belief',\n",
       " 37: 'ho hay yan',\n",
       " 63: 'mystery guest',\n",
       " 165: 'miss movin on',\n",
       " 191: 'get you',\n",
       " 257: 'the best is yet to come',\n",
       " 259: 'se me olivido tu nombre',\n",
       " 263: 'besame mucho',\n",
       " 269: 'never be like you',\n",
       " 371: 'thinking bout you',\n",
       " 495: 'with you',\n",
       " 499: 'never say goodbye',\n",
       " 394: 'adventure of a lifetime',\n",
       " 494: 'faded'}"
      ]
     },
     "execution_count": 65,
     "metadata": {},
     "output_type": "execute_result"
    }
   ],
   "source": [
    "remove_blank(recom)"
   ]
  },
  {
   "cell_type": "code",
   "execution_count": 46,
   "metadata": {},
   "outputs": [],
   "source": [
    "algo = SVD()\n",
    "reader = Reader(rating_scale=(0,1))\n",
    "data = Dataset.load_from_df(train_features[['msno', 'song_id', 'target']].dropna(), reader)\n",
    "trainset, testset = train_test_split(data, test_size=.25)\n",
    "trainset = data.build_full_trainset()\n"
   ]
  },
  {
   "cell_type": "code",
   "execution_count": 47,
   "metadata": {},
   "outputs": [
    {
     "data": {
      "text/plain": [
       "<surprise.prediction_algorithms.matrix_factorization.SVD at 0x7feb2f47a390>"
      ]
     },
     "execution_count": 47,
     "metadata": {},
     "output_type": "execute_result"
    }
   ],
   "source": [
    "# Train the algorithm on the trainset, and predict ratings for the testset\n",
    "algo.fit(trainset)"
   ]
  },
  {
   "cell_type": "code",
   "execution_count": 48,
   "metadata": {},
   "outputs": [
    {
     "data": {
      "text/plain": [
       "1"
      ]
     },
     "execution_count": 48,
     "metadata": {},
     "output_type": "execute_result"
    }
   ],
   "source": [
    "1"
   ]
  },
  {
   "cell_type": "code",
   "execution_count": 49,
   "metadata": {},
   "outputs": [
    {
     "name": "stdout",
     "output_type": "stream",
     "text": [
      "RMSE: 0.4274\n"
     ]
    },
    {
     "data": {
      "text/plain": [
       "0.4274175256264111"
      ]
     },
     "execution_count": 49,
     "metadata": {},
     "output_type": "execute_result"
    }
   ],
   "source": [
    "predictions = algo.test(testset)\n",
    "\n",
    "# Then compute RMSE\n",
    "accuracy.rmse(predictions)"
   ]
  },
  {
   "cell_type": "code",
   "execution_count": 50,
   "metadata": {},
   "outputs": [],
   "source": [
    "# submit = []\n",
    "# for index, row in test_features.iterrows():\n",
    "#     est = algo.predict(row['msno'], row['song_id']).est\n",
    "#     submit.append((row['id'], est))\n",
    "\n",
    "#est = algo.predict(row['msno'], row['song_id']).est"
   ]
  },
  {
   "cell_type": "code",
   "execution_count": 40,
   "metadata": {},
   "outputs": [
    {
     "name": "stdout",
     "output_type": "stream",
     "text": [
      "<class 'pandas.core.frame.DataFrame'>\n",
      "RangeIndex: 837941 entries, 0 to 837940\n",
      "Data columns (total 29 columns):\n",
      " #   Column                  Non-Null Count   Dtype  \n",
      "---  ------                  --------------   -----  \n",
      " 0   index                   837941 non-null  int64  \n",
      " 1   id                      837941 non-null  int64  \n",
      " 2   msno                    837941 non-null  object \n",
      " 3   song_id                 837941 non-null  object \n",
      " 4   source_system_tab       835145 non-null  object \n",
      " 5   source_screen_name      837941 non-null  object \n",
      " 6   song_length_x           837934 non-null  float64\n",
      " 7   genre_ids_x             826839 non-null  object \n",
      " 8   artist_name_x           837941 non-null  object \n",
      " 9   composer_x              837941 non-null  object \n",
      " 10  language_x              837925 non-null  float64\n",
      " 11  name                    837941 non-null  object \n",
      " 12  isrc                    772937 non-null  object \n",
      " 13  city                    837941 non-null  int64  \n",
      " 14  bd                      837941 non-null  int64  \n",
      " 15  gender                  496169 non-null  object \n",
      " 16  registered_via          837941 non-null  int64  \n",
      " 17  registration_init_time  837941 non-null  object \n",
      " 18  expiration_date         837941 non-null  object \n",
      " 19  repeat_count            837940 non-null  float64\n",
      " 20  play_count              837940 non-null  float64\n",
      " 21  repeat_percentage       786109 non-null  float64\n",
      " 22  repeat_count_artist     829926 non-null  float64\n",
      " 23  play_count_artist       837940 non-null  float64\n",
      " 24  repeat_count_msno       793526 non-null  float64\n",
      " 25  play_count_msno         837940 non-null  float64\n",
      " 26  repeat_percentage_msno  793526 non-null  float64\n",
      " 27  song_year               772936 non-null  float64\n",
      " 28  description             837941 non-null  object \n",
      "dtypes: float64(11), int64(5), object(13)\n",
      "memory usage: 185.4+ MB\n"
     ]
    }
   ],
   "source": [
    "test_features.info()"
   ]
  },
  {
   "cell_type": "code",
   "execution_count": 32,
   "metadata": {},
   "outputs": [],
   "source": [
    "drop_list = ['repeat_count','repeat_percentage','repeat_count_msno','repeat_percentage_msno']\n",
    "drop_list2 = ['Unnamed: 0', 'Unnamed: 0.1']\n",
    "train_features = train_features.drop(drop_list2,axis=1)\n",
    "test_features = test_features.drop(drop_list2,axis=1)"
   ]
  },
  {
   "cell_type": "code",
   "execution_count": 33,
   "metadata": {},
   "outputs": [],
   "source": [
    "for col in train_features.columns:\n",
    "    if train_features[col].dtype == object:\n",
    "        train_features[col] = train_features[col].astype('category')\n",
    "        test_features[col] = test_features[col].astype('category')"
   ]
  },
  {
   "cell_type": "code",
   "execution_count": null,
   "metadata": {},
   "outputs": [],
   "source": []
  },
  {
   "cell_type": "code",
   "execution_count": null,
   "metadata": {},
   "outputs": [],
   "source": []
  },
  {
   "cell_type": "code",
   "execution_count": 36,
   "metadata": {},
   "outputs": [],
   "source": [
    "sample = test_features.head(10)"
   ]
  },
  {
   "cell_type": "code",
   "execution_count": 123,
   "metadata": {},
   "outputs": [],
   "source": [
    "gbm = lgb.Booster(model_file='model.txt')"
   ]
  },
  {
   "cell_type": "code",
   "execution_count": 156,
   "metadata": {},
   "outputs": [],
   "source": [
    "def hybrid(userId, title):\n",
    "    \n",
    "    idxs = get_index_by_name(title)    \n",
    "    sim_scores = get_cosine_sim_scores2(idxs)\n",
    "    movies = remove_blank(sim_scores)\n",
    "    movies = getFrame_by_indexs(movies)\n",
    "    \n",
    "\n",
    "    movies = movies.drop(['id','index'], axis=1)\n",
    "    movies['msno'] = userId\n",
    "    movies = change_data_type(movies)\n",
    "    \n",
    "    movies['est'] = gbm.predict(movies)\n",
    "    #movies['est'] = movies['song_id'].apply(lambda x: algo.predict(userId, x).est)\n",
    "                                 \n",
    "#     movies = movies.sort_values('est', ascending=False)\n",
    "#     return movies.head(10)\n",
    "    return movies\n",
    "\n",
    "def change_data_type(music):\n",
    "    drop_list2 = ['Unnamed: 0', 'Unnamed: 0.1']\n",
    "    music = music.drop(drop_list2,axis=1)\n",
    "    for col in music.columns:\n",
    "        if music[col].dtype == object:\n",
    "            #test_features[col] = train_features[col].astype('category')\n",
    "            music[col] = music[col].astype('category')\n",
    "    return music\n",
    "\n",
    "def getFrame_by_indexs(movies):\n",
    "    indexs = []\n",
    "    for i, v in movies.items():\n",
    "        indexs.append(i)\n",
    "    indexs = sorted(indexs)\n",
    "    begin = test_features.iloc[indexs[-1]:indexs[-1]+1]\n",
    "    for i in range(len(indexs)-1):\n",
    "        results = test_features.iloc[indexs[i]:indexs[i]+1]\n",
    "        begin = pd.concat([begin, results])\n",
    "\n",
    "    return begin\n"
   ]
  },
  {
   "cell_type": "code",
   "execution_count": 157,
   "metadata": {},
   "outputs": [],
   "source": [
    "movies = hybrid(\"91GgOFj9CDFYxxqRxQBT5L7FYjborQ40TReKAqpfQrs=\",'my love')"
   ]
  },
  {
   "cell_type": "code",
   "execution_count": null,
   "metadata": {},
   "outputs": [],
   "source": []
  },
  {
   "cell_type": "code",
   "execution_count": null,
   "metadata": {},
   "outputs": [],
   "source": []
  },
  {
   "cell_type": "code",
   "execution_count": null,
   "metadata": {},
   "outputs": [],
   "source": []
  },
  {
   "cell_type": "code",
   "execution_count": 162,
   "metadata": {},
   "outputs": [],
   "source": [
    "recom = movies[['msno', 'song_id', 'source_system_tab', 'source_screen_name', 'name', 'play_count', 'est']]\n",
    "recom = recom.sort_values('est', ascending=False)"
   ]
  },
  {
   "cell_type": "code",
   "execution_count": 165,
   "metadata": {},
   "outputs": [
    {
     "data": {
      "text/html": [
       "<div>\n",
       "<style scoped>\n",
       "    .dataframe tbody tr th:only-of-type {\n",
       "        vertical-align: middle;\n",
       "    }\n",
       "\n",
       "    .dataframe tbody tr th {\n",
       "        vertical-align: top;\n",
       "    }\n",
       "\n",
       "    .dataframe thead th {\n",
       "        text-align: right;\n",
       "    }\n",
       "</style>\n",
       "<table border=\"1\" class=\"dataframe\">\n",
       "  <thead>\n",
       "    <tr style=\"text-align: right;\">\n",
       "      <th></th>\n",
       "      <th>msno</th>\n",
       "      <th>song_id</th>\n",
       "      <th>source_system_tab</th>\n",
       "      <th>source_screen_name</th>\n",
       "      <th>name</th>\n",
       "      <th>play_count</th>\n",
       "      <th>est</th>\n",
       "    </tr>\n",
       "  </thead>\n",
       "  <tbody>\n",
       "    <tr>\n",
       "      <th>257</th>\n",
       "      <td>91GgOFj9CDFYxxqRxQBT5L7FYjborQ40TReKAqpfQrs=</td>\n",
       "      <td>QIGvqbdLL7FD0+VJSKoTSl4WMdgNzgs2wC6x823R4C0=</td>\n",
       "      <td>my library</td>\n",
       "      <td>local playlist more</td>\n",
       "      <td>the best is yet to come</td>\n",
       "      <td>1.0</td>\n",
       "      <td>0.999481</td>\n",
       "    </tr>\n",
       "    <tr>\n",
       "      <th>324</th>\n",
       "      <td>91GgOFj9CDFYxxqRxQBT5L7FYjborQ40TReKAqpfQrs=</td>\n",
       "      <td>vZRVbOd3WV+Yt6LqwVcxqYI4JQGah/cW4r6uWumi/5E=</td>\n",
       "      <td>my library</td>\n",
       "      <td>local playlist more</td>\n",
       "      <td>on</td>\n",
       "      <td>159.0</td>\n",
       "      <td>0.997910</td>\n",
       "    </tr>\n",
       "    <tr>\n",
       "      <th>283</th>\n",
       "      <td>91GgOFj9CDFYxxqRxQBT5L7FYjborQ40TReKAqpfQrs=</td>\n",
       "      <td>n+pMhj/jpCnpiUcSDl4k3i9FJODDddEXmpE48/HczTI=</td>\n",
       "      <td>discover</td>\n",
       "      <td>online playlist more</td>\n",
       "      <td>practice love</td>\n",
       "      <td>8775.0</td>\n",
       "      <td>0.986623</td>\n",
       "    </tr>\n",
       "    <tr>\n",
       "      <th>43</th>\n",
       "      <td>91GgOFj9CDFYxxqRxQBT5L7FYjborQ40TReKAqpfQrs=</td>\n",
       "      <td>CU7wosdFGNmijUjuXNisWoD6XGpkFZHAVD78E5ImVX4=</td>\n",
       "      <td>my library</td>\n",
       "      <td>local playlist more</td>\n",
       "      <td>feat  e so   who we love</td>\n",
       "      <td>527.0</td>\n",
       "      <td>0.974298</td>\n",
       "    </tr>\n",
       "    <tr>\n",
       "      <th>190</th>\n",
       "      <td>91GgOFj9CDFYxxqRxQBT5L7FYjborQ40TReKAqpfQrs=</td>\n",
       "      <td>PgRtmmESVNtWjoZHO5a1r21vIz9sVZmcJJpFCbRa1LI=</td>\n",
       "      <td>my library</td>\n",
       "      <td>local playlist more</td>\n",
       "      <td>thanks for your love</td>\n",
       "      <td>12004.0</td>\n",
       "      <td>0.969479</td>\n",
       "    </tr>\n",
       "    <tr>\n",
       "      <th>313</th>\n",
       "      <td>91GgOFj9CDFYxxqRxQBT5L7FYjborQ40TReKAqpfQrs=</td>\n",
       "      <td>bTlSHgnwaBMIKHseTFHanJ3Zr4x82ybrGkexpnxDhTY=</td>\n",
       "      <td>my library</td>\n",
       "      <td>local playlist more</td>\n",
       "      <td>what love has taught us</td>\n",
       "      <td>5508.0</td>\n",
       "      <td>0.941761</td>\n",
       "    </tr>\n",
       "    <tr>\n",
       "      <th>426</th>\n",
       "      <td>91GgOFj9CDFYxxqRxQBT5L7FYjborQ40TReKAqpfQrs=</td>\n",
       "      <td>0ftZO/ByXbLHmtLPt5NwATkT3OrbCuZ7CvrsnL3BvqQ=</td>\n",
       "      <td>my library</td>\n",
       "      <td>local playlist more</td>\n",
       "      <td>love somebody</td>\n",
       "      <td>527.0</td>\n",
       "      <td>0.939822</td>\n",
       "    </tr>\n",
       "    <tr>\n",
       "      <th>494</th>\n",
       "      <td>91GgOFj9CDFYxxqRxQBT5L7FYjborQ40TReKAqpfQrs=</td>\n",
       "      <td>J4qKkLIoW7aYACuTupHLAPZYmRp08en1AEux+GSUzdw=</td>\n",
       "      <td>my library</td>\n",
       "      <td>local playlist more</td>\n",
       "      <td>faded</td>\n",
       "      <td>10565.0</td>\n",
       "      <td>0.938185</td>\n",
       "    </tr>\n",
       "    <tr>\n",
       "      <th>183</th>\n",
       "      <td>91GgOFj9CDFYxxqRxQBT5L7FYjborQ40TReKAqpfQrs=</td>\n",
       "      <td>lpehYTGIoMuZRbdiEiXEBJbsZ/UhTV0XYxE1EOablJA=</td>\n",
       "      <td>my library</td>\n",
       "      <td>local playlist more</td>\n",
       "      <td>love u u</td>\n",
       "      <td>1983.0</td>\n",
       "      <td>0.928002</td>\n",
       "    </tr>\n",
       "    <tr>\n",
       "      <th>202</th>\n",
       "      <td>91GgOFj9CDFYxxqRxQBT5L7FYjborQ40TReKAqpfQrs=</td>\n",
       "      <td>NO3PiEzofJglKjD8+biTGWkEVRDfE799y8c9wQS1XWo=</td>\n",
       "      <td>my library</td>\n",
       "      <td>local playlist more</td>\n",
       "      <td>i really like you</td>\n",
       "      <td>4062.0</td>\n",
       "      <td>0.923077</td>\n",
       "    </tr>\n",
       "    <tr>\n",
       "      <th>248</th>\n",
       "      <td>91GgOFj9CDFYxxqRxQBT5L7FYjborQ40TReKAqpfQrs=</td>\n",
       "      <td>EtbLk/xvIr83FYb6BJubUM0mipHLq9AXee8b0Ztj2Qs=</td>\n",
       "      <td>my library</td>\n",
       "      <td>local playlist more</td>\n",
       "      <td>stereo hearts  feat  adam levine</td>\n",
       "      <td>275.0</td>\n",
       "      <td>0.917888</td>\n",
       "    </tr>\n",
       "    <tr>\n",
       "      <th>138</th>\n",
       "      <td>91GgOFj9CDFYxxqRxQBT5L7FYjborQ40TReKAqpfQrs=</td>\n",
       "      <td>KcQ4assZxaXsdizqxGjUSAY7CNc6+6hQzpVsjnWsShQ=</td>\n",
       "      <td>my library</td>\n",
       "      <td>local playlist more</td>\n",
       "      <td>why not love</td>\n",
       "      <td>5349.0</td>\n",
       "      <td>0.912338</td>\n",
       "    </tr>\n",
       "    <tr>\n",
       "      <th>165</th>\n",
       "      <td>91GgOFj9CDFYxxqRxQBT5L7FYjborQ40TReKAqpfQrs=</td>\n",
       "      <td>WZnX9F3nVHIfcQXTHmBeBZNnhwD2D4CfgHdk6ey89Vo=</td>\n",
       "      <td>my library</td>\n",
       "      <td>local playlist more</td>\n",
       "      <td>miss movin  on</td>\n",
       "      <td>129.0</td>\n",
       "      <td>0.881066</td>\n",
       "    </tr>\n",
       "    <tr>\n",
       "      <th>406</th>\n",
       "      <td>91GgOFj9CDFYxxqRxQBT5L7FYjborQ40TReKAqpfQrs=</td>\n",
       "      <td>Mlj5cvkydMcnGeW+LEFj7uOdXREMR9FwDFzAjFkLv5s=</td>\n",
       "      <td>my library</td>\n",
       "      <td>local playlist more</td>\n",
       "      <td>the road</td>\n",
       "      <td>90.0</td>\n",
       "      <td>0.877319</td>\n",
       "    </tr>\n",
       "    <tr>\n",
       "      <th>362</th>\n",
       "      <td>91GgOFj9CDFYxxqRxQBT5L7FYjborQ40TReKAqpfQrs=</td>\n",
       "      <td>+1dNkNSl6q9iyJ2ydJJBi5VSDzp4EpxxYfoEJe0WT7A=</td>\n",
       "      <td>my library</td>\n",
       "      <td>local playlist more</td>\n",
       "      <td>custer</td>\n",
       "      <td>3.0</td>\n",
       "      <td>0.867226</td>\n",
       "    </tr>\n",
       "    <tr>\n",
       "      <th>29</th>\n",
       "      <td>91GgOFj9CDFYxxqRxQBT5L7FYjborQ40TReKAqpfQrs=</td>\n",
       "      <td>jsbtLf1UvjjmEGBmenQdOn2P8nIPAen8DAJHb1ktEpA=</td>\n",
       "      <td>my library</td>\n",
       "      <td>local playlist more</td>\n",
       "      <td>stuck with each other</td>\n",
       "      <td>4.0</td>\n",
       "      <td>0.855682</td>\n",
       "    </tr>\n",
       "    <tr>\n",
       "      <th>349</th>\n",
       "      <td>91GgOFj9CDFYxxqRxQBT5L7FYjborQ40TReKAqpfQrs=</td>\n",
       "      <td>9+I3KADmVDeBAj0HKYaKrLT898WuOMtNQopdEOhIMhA=</td>\n",
       "      <td>my library</td>\n",
       "      <td>local playlist more</td>\n",
       "      <td>crush</td>\n",
       "      <td>112.0</td>\n",
       "      <td>0.837202</td>\n",
       "    </tr>\n",
       "    <tr>\n",
       "      <th>143</th>\n",
       "      <td>91GgOFj9CDFYxxqRxQBT5L7FYjborQ40TReKAqpfQrs=</td>\n",
       "      <td>ZwgZTIRPajwmbSr6Qrn/w1V9ye424aa/uVwWMgb3sSI=</td>\n",
       "      <td>my library</td>\n",
       "      <td>local playlist more</td>\n",
       "      <td>shen ti hui chong ge</td>\n",
       "      <td>9.0</td>\n",
       "      <td>0.830928</td>\n",
       "    </tr>\n",
       "    <tr>\n",
       "      <th>325</th>\n",
       "      <td>91GgOFj9CDFYxxqRxQBT5L7FYjborQ40TReKAqpfQrs=</td>\n",
       "      <td>qIrAqKtDPBACcsAjZWh9OXYSfGYzx8Wwcz5szbX/n+E=</td>\n",
       "      <td>my library</td>\n",
       "      <td>local playlist more</td>\n",
       "      <td>radioactive                      nba          ...</td>\n",
       "      <td>1053.0</td>\n",
       "      <td>0.829715</td>\n",
       "    </tr>\n",
       "    <tr>\n",
       "      <th>392</th>\n",
       "      <td>91GgOFj9CDFYxxqRxQBT5L7FYjborQ40TReKAqpfQrs=</td>\n",
       "      <td>an6EdIr+Z+KbqIVQiXn5PKkcXncefQ7hhWONseRuub4=</td>\n",
       "      <td>search</td>\n",
       "      <td>artist more</td>\n",
       "      <td>everglow</td>\n",
       "      <td>600.0</td>\n",
       "      <td>0.801688</td>\n",
       "    </tr>\n",
       "  </tbody>\n",
       "</table>\n",
       "</div>"
      ],
      "text/plain": [
       "                                             msno  \\\n",
       "257  91GgOFj9CDFYxxqRxQBT5L7FYjborQ40TReKAqpfQrs=   \n",
       "324  91GgOFj9CDFYxxqRxQBT5L7FYjborQ40TReKAqpfQrs=   \n",
       "283  91GgOFj9CDFYxxqRxQBT5L7FYjborQ40TReKAqpfQrs=   \n",
       "43   91GgOFj9CDFYxxqRxQBT5L7FYjborQ40TReKAqpfQrs=   \n",
       "190  91GgOFj9CDFYxxqRxQBT5L7FYjborQ40TReKAqpfQrs=   \n",
       "313  91GgOFj9CDFYxxqRxQBT5L7FYjborQ40TReKAqpfQrs=   \n",
       "426  91GgOFj9CDFYxxqRxQBT5L7FYjborQ40TReKAqpfQrs=   \n",
       "494  91GgOFj9CDFYxxqRxQBT5L7FYjborQ40TReKAqpfQrs=   \n",
       "183  91GgOFj9CDFYxxqRxQBT5L7FYjborQ40TReKAqpfQrs=   \n",
       "202  91GgOFj9CDFYxxqRxQBT5L7FYjborQ40TReKAqpfQrs=   \n",
       "248  91GgOFj9CDFYxxqRxQBT5L7FYjborQ40TReKAqpfQrs=   \n",
       "138  91GgOFj9CDFYxxqRxQBT5L7FYjborQ40TReKAqpfQrs=   \n",
       "165  91GgOFj9CDFYxxqRxQBT5L7FYjborQ40TReKAqpfQrs=   \n",
       "406  91GgOFj9CDFYxxqRxQBT5L7FYjborQ40TReKAqpfQrs=   \n",
       "362  91GgOFj9CDFYxxqRxQBT5L7FYjborQ40TReKAqpfQrs=   \n",
       "29   91GgOFj9CDFYxxqRxQBT5L7FYjborQ40TReKAqpfQrs=   \n",
       "349  91GgOFj9CDFYxxqRxQBT5L7FYjborQ40TReKAqpfQrs=   \n",
       "143  91GgOFj9CDFYxxqRxQBT5L7FYjborQ40TReKAqpfQrs=   \n",
       "325  91GgOFj9CDFYxxqRxQBT5L7FYjborQ40TReKAqpfQrs=   \n",
       "392  91GgOFj9CDFYxxqRxQBT5L7FYjborQ40TReKAqpfQrs=   \n",
       "\n",
       "                                          song_id source_system_tab  \\\n",
       "257  QIGvqbdLL7FD0+VJSKoTSl4WMdgNzgs2wC6x823R4C0=        my library   \n",
       "324  vZRVbOd3WV+Yt6LqwVcxqYI4JQGah/cW4r6uWumi/5E=        my library   \n",
       "283  n+pMhj/jpCnpiUcSDl4k3i9FJODDddEXmpE48/HczTI=          discover   \n",
       "43   CU7wosdFGNmijUjuXNisWoD6XGpkFZHAVD78E5ImVX4=        my library   \n",
       "190  PgRtmmESVNtWjoZHO5a1r21vIz9sVZmcJJpFCbRa1LI=        my library   \n",
       "313  bTlSHgnwaBMIKHseTFHanJ3Zr4x82ybrGkexpnxDhTY=        my library   \n",
       "426  0ftZO/ByXbLHmtLPt5NwATkT3OrbCuZ7CvrsnL3BvqQ=        my library   \n",
       "494  J4qKkLIoW7aYACuTupHLAPZYmRp08en1AEux+GSUzdw=        my library   \n",
       "183  lpehYTGIoMuZRbdiEiXEBJbsZ/UhTV0XYxE1EOablJA=        my library   \n",
       "202  NO3PiEzofJglKjD8+biTGWkEVRDfE799y8c9wQS1XWo=        my library   \n",
       "248  EtbLk/xvIr83FYb6BJubUM0mipHLq9AXee8b0Ztj2Qs=        my library   \n",
       "138  KcQ4assZxaXsdizqxGjUSAY7CNc6+6hQzpVsjnWsShQ=        my library   \n",
       "165  WZnX9F3nVHIfcQXTHmBeBZNnhwD2D4CfgHdk6ey89Vo=        my library   \n",
       "406  Mlj5cvkydMcnGeW+LEFj7uOdXREMR9FwDFzAjFkLv5s=        my library   \n",
       "362  +1dNkNSl6q9iyJ2ydJJBi5VSDzp4EpxxYfoEJe0WT7A=        my library   \n",
       "29   jsbtLf1UvjjmEGBmenQdOn2P8nIPAen8DAJHb1ktEpA=        my library   \n",
       "349  9+I3KADmVDeBAj0HKYaKrLT898WuOMtNQopdEOhIMhA=        my library   \n",
       "143  ZwgZTIRPajwmbSr6Qrn/w1V9ye424aa/uVwWMgb3sSI=        my library   \n",
       "325  qIrAqKtDPBACcsAjZWh9OXYSfGYzx8Wwcz5szbX/n+E=        my library   \n",
       "392  an6EdIr+Z+KbqIVQiXn5PKkcXncefQ7hhWONseRuub4=            search   \n",
       "\n",
       "        source_screen_name                                               name  \\\n",
       "257   local playlist more                            the best is yet to come    \n",
       "324   local playlist more                                            on         \n",
       "283  online playlist more                                     practice love     \n",
       "43    local playlist more                         feat  e so   who we love      \n",
       "190   local playlist more                              thanks for your love     \n",
       "313   local playlist more                           what love has taught us     \n",
       "426   local playlist more                                      love somebody    \n",
       "494   local playlist more                                              faded    \n",
       "183   local playlist more                                           love u u    \n",
       "202   local playlist more                                  i really like you    \n",
       "248   local playlist more                  stereo hearts  feat  adam levine     \n",
       "138   local playlist more                                      why not love     \n",
       "165   local playlist more                                     miss movin  on    \n",
       "406   local playlist more                                           the road    \n",
       "362   local playlist more                                             custer    \n",
       "29    local playlist more                              stuck with each other    \n",
       "349   local playlist more                                              crush    \n",
       "143   local playlist more                              shen ti hui chong ge     \n",
       "325   local playlist more   radioactive                      nba          ...   \n",
       "392           artist more                                           everglow    \n",
       "\n",
       "     play_count       est  \n",
       "257         1.0  0.999481  \n",
       "324       159.0  0.997910  \n",
       "283      8775.0  0.986623  \n",
       "43        527.0  0.974298  \n",
       "190     12004.0  0.969479  \n",
       "313      5508.0  0.941761  \n",
       "426       527.0  0.939822  \n",
       "494     10565.0  0.938185  \n",
       "183      1983.0  0.928002  \n",
       "202      4062.0  0.923077  \n",
       "248       275.0  0.917888  \n",
       "138      5349.0  0.912338  \n",
       "165       129.0  0.881066  \n",
       "406        90.0  0.877319  \n",
       "362         3.0  0.867226  \n",
       "29          4.0  0.855682  \n",
       "349       112.0  0.837202  \n",
       "143         9.0  0.830928  \n",
       "325      1053.0  0.829715  \n",
       "392       600.0  0.801688  "
      ]
     },
     "execution_count": 165,
     "metadata": {},
     "output_type": "execute_result"
    }
   ],
   "source": [
    "recom.head(20)"
   ]
  },
  {
   "cell_type": "code",
   "execution_count": null,
   "metadata": {},
   "outputs": [],
   "source": []
  }
 ],
 "metadata": {
  "environment": {
   "name": "common-cpu.m48",
   "type": "gcloud",
   "uri": "gcr.io/deeplearning-platform-release/base-cpu:m48"
  },
  "kernelspec": {
   "display_name": "Python 3",
   "language": "python",
   "name": "python3"
  },
  "language_info": {
   "codemirror_mode": {
    "name": "ipython",
    "version": 3
   },
   "file_extension": ".py",
   "mimetype": "text/x-python",
   "name": "python",
   "nbconvert_exporter": "python",
   "pygments_lexer": "ipython3",
   "version": "3.7.6"
  }
 },
 "nbformat": 4,
 "nbformat_minor": 4
}
