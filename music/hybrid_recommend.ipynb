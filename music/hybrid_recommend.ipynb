{
 "cells": [
  {
   "cell_type": "code",
   "execution_count": 1,
   "metadata": {},
   "outputs": [
    {
     "name": "stderr",
     "output_type": "stream",
     "text": [
      "/opt/conda/lib/python3.7/site-packages/fuzzywuzzy/fuzz.py:11: UserWarning: Using slow pure-python SequenceMatcher. Install python-Levenshtein to remove this warning\n",
      "  warnings.warn('Using slow pure-python SequenceMatcher. Install python-Levenshtein to remove this warning')\n",
      "[nltk_data] Downloading package stopwords to\n",
      "[nltk_data]     /home/jupyter/nltk_data...\n",
      "[nltk_data]   Package stopwords is already up-to-date!\n"
     ]
    },
    {
     "data": {
      "text/plain": [
       "True"
      ]
     },
     "execution_count": 1,
     "metadata": {},
     "output_type": "execute_result"
    }
   ],
   "source": [
    "import pandas as pd\n",
    "import numpy as np\n",
    "from sklearn.feature_extraction.text import CountVectorizer\n",
    "from sklearn.metrics.pairwise import cosine_similarity\n",
    "import matplotlib.pyplot as plt\n",
    "from scipy.sparse import csr_matrix\n",
    "from sklearn.neighbors import NearestNeighbors\n",
    "from fuzzywuzzy import fuzz\n",
    "from ast import literal_eval\n",
    "from surprise import SVD, SVDpp, KNNBasic\n",
    "from surprise import Dataset\n",
    "from surprise.model_selection import cross_validate,train_test_split, GridSearchCV\n",
    "from surprise import NormalPredictor\n",
    "from surprise import Reader\n",
    "\n",
    "import re \n",
    "from sklearn.feature_extraction.text import TfidfVectorizer, TfidfTransformer\n",
    "from nltk.corpus import stopwords\n",
    "from nltk.stem.porter import PorterStemmer\n",
    "import nltk\n",
    "\n",
    "nltk.download('stopwords')"
   ]
  },
  {
   "cell_type": "code",
   "execution_count": 3,
   "metadata": {},
   "outputs": [],
   "source": [
    "%matplotlib inline\n",
    "import pandas as pd\n",
    "import numpy as np\n",
    "import matplotlib.pyplot as plt\n",
    "import seaborn as sns\n",
    "from scipy import stats\n",
    "from ast import literal_eval\n",
    "from sklearn.feature_extraction.text import TfidfVectorizer, CountVectorizer\n",
    "from sklearn.metrics.pairwise import linear_kernel, cosine_similarity\n",
    "from nltk.stem.snowball import SnowballStemmer\n",
    "from nltk.stem.wordnet import WordNetLemmatizer\n",
    "from nltk.corpus import wordnet\n",
    "from surprise import Reader, Dataset, SVD\n",
    "from surprise.model_selection import cross_validate\n",
    "import lightgbm as lgb\n",
    "import warnings; warnings.simplefilter('ignore')"
   ]
  },
  {
   "cell_type": "code",
   "execution_count": 4,
   "metadata": {},
   "outputs": [],
   "source": [
    "train_features = pd.read_csv('train_features.csv')\n",
    "test_features = pd.read_csv('test_features.csv')"
   ]
  },
  {
   "cell_type": "code",
   "execution_count": 5,
   "metadata": {},
   "outputs": [],
   "source": [
    "pd.options.display.max_columns = None\n",
    "pd.options.display.max_rows = None\n",
    "\n",
    "np.set_printoptions(threshold=np.inf)"
   ]
  },
  {
   "cell_type": "code",
   "execution_count": 6,
   "metadata": {},
   "outputs": [],
   "source": [
    "train_features.drop('song_length_y',axis = 1 , inplace =True)\n",
    "train_features.drop('genre_ids_y',axis = 1 , inplace =True)\n",
    "train_features.drop('artist_name_y',axis = 1 , inplace =True)\n",
    "train_features.drop('composer_y',axis = 1 , inplace =True)\n",
    "train_features.drop('lyricist_y',axis = 1 , inplace =True)\n",
    "train_features.drop('language_y',axis = 1 , inplace =True)\n",
    "\n",
    "test_features.drop('song_length_y',axis = 1 , inplace =True)\n",
    "test_features.drop('genre_ids_y',axis = 1 , inplace =True)\n",
    "test_features.drop('artist_name_y',axis = 1 , inplace =True)\n",
    "test_features.drop('composer_y',axis = 1 , inplace =True)\n",
    "test_features.drop('lyricist_y',axis = 1 , inplace =True)\n",
    "test_features.drop('language_y',axis = 1 , inplace =True)"
   ]
  },
  {
   "cell_type": "code",
   "execution_count": 7,
   "metadata": {},
   "outputs": [],
   "source": [
    "train_features.drop('lyricist_x',axis = 1 , inplace =True)\n",
    "test_features.drop('lyricist_x',axis = 1 , inplace =True)\n",
    "\n",
    "train_features.drop('source_type',axis = 1 , inplace =True)\n",
    "test_features.drop('source_type',axis = 1 , inplace =True)\n",
    "\n"
   ]
  },
  {
   "cell_type": "code",
   "execution_count": null,
   "metadata": {},
   "outputs": [],
   "source": [
    "def keepwords(text):\n",
    "    temp = re.sub('[^a-zA-Z]', ' ', str(text))\n",
    "    return temp.lower() + ' '\n",
    "\n",
    "#train_features['name'] = train_features['name'].astype('category')\n",
    "train_features['name'] = train_features.name.apply(lambda x: keepwords(x))\n",
    "test_features['name'] = test_features.name.apply(lambda x: keepwords(x))\n",
    "\n",
    "#train_features['artist_name_x'] = train_features['artist_name_x'].astype('category')\n",
    "train_features['artist_name_x'] = train_features.artist_name_x.apply(lambda x: keepwords(x))\n",
    "test_features['artist_name_x'] = test_features.artist_name_x.apply(lambda x: keepwords(x))\n",
    "\n",
    "#train_features['source_screen_name'] = train_features['source_screen_name'].astype('category')\n",
    "train_features['source_screen_name'] = train_features.source_screen_name.apply(lambda x: keepwords(x))\n",
    "test_features['source_screen_name'] = test_features.source_screen_name.apply(lambda x: keepwords(x))\n",
    "\n",
    "train_features['composer_x'] = train_features.composer_x.apply(lambda x: keepwords(x))\n",
    "test_features['composer_x'] = test_features.composer_x.apply(lambda x: keepwords(x))\n",
    "\n"
   ]
  },
  {
   "cell_type": "code",
   "execution_count": null,
   "metadata": {},
   "outputs": [],
   "source": []
  }
 ],
 "metadata": {
  "environment": {
   "name": "common-cpu.m48",
   "type": "gcloud",
   "uri": "gcr.io/deeplearning-platform-release/base-cpu:m48"
  },
  "kernelspec": {
   "display_name": "Python 3",
   "language": "python",
   "name": "python3"
  },
  "language_info": {
   "codemirror_mode": {
    "name": "ipython",
    "version": 3
   },
   "file_extension": ".py",
   "mimetype": "text/x-python",
   "name": "python",
   "nbconvert_exporter": "python",
   "pygments_lexer": "ipython3",
   "version": "3.7.6"
  }
 },
 "nbformat": 4,
 "nbformat_minor": 4
}
