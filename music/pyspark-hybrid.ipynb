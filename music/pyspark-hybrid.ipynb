{
 "cells": [
  {
   "cell_type": "raw",
   "metadata": {},
   "source": []
  },
  {
   "cell_type": "code",
   "execution_count": 1,
   "metadata": {},
   "outputs": [
    {
     "ename": "KeyboardInterrupt",
     "evalue": "Interrupted by user",
     "output_type": "error",
     "traceback": [
      "\u001b[0;31m---------------------------------------------------------------------------\u001b[0m",
      "\u001b[0;31mKeyboardInterrupt\u001b[0m                         Traceback (most recent call last)",
      "\u001b[0;32m<ipython-input-1-278fdde2ee4f>\u001b[0m in \u001b[0;36m<module>\u001b[0;34m\u001b[0m\n\u001b[1;32m      2\u001b[0m \u001b[0;32mimport\u001b[0m \u001b[0mos\u001b[0m\u001b[0;34m\u001b[0m\u001b[0;34m\u001b[0m\u001b[0m\n\u001b[1;32m      3\u001b[0m \u001b[0;34m\u001b[0m\u001b[0m\n\u001b[0;32m----> 4\u001b[0;31m \u001b[0mpassword\u001b[0m \u001b[0;34m=\u001b[0m \u001b[0mgetpass\u001b[0m\u001b[0;34m.\u001b[0m\u001b[0mgetpass\u001b[0m\u001b[0;34m(\u001b[0m\u001b[0;34m)\u001b[0m\u001b[0;34m\u001b[0m\u001b[0;34m\u001b[0m\u001b[0m\n\u001b[0m\u001b[1;32m      5\u001b[0m \u001b[0mcommand\u001b[0m \u001b[0;34m=\u001b[0m \u001b[0;34m\"sudo apt-get install openjdk-8-jdk-headless -qq > /dev/null\"\u001b[0m\u001b[0;34m\u001b[0m\u001b[0;34m\u001b[0m\u001b[0m\n\u001b[1;32m      6\u001b[0m \u001b[0mos\u001b[0m\u001b[0;34m.\u001b[0m\u001b[0msystem\u001b[0m\u001b[0;34m(\u001b[0m\u001b[0;34m'echo %s | %s'\u001b[0m \u001b[0;34m%\u001b[0m \u001b[0;34m(\u001b[0m\u001b[0mpassword\u001b[0m\u001b[0;34m,\u001b[0m \u001b[0mcommand\u001b[0m\u001b[0;34m)\u001b[0m\u001b[0;34m)\u001b[0m\u001b[0;34m\u001b[0m\u001b[0;34m\u001b[0m\u001b[0m\n",
      "\u001b[0;32m/opt/conda/lib/python3.7/site-packages/ipykernel/kernelbase.py\u001b[0m in \u001b[0;36mgetpass\u001b[0;34m(self, prompt, stream)\u001b[0m\n\u001b[1;32m    844\u001b[0m             \u001b[0mself\u001b[0m\u001b[0;34m.\u001b[0m\u001b[0m_parent_ident\u001b[0m\u001b[0;34m,\u001b[0m\u001b[0;34m\u001b[0m\u001b[0;34m\u001b[0m\u001b[0m\n\u001b[1;32m    845\u001b[0m             \u001b[0mself\u001b[0m\u001b[0;34m.\u001b[0m\u001b[0m_parent_header\u001b[0m\u001b[0;34m,\u001b[0m\u001b[0;34m\u001b[0m\u001b[0;34m\u001b[0m\u001b[0m\n\u001b[0;32m--> 846\u001b[0;31m             \u001b[0mpassword\u001b[0m\u001b[0;34m=\u001b[0m\u001b[0;32mTrue\u001b[0m\u001b[0;34m,\u001b[0m\u001b[0;34m\u001b[0m\u001b[0;34m\u001b[0m\u001b[0m\n\u001b[0m\u001b[1;32m    847\u001b[0m         )\n\u001b[1;32m    848\u001b[0m \u001b[0;34m\u001b[0m\u001b[0m\n",
      "\u001b[0;32m/opt/conda/lib/python3.7/site-packages/ipykernel/kernelbase.py\u001b[0m in \u001b[0;36m_input_request\u001b[0;34m(self, prompt, ident, parent, password)\u001b[0m\n\u001b[1;32m    902\u001b[0m             \u001b[0;32mexcept\u001b[0m \u001b[0mKeyboardInterrupt\u001b[0m\u001b[0;34m:\u001b[0m\u001b[0;34m\u001b[0m\u001b[0;34m\u001b[0m\u001b[0m\n\u001b[1;32m    903\u001b[0m                 \u001b[0;31m# re-raise KeyboardInterrupt, to truncate traceback\u001b[0m\u001b[0;34m\u001b[0m\u001b[0;34m\u001b[0m\u001b[0;34m\u001b[0m\u001b[0m\n\u001b[0;32m--> 904\u001b[0;31m                 \u001b[0;32mraise\u001b[0m \u001b[0mKeyboardInterrupt\u001b[0m\u001b[0;34m(\u001b[0m\u001b[0;34m\"Interrupted by user\"\u001b[0m\u001b[0;34m)\u001b[0m \u001b[0;32mfrom\u001b[0m \u001b[0;32mNone\u001b[0m\u001b[0;34m\u001b[0m\u001b[0;34m\u001b[0m\u001b[0m\n\u001b[0m\u001b[1;32m    905\u001b[0m             \u001b[0;32mexcept\u001b[0m \u001b[0mException\u001b[0m \u001b[0;32mas\u001b[0m \u001b[0me\u001b[0m\u001b[0;34m:\u001b[0m\u001b[0;34m\u001b[0m\u001b[0;34m\u001b[0m\u001b[0m\n\u001b[1;32m    906\u001b[0m                 \u001b[0mself\u001b[0m\u001b[0;34m.\u001b[0m\u001b[0mlog\u001b[0m\u001b[0;34m.\u001b[0m\u001b[0mwarning\u001b[0m\u001b[0;34m(\u001b[0m\u001b[0;34m\"Invalid Message:\"\u001b[0m\u001b[0;34m,\u001b[0m \u001b[0mexc_info\u001b[0m\u001b[0;34m=\u001b[0m\u001b[0;32mTrue\u001b[0m\u001b[0;34m)\u001b[0m\u001b[0;34m\u001b[0m\u001b[0;34m\u001b[0m\u001b[0m\n",
      "\u001b[0;31mKeyboardInterrupt\u001b[0m: Interrupted by user"
     ]
    }
   ],
   "source": [
    "import getpass\n",
    "import os\n",
    "\n",
    "password = getpass.getpass()\n",
    "command = \"sudo apt-get install openjdk-8-jdk-headless -qq > /dev/null\"\n",
    "os.system('echo %s | %s' % (password, command))"
   ]
  },
  {
   "cell_type": "code",
   "execution_count": 18,
   "metadata": {},
   "outputs": [
    {
     "name": "stdout",
     "output_type": "stream",
     "text": [
      "Reading package lists... Done\n",
      "Building dependency tree       \n",
      "Reading state information... Done\n",
      "openjdk-8-jre-headless is already the newest version (8u265-b01-0+deb9u1).\n",
      "openjdk-8-jre-headless set to manually installed.\n",
      "0 upgraded, 0 newly installed, 0 to remove and 71 not upgraded.\n",
      "Collecting pyspark\n",
      "  Downloading pyspark-3.0.0.tar.gz (204.7 MB)\n",
      "\u001b[K     |████████████████████████████████| 204.7 MB 16 kB/s s eta 0:00:01\n",
      "\u001b[?25hCollecting py4j==0.10.9\n",
      "  Downloading py4j-0.10.9-py2.py3-none-any.whl (198 kB)\n",
      "\u001b[K     |████████████████████████████████| 198 kB 75.0 MB/s eta 0:00:01\n",
      "\u001b[?25hBuilding wheels for collected packages: pyspark\n",
      "  Building wheel for pyspark (setup.py) ... \u001b[?25ldone\n",
      "\u001b[?25h  Created wheel for pyspark: filename=pyspark-3.0.0-py2.py3-none-any.whl size=205044182 sha256=36fd05a2d0f1a3a372e51bdfbea19f17a942997e88137dc2e3ab9b2c35cf1f1c\n",
      "  Stored in directory: /home/jupyter/.cache/pip/wheels/4e/c5/36/aef1bb711963a619063119cc032176106827a129c0be20e301\n",
      "Successfully built pyspark\n",
      "Installing collected packages: py4j, pyspark\n",
      "Successfully installed py4j-0.10.9 pyspark-3.0.0\n"
     ]
    }
   ],
   "source": [
    "!sudo apt-get -y install openjdk-8-jre-headless\n",
    "!pip install pyspark\n"
   ]
  },
  {
   "cell_type": "code",
   "execution_count": 1,
   "metadata": {},
   "outputs": [],
   "source": [
    "from pyspark.sql import SparkSession\n",
    "from pyspark import SparkContext\n",
    "spark = SparkSession.builder.master(\"local\").getOrCreate()\n",
    "sc = SparkContext.getOrCreate()"
   ]
  },
  {
   "cell_type": "code",
   "execution_count": 2,
   "metadata": {},
   "outputs": [],
   "source": [
    "import os\n",
    "import pandas as pd\n",
    "import numpy as np\n",
    "import re\n",
    "from pyspark import SparkConf, SparkContext\n",
    "from pyspark.sql import SparkSession, SQLContext\n",
    "\n",
    "from pyspark.sql.types import *\n",
    "from pyspark.sql.functions import udf, col\n",
    "import pyspark.sql.functions as F\n",
    "\n",
    "from pyspark.ml.evaluation import RegressionEvaluator\n",
    "from pyspark.ml.recommendation import ALS #, Rating #, MatrixFactorizationModel\n",
    "\n",
    "from pyspark.ml.tuning import CrossValidator, ParamGridBuilder"
   ]
  },
  {
   "cell_type": "code",
   "execution_count": 3,
   "metadata": {},
   "outputs": [
    {
     "data": {
      "text/plain": [
       "1"
      ]
     },
     "execution_count": 3,
     "metadata": {},
     "output_type": "execute_result"
    }
   ],
   "source": [
    "1"
   ]
  },
  {
   "cell_type": "code",
   "execution_count": 4,
   "metadata": {},
   "outputs": [],
   "source": [
    "train_features = pd.read_csv(\"train_features.csv\")\n",
    "test_features = pd.read_csv(\"test_features.csv\")"
   ]
  },
  {
   "cell_type": "code",
   "execution_count": null,
   "metadata": {},
   "outputs": [
    {
     "data": {
      "text/html": [
       "<div>\n",
       "<style scoped>\n",
       "    .dataframe tbody tr th:only-of-type {\n",
       "        vertical-align: middle;\n",
       "    }\n",
       "\n",
       "    .dataframe tbody tr th {\n",
       "        vertical-align: top;\n",
       "    }\n",
       "\n",
       "    .dataframe thead th {\n",
       "        text-align: right;\n",
       "    }\n",
       "</style>\n",
       "<table border=\"1\" class=\"dataframe\">\n",
       "  <thead>\n",
       "    <tr style=\"text-align: right;\">\n",
       "      <th></th>\n",
       "      <th>Unnamed: 0</th>\n",
       "      <th>Unnamed: 0.1</th>\n",
       "      <th>msno</th>\n",
       "      <th>song_id</th>\n",
       "      <th>source_system_tab</th>\n",
       "      <th>source_screen_name</th>\n",
       "      <th>source_type</th>\n",
       "      <th>target</th>\n",
       "      <th>song_length_x</th>\n",
       "      <th>genre_ids_x</th>\n",
       "      <th>...</th>\n",
       "      <th>language_y</th>\n",
       "      <th>repeat_count</th>\n",
       "      <th>play_count</th>\n",
       "      <th>repeat_percentage</th>\n",
       "      <th>repeat_count_artist</th>\n",
       "      <th>play_count_artist</th>\n",
       "      <th>repeat_count_msno</th>\n",
       "      <th>play_count_msno</th>\n",
       "      <th>repeat_percentage_msno</th>\n",
       "      <th>song_year</th>\n",
       "    </tr>\n",
       "  </thead>\n",
       "  <tbody>\n",
       "    <tr>\n",
       "      <th>0</th>\n",
       "      <td>0</td>\n",
       "      <td>0</td>\n",
       "      <td>FGtllVqz18RPiwJj/edr2gV78zirAiY/9SmYvia+kCg=</td>\n",
       "      <td>BBzumQNXUHKdEBOB7mAJuzok+IJA1c2Ryg/yzTF6tik=</td>\n",
       "      <td>explore</td>\n",
       "      <td>Explore</td>\n",
       "      <td>online-playlist</td>\n",
       "      <td>1</td>\n",
       "      <td>206471.0</td>\n",
       "      <td>359</td>\n",
       "      <td>...</td>\n",
       "      <td>52.0</td>\n",
       "      <td>102</td>\n",
       "      <td>215</td>\n",
       "      <td>47.4</td>\n",
       "      <td>528.0</td>\n",
       "      <td>1140</td>\n",
       "      <td>2791</td>\n",
       "      <td>5511</td>\n",
       "      <td>50.6</td>\n",
       "      <td>3.0</td>\n",
       "    </tr>\n",
       "  </tbody>\n",
       "</table>\n",
       "<p>1 rows × 37 columns</p>\n",
       "</div>"
      ],
      "text/plain": [
       "   Unnamed: 0  Unnamed: 0.1                                          msno  \\\n",
       "0           0             0  FGtllVqz18RPiwJj/edr2gV78zirAiY/9SmYvia+kCg=   \n",
       "\n",
       "                                        song_id source_system_tab  \\\n",
       "0  BBzumQNXUHKdEBOB7mAJuzok+IJA1c2Ryg/yzTF6tik=           explore   \n",
       "\n",
       "  source_screen_name      source_type  target  song_length_x genre_ids_x  ...  \\\n",
       "0            Explore  online-playlist       1       206471.0         359  ...   \n",
       "\n",
       "  language_y repeat_count play_count  repeat_percentage repeat_count_artist  \\\n",
       "0       52.0          102        215               47.4               528.0   \n",
       "\n",
       "  play_count_artist  repeat_count_msno  play_count_msno  \\\n",
       "0              1140               2791             5511   \n",
       "\n",
       "  repeat_percentage_msno  song_year  \n",
       "0                   50.6        3.0  \n",
       "\n",
       "[1 rows x 37 columns]"
      ]
     },
     "execution_count": 5,
     "metadata": {},
     "output_type": "execute_result"
    }
   ],
   "source": [
    "train_features.head(1)"
   ]
  },
  {
   "cell_type": "code",
   "execution_count": null,
   "metadata": {},
   "outputs": [],
   "source": [
    "def str2id(msno):\n",
    "    res = re.sub('[a-zA-Z]','', msno)\n",
    "    ret = str(re.sub('\\W+','',res))\n",
    "    if len(ret) > 6:\n",
    "        return ret[:6]\n",
    "    return ret\n",
    "    \n",
    "\n",
    "\n",
    "train_features['msno_id'] = train_features['msno'].apply(str2id)"
   ]
  },
  {
   "cell_type": "code",
   "execution_count": null,
   "metadata": {},
   "outputs": [],
   "source": [
    "test_features['msno_id'] = test_features['msno'].apply(str2id)"
   ]
  },
  {
   "cell_type": "code",
   "execution_count": null,
   "metadata": {},
   "outputs": [],
   "source": [
    "train_features['song_new_id'] = train_features['song_id'].apply(str2id)"
   ]
  },
  {
   "cell_type": "code",
   "execution_count": null,
   "metadata": {},
   "outputs": [],
   "source": [
    "test_features['song_new_id'] = test_features['song_id'].apply(str2id)"
   ]
  },
  {
   "cell_type": "code",
   "execution_count": null,
   "metadata": {},
   "outputs": [],
   "source": [
    "train_features['msno_id'] = train_features['msno_id'].fillna(\"0\")\n",
    "test_features['msno_id'] = test_features['msno_id'].fillna(\"0\")\n",
    "train_features['song_new_id'] = train_features['song_new_id'].fillna(\"0\")\n",
    "test_features['song_new_id'] = test_features['song_new_id'].fillna(\"0\")\n",
    "train_features['target'] = train_features['target'].fillna(0)"
   ]
  },
  {
   "cell_type": "code",
   "execution_count": null,
   "metadata": {},
   "outputs": [],
   "source": [
    "train_features['source_system_tab'] = train_features['source_system_tab'].fillna('')\n",
    "train_features['source_screen_name'] = train_features['source_screen_name'].fillna('')\n",
    "train_features['source_type'] = train_features['source_type'].fillna('')\n",
    "train_features['song_length_x'] = train_features['song_length_x'].fillna(0)\n",
    "train_features['genre_ids_x'] = train_features['genre_ids_x'].fillna(0)\n",
    "train_features['artist_name_x'] = train_features['artist_name_x'].fillna('')\n",
    "train_features['lyricist_x'] = train_features['lyricist_x'].fillna('')\n",
    "train_features['composer_x'] = train_features['composer_x'].fillna('')\n",
    "train_features['language_x'] = train_features['language_x'].fillna(0)\n",
    "train_features['name'] = train_features['name'].fillna('')\n",
    "train_features['isrc'] = train_features['isrc'].fillna(0)\n",
    "train_features['city'] = train_features['city'].fillna(0)\n",
    "train_features['bd'] = train_features['bd'].fillna(0)\n",
    "train_features['gender'] = train_features['gender'].fillna('')\n",
    "train_features['registered_via'] = train_features['registered_via'].fillna(0)\n",
    "train_features['registration_init_time'] = train_features['registration_init_time'].fillna('1901-01-01')\n",
    "train_features['expiration_date'] = train_features['expiration_date'].fillna('1901-01-01')\n",
    "train_features['repeat_count'] = train_features['repeat_count'].fillna(0)\n",
    "train_features['play_count'] = train_features['play_count'].fillna(0)\n",
    "train_features['repeat_percentage'] = train_features['repeat_percentage'].fillna(0)\n",
    "train_features['repeat_count_artist'] = train_features['repeat_count_artist'].fillna(0)\n",
    "train_features['play_count_artist'] = train_features['play_count_artist'].fillna(0)\n",
    "train_features['repeat_count_msno'] = train_features['repeat_count_msno'].fillna(0)\n",
    "train_features['play_count_msno'] = train_features['play_count_msno'].fillna(0)\n",
    "train_features['repeat_percentage_msno'] = train_features['repeat_percentage_msno'].fillna(0)\n",
    "train_features['song_year'] = train_features['song_year'].fillna(0)\n",
    "#train_features['description'] = train_features['description'].fillna(0)"
   ]
  },
  {
   "cell_type": "code",
   "execution_count": null,
   "metadata": {},
   "outputs": [],
   "source": [
    "test_features['source_system_tab'] = train_features['source_system_tab'].fillna('')\n",
    "test_features['source_screen_name'] = train_features['source_screen_name'].fillna('')\n",
    "test_features['source_type'] = train_features['source_type'].fillna('')\n",
    "test_features['song_length_x'] = train_features['song_length_x'].fillna(0)\n",
    "test_features['genre_ids_x'] = train_features['genre_ids_x'].fillna(0)\n",
    "test_features['artist_name_x'] = train_features['artist_name_x'].fillna('')\n",
    "test_features['lyricist_x'] = train_features['lyricist_x'].fillna('')\n",
    "test_features['composer_x'] = train_features['composer_x'].fillna('')\n",
    "test_features['language_x'] = train_features['language_x'].fillna(0)\n",
    "test_features['name'] = train_features['name'].fillna('')\n",
    "test_features['isrc'] = train_features['isrc'].fillna(0)\n",
    "test_features['city'] = train_features['city'].fillna(0)\n",
    "test_features['bd'] = train_features['bd'].fillna(0)\n",
    "test_features['gender'] = train_features['gender'].fillna('')\n",
    "test_features['registered_via'] = train_features['registered_via'].fillna(0)\n",
    "test_features['registration_init_time'] = train_features['registration_init_time'].fillna('1901-01-01')\n",
    "test_features['expiration_date'] = train_features['expiration_date'].fillna('1901-01-01')\n",
    "test_features['repeat_count'] = train_features['repeat_count'].fillna(0)\n",
    "test_features['play_count'] = train_features['play_count'].fillna(0)\n",
    "test_features['repeat_percentage'] = train_features['repeat_percentage'].fillna(0)\n",
    "test_features['repeat_count_artist'] = train_features['repeat_count_artist'].fillna(0)\n",
    "test_features['play_count_artist'] = train_features['play_count_artist'].fillna(0)\n",
    "test_features['repeat_count_msno'] = train_features['repeat_count_msno'].fillna(0)\n",
    "test_features['play_count_msno'] = train_features['play_count_msno'].fillna(0)\n",
    "test_features['repeat_percentage_msno'] = train_features['repeat_percentage_msno'].fillna(0)\n",
    "test_features['song_year'] = train_features['song_year'].fillna(0)\n",
    "#train_features['description'] = train_features['description'].fillna(0)\n"
   ]
  },
  {
   "cell_type": "code",
   "execution_count": null,
   "metadata": {},
   "outputs": [
    {
     "data": {
      "text/plain": [
       "(7377418, 39)"
      ]
     },
     "execution_count": 13,
     "metadata": {},
     "output_type": "execute_result"
    }
   ],
   "source": [
    "\n",
    "train_features.shape"
   ]
  },
  {
   "cell_type": "code",
   "execution_count": 17,
   "metadata": {},
   "outputs": [
    {
     "data": {
      "text/plain": [
       "(7377418, 39)"
      ]
     },
     "execution_count": 17,
     "metadata": {},
     "output_type": "execute_result"
    }
   ],
   "source": [
    "train_features.dropna()\n",
    "test_features.dropna()\n",
    "train_features.shape"
   ]
  },
  {
   "cell_type": "code",
   "execution_count": 15,
   "metadata": {},
   "outputs": [
    {
     "data": {
      "text/plain": [
       "0"
      ]
     },
     "execution_count": 15,
     "metadata": {},
     "output_type": "execute_result"
    }
   ],
   "source": [
    "train_features.repeat_percentage_msno.isna().sum()"
   ]
  },
  {
   "cell_type": "code",
   "execution_count": 47,
   "metadata": {},
   "outputs": [
    {
     "data": {
      "text/html": [
       "<div>\n",
       "<style scoped>\n",
       "    .dataframe tbody tr th:only-of-type {\n",
       "        vertical-align: middle;\n",
       "    }\n",
       "\n",
       "    .dataframe tbody tr th {\n",
       "        vertical-align: top;\n",
       "    }\n",
       "\n",
       "    .dataframe thead th {\n",
       "        text-align: right;\n",
       "    }\n",
       "</style>\n",
       "<table border=\"1\" class=\"dataframe\">\n",
       "  <thead>\n",
       "    <tr style=\"text-align: right;\">\n",
       "      <th></th>\n",
       "      <th>Unnamed: 0</th>\n",
       "      <th>Unnamed: 0.1</th>\n",
       "      <th>id</th>\n",
       "      <th>msno</th>\n",
       "      <th>song_id</th>\n",
       "      <th>source_system_tab</th>\n",
       "      <th>source_screen_name</th>\n",
       "      <th>source_type</th>\n",
       "      <th>song_length_x</th>\n",
       "      <th>genre_ids_x</th>\n",
       "      <th>artist_name_x</th>\n",
       "      <th>composer_x</th>\n",
       "      <th>lyricist_x</th>\n",
       "      <th>language_x</th>\n",
       "      <th>name</th>\n",
       "      <th>isrc</th>\n",
       "      <th>city</th>\n",
       "      <th>bd</th>\n",
       "      <th>gender</th>\n",
       "      <th>registered_via</th>\n",
       "      <th>registration_init_time</th>\n",
       "      <th>expiration_date</th>\n",
       "      <th>song_length_y</th>\n",
       "      <th>genre_ids_y</th>\n",
       "      <th>artist_name_y</th>\n",
       "      <th>composer_y</th>\n",
       "      <th>lyricist_y</th>\n",
       "      <th>language_y</th>\n",
       "      <th>repeat_count</th>\n",
       "      <th>play_count</th>\n",
       "      <th>repeat_percentage</th>\n",
       "      <th>repeat_count_artist</th>\n",
       "      <th>play_count_artist</th>\n",
       "      <th>repeat_count_msno</th>\n",
       "      <th>play_count_msno</th>\n",
       "      <th>repeat_percentage_msno</th>\n",
       "      <th>song_year</th>\n",
       "      <th>msno_id</th>\n",
       "      <th>song_new_id</th>\n",
       "    </tr>\n",
       "  </thead>\n",
       "  <tbody>\n",
       "    <tr>\n",
       "      <th>0</th>\n",
       "      <td>0</td>\n",
       "      <td>0</td>\n",
       "      <td>0</td>\n",
       "      <td>V8ruy7SGk7tDm3zA51DPpn6qutt+vmKMBKa21dp54uM=</td>\n",
       "      <td>WmHKgKMlp1lQMecNdNvDMkvIycZYHnFwDT72I5sIssc=</td>\n",
       "      <td>explore</td>\n",
       "      <td>Explore</td>\n",
       "      <td>online-playlist</td>\n",
       "      <td>206471.0</td>\n",
       "      <td>359</td>\n",
       "      <td>Bastille</td>\n",
       "      <td>Dan Smith| Mark Crew</td>\n",
       "      <td></td>\n",
       "      <td>52.0</td>\n",
       "      <td>Good Grief</td>\n",
       "      <td>GBUM71602854</td>\n",
       "      <td>1</td>\n",
       "      <td>0</td>\n",
       "      <td></td>\n",
       "      <td>7</td>\n",
       "      <td>2012-01-02</td>\n",
       "      <td>2017-10-05</td>\n",
       "      <td>224130.0</td>\n",
       "      <td>458</td>\n",
       "      <td>梁文音 (Rachel Liang)</td>\n",
       "      <td>Qi Zheng Zhang</td>\n",
       "      <td>NaN</td>\n",
       "      <td>3.0</td>\n",
       "      <td>102</td>\n",
       "      <td>215</td>\n",
       "      <td>47.4</td>\n",
       "      <td>528.0</td>\n",
       "      <td>1140</td>\n",
       "      <td>2791</td>\n",
       "      <td>5511</td>\n",
       "      <td>50.6</td>\n",
       "      <td>3.0</td>\n",
       "      <td>8773516</td>\n",
       "      <td>1725</td>\n",
       "    </tr>\n",
       "    <tr>\n",
       "      <th>1</th>\n",
       "      <td>1</td>\n",
       "      <td>1</td>\n",
       "      <td>1</td>\n",
       "      <td>V8ruy7SGk7tDm3zA51DPpn6qutt+vmKMBKa21dp54uM=</td>\n",
       "      <td>y/rsZ9DC7FwK5F2PK2D5mj+aOBUJAjuu3dZ14NgE0vM=</td>\n",
       "      <td>my library</td>\n",
       "      <td>Local playlist more</td>\n",
       "      <td>local-playlist</td>\n",
       "      <td>284584.0</td>\n",
       "      <td>1259</td>\n",
       "      <td>Various Artists</td>\n",
       "      <td></td>\n",
       "      <td></td>\n",
       "      <td>52.0</td>\n",
       "      <td>Lords of Cardboard</td>\n",
       "      <td>US3C69910183</td>\n",
       "      <td>13</td>\n",
       "      <td>24</td>\n",
       "      <td>female</td>\n",
       "      <td>9</td>\n",
       "      <td>2011-05-25</td>\n",
       "      <td>2017-09-11</td>\n",
       "      <td>320470.0</td>\n",
       "      <td>465</td>\n",
       "      <td>林俊傑 (JJ Lin)</td>\n",
       "      <td>林俊傑</td>\n",
       "      <td>孫燕姿/易家揚</td>\n",
       "      <td>3.0</td>\n",
       "      <td>1</td>\n",
       "      <td>1</td>\n",
       "      <td>0.0</td>\n",
       "      <td>154799.0</td>\n",
       "      <td>303616</td>\n",
       "      <td>462</td>\n",
       "      <td>622</td>\n",
       "      <td>74.3</td>\n",
       "      <td>19.0</td>\n",
       "      <td>8773516</td>\n",
       "      <td>9752253</td>\n",
       "    </tr>\n",
       "    <tr>\n",
       "      <th>2</th>\n",
       "      <td>2</td>\n",
       "      <td>2</td>\n",
       "      <td>2</td>\n",
       "      <td>/uQAlrAkaczV+nWCd2sPF2ekvXPRipV7q0l+gbLuxjw=</td>\n",
       "      <td>8eZLFOdGVdXBSqoAv5nsLigeH2BvKXzTQYtUM53I0k4=</td>\n",
       "      <td>my library</td>\n",
       "      <td>Local playlist more</td>\n",
       "      <td>local-playlist</td>\n",
       "      <td>225396.0</td>\n",
       "      <td>1259</td>\n",
       "      <td>Nas</td>\n",
       "      <td>N. Jones、W. Adams、J. Lordan、D. Ingle</td>\n",
       "      <td></td>\n",
       "      <td>52.0</td>\n",
       "      <td>Hip Hop Is Dead(Album Version (Edited))</td>\n",
       "      <td>USUM70618761</td>\n",
       "      <td>13</td>\n",
       "      <td>24</td>\n",
       "      <td>female</td>\n",
       "      <td>9</td>\n",
       "      <td>2011-05-25</td>\n",
       "      <td>2017-09-11</td>\n",
       "      <td>315899.0</td>\n",
       "      <td>2022</td>\n",
       "      <td>Yu Takahashi (高橋優)</td>\n",
       "      <td>Yu Takahashi</td>\n",
       "      <td>Yu Takahashi</td>\n",
       "      <td>17.0</td>\n",
       "      <td>2</td>\n",
       "      <td>4</td>\n",
       "      <td>50.0</td>\n",
       "      <td>62.0</td>\n",
       "      <td>289</td>\n",
       "      <td>462</td>\n",
       "      <td>622</td>\n",
       "      <td>74.3</td>\n",
       "      <td>1.0</td>\n",
       "      <td>2270</td>\n",
       "      <td>8525304</td>\n",
       "    </tr>\n",
       "    <tr>\n",
       "      <th>3</th>\n",
       "      <td>3</td>\n",
       "      <td>3</td>\n",
       "      <td>3</td>\n",
       "      <td>1a6oo/iXKatxQx4eS9zTVD+KlSVaAFbTIqVvwLC1Y0k=</td>\n",
       "      <td>ztCf8thYsS4YN3GcIL/bvoxLm/T5mYBVKOO4C9NiVfQ=</td>\n",
       "      <td>my library</td>\n",
       "      <td>Local playlist more</td>\n",
       "      <td>local-playlist</td>\n",
       "      <td>255512.0</td>\n",
       "      <td>1019</td>\n",
       "      <td>Soundway</td>\n",
       "      <td>Kwadwo Donkoh</td>\n",
       "      <td></td>\n",
       "      <td>-1.0</td>\n",
       "      <td>Disco Africa</td>\n",
       "      <td>GBUQH1000063</td>\n",
       "      <td>13</td>\n",
       "      <td>24</td>\n",
       "      <td>female</td>\n",
       "      <td>9</td>\n",
       "      <td>2011-05-25</td>\n",
       "      <td>2017-09-11</td>\n",
       "      <td>285210.0</td>\n",
       "      <td>465</td>\n",
       "      <td>U2</td>\n",
       "      <td>The Edge| Adam Clayton| Larry Mullen| Jr.</td>\n",
       "      <td>NaN</td>\n",
       "      <td>52.0</td>\n",
       "      <td>1</td>\n",
       "      <td>1</td>\n",
       "      <td>0.0</td>\n",
       "      <td>1.0</td>\n",
       "      <td>1</td>\n",
       "      <td>462</td>\n",
       "      <td>622</td>\n",
       "      <td>74.3</td>\n",
       "      <td>2.0</td>\n",
       "      <td>164910</td>\n",
       "      <td>843549</td>\n",
       "    </tr>\n",
       "    <tr>\n",
       "      <th>4</th>\n",
       "      <td>4</td>\n",
       "      <td>4</td>\n",
       "      <td>4</td>\n",
       "      <td>1a6oo/iXKatxQx4eS9zTVD+KlSVaAFbTIqVvwLC1Y0k=</td>\n",
       "      <td>MKVMpslKcQhMaFEgcEQhEfi5+RZhMYlU3eRDpySrH8Y=</td>\n",
       "      <td>explore</td>\n",
       "      <td>Explore</td>\n",
       "      <td>online-playlist</td>\n",
       "      <td>187802.0</td>\n",
       "      <td>1011</td>\n",
       "      <td>Brett Young</td>\n",
       "      <td>Brett Young| Kelly Archer| Justin Ebach</td>\n",
       "      <td></td>\n",
       "      <td>52.0</td>\n",
       "      <td>Sleep Without You</td>\n",
       "      <td>QM3E21606003</td>\n",
       "      <td>1</td>\n",
       "      <td>0</td>\n",
       "      <td></td>\n",
       "      <td>7</td>\n",
       "      <td>2012-01-02</td>\n",
       "      <td>2017-10-05</td>\n",
       "      <td>197590.0</td>\n",
       "      <td>873</td>\n",
       "      <td>Yoga Mr Sound</td>\n",
       "      <td>Neuromancer</td>\n",
       "      <td>NaN</td>\n",
       "      <td>-1.0</td>\n",
       "      <td>150</td>\n",
       "      <td>412</td>\n",
       "      <td>36.4</td>\n",
       "      <td>161.0</td>\n",
       "      <td>427</td>\n",
       "      <td>2791</td>\n",
       "      <td>5511</td>\n",
       "      <td>50.6</td>\n",
       "      <td>3.0</td>\n",
       "      <td>164910</td>\n",
       "      <td>538</td>\n",
       "    </tr>\n",
       "  </tbody>\n",
       "</table>\n",
       "</div>"
      ],
      "text/plain": [
       "   Unnamed: 0  Unnamed: 0.1  id                                          msno  \\\n",
       "0           0             0   0  V8ruy7SGk7tDm3zA51DPpn6qutt+vmKMBKa21dp54uM=   \n",
       "1           1             1   1  V8ruy7SGk7tDm3zA51DPpn6qutt+vmKMBKa21dp54uM=   \n",
       "2           2             2   2  /uQAlrAkaczV+nWCd2sPF2ekvXPRipV7q0l+gbLuxjw=   \n",
       "3           3             3   3  1a6oo/iXKatxQx4eS9zTVD+KlSVaAFbTIqVvwLC1Y0k=   \n",
       "4           4             4   4  1a6oo/iXKatxQx4eS9zTVD+KlSVaAFbTIqVvwLC1Y0k=   \n",
       "\n",
       "                                        song_id source_system_tab  \\\n",
       "0  WmHKgKMlp1lQMecNdNvDMkvIycZYHnFwDT72I5sIssc=           explore   \n",
       "1  y/rsZ9DC7FwK5F2PK2D5mj+aOBUJAjuu3dZ14NgE0vM=        my library   \n",
       "2  8eZLFOdGVdXBSqoAv5nsLigeH2BvKXzTQYtUM53I0k4=        my library   \n",
       "3  ztCf8thYsS4YN3GcIL/bvoxLm/T5mYBVKOO4C9NiVfQ=        my library   \n",
       "4  MKVMpslKcQhMaFEgcEQhEfi5+RZhMYlU3eRDpySrH8Y=           explore   \n",
       "\n",
       "    source_screen_name      source_type  song_length_x genre_ids_x  \\\n",
       "0              Explore  online-playlist       206471.0         359   \n",
       "1  Local playlist more   local-playlist       284584.0        1259   \n",
       "2  Local playlist more   local-playlist       225396.0        1259   \n",
       "3  Local playlist more   local-playlist       255512.0        1019   \n",
       "4              Explore  online-playlist       187802.0        1011   \n",
       "\n",
       "     artist_name_x                               composer_x lyricist_x  \\\n",
       "0         Bastille                     Dan Smith| Mark Crew              \n",
       "1  Various Artists                                                       \n",
       "2              Nas     N. Jones、W. Adams、J. Lordan、D. Ingle              \n",
       "3         Soundway                            Kwadwo Donkoh              \n",
       "4      Brett Young  Brett Young| Kelly Archer| Justin Ebach              \n",
       "\n",
       "   language_x                                     name          isrc  city  \\\n",
       "0        52.0                               Good Grief  GBUM71602854     1   \n",
       "1        52.0                       Lords of Cardboard  US3C69910183    13   \n",
       "2        52.0  Hip Hop Is Dead(Album Version (Edited))  USUM70618761    13   \n",
       "3        -1.0                             Disco Africa  GBUQH1000063    13   \n",
       "4        52.0                        Sleep Without You  QM3E21606003     1   \n",
       "\n",
       "   bd  gender  registered_via registration_init_time expiration_date  \\\n",
       "0   0                       7             2012-01-02      2017-10-05   \n",
       "1  24  female               9             2011-05-25      2017-09-11   \n",
       "2  24  female               9             2011-05-25      2017-09-11   \n",
       "3  24  female               9             2011-05-25      2017-09-11   \n",
       "4   0                       7             2012-01-02      2017-10-05   \n",
       "\n",
       "   song_length_y genre_ids_y       artist_name_y  \\\n",
       "0       224130.0         458  梁文音 (Rachel Liang)   \n",
       "1       320470.0         465        林俊傑 (JJ Lin)   \n",
       "2       315899.0        2022  Yu Takahashi (高橋優)   \n",
       "3       285210.0         465                  U2   \n",
       "4       197590.0         873       Yoga Mr Sound   \n",
       "\n",
       "                                  composer_y    lyricist_y  language_y  \\\n",
       "0                             Qi Zheng Zhang           NaN         3.0   \n",
       "1                                        林俊傑       孫燕姿/易家揚         3.0   \n",
       "2                               Yu Takahashi  Yu Takahashi        17.0   \n",
       "3  The Edge| Adam Clayton| Larry Mullen| Jr.           NaN        52.0   \n",
       "4                                Neuromancer           NaN        -1.0   \n",
       "\n",
       "   repeat_count  play_count  repeat_percentage  repeat_count_artist  \\\n",
       "0           102         215               47.4                528.0   \n",
       "1             1           1                0.0             154799.0   \n",
       "2             2           4               50.0                 62.0   \n",
       "3             1           1                0.0                  1.0   \n",
       "4           150         412               36.4                161.0   \n",
       "\n",
       "   play_count_artist  repeat_count_msno  play_count_msno  \\\n",
       "0               1140               2791             5511   \n",
       "1             303616                462              622   \n",
       "2                289                462              622   \n",
       "3                  1                462              622   \n",
       "4                427               2791             5511   \n",
       "\n",
       "   repeat_percentage_msno  song_year  msno_id song_new_id  \n",
       "0                    50.6        3.0  8773516        1725  \n",
       "1                    74.3       19.0  8773516     9752253  \n",
       "2                    74.3        1.0     2270     8525304  \n",
       "3                    74.3        2.0   164910      843549  \n",
       "4                    50.6        3.0   164910         538  "
      ]
     },
     "execution_count": 47,
     "metadata": {},
     "output_type": "execute_result"
    }
   ],
   "source": [
    "test_features.head(5)"
   ]
  },
  {
   "cell_type": "code",
   "execution_count": null,
   "metadata": {},
   "outputs": [
    {
     "data": {
      "text/html": [
       "<div>\n",
       "<style scoped>\n",
       "    .dataframe tbody tr th:only-of-type {\n",
       "        vertical-align: middle;\n",
       "    }\n",
       "\n",
       "    .dataframe tbody tr th {\n",
       "        vertical-align: top;\n",
       "    }\n",
       "\n",
       "    .dataframe thead th {\n",
       "        text-align: right;\n",
       "    }\n",
       "</style>\n",
       "<table border=\"1\" class=\"dataframe\">\n",
       "  <thead>\n",
       "    <tr style=\"text-align: right;\">\n",
       "      <th></th>\n",
       "      <th>msno_id</th>\n",
       "      <th>song_new_id</th>\n",
       "      <th>target</th>\n",
       "    </tr>\n",
       "  </thead>\n",
       "  <tbody>\n",
       "    <tr>\n",
       "      <th>0</th>\n",
       "      <td>182789</td>\n",
       "      <td>7126</td>\n",
       "      <td>1</td>\n",
       "    </tr>\n",
       "    <tr>\n",
       "      <th>1</th>\n",
       "      <td>643790</td>\n",
       "      <td>8643</td>\n",
       "      <td>1</td>\n",
       "    </tr>\n",
       "    <tr>\n",
       "      <th>2</th>\n",
       "      <td>643790</td>\n",
       "      <td>77437</td>\n",
       "      <td>1</td>\n",
       "    </tr>\n",
       "    <tr>\n",
       "      <th>3</th>\n",
       "      <td>643790</td>\n",
       "      <td>287746</td>\n",
       "      <td>1</td>\n",
       "    </tr>\n",
       "    <tr>\n",
       "      <th>4</th>\n",
       "      <td>182789</td>\n",
       "      <td>366118</td>\n",
       "      <td>1</td>\n",
       "    </tr>\n",
       "  </tbody>\n",
       "</table>\n",
       "</div>"
      ],
      "text/plain": [
       "  msno_id song_new_id  target\n",
       "0  182789        7126       1\n",
       "1  643790        8643       1\n",
       "2  643790       77437       1\n",
       "3  643790      287746       1\n",
       "4  182789      366118       1"
      ]
     },
     "execution_count": 14,
     "metadata": {},
     "output_type": "execute_result"
    }
   ],
   "source": [
    "temp_train = train_features[['msno_id', 'song_new_id', 'target']]\n",
    "temp_train.head(5)"
   ]
  },
  {
   "cell_type": "code",
   "execution_count": null,
   "metadata": {},
   "outputs": [],
   "source": [
    "temp_test = test_features[['id', 'msno_id', 'song_new_id']]\n"
   ]
  },
  {
   "cell_type": "code",
   "execution_count": null,
   "metadata": {},
   "outputs": [],
   "source": [
    "temp_train.to_csv(\"temp2_train_features.csv\")\n",
    "temp_test.to_csv(\"temp2_test_features.csv\")\n"
   ]
  },
  {
   "cell_type": "code",
   "execution_count": null,
   "metadata": {},
   "outputs": [],
   "source": [
    "# Visualization\n",
    "from IPython.core.interactiveshell import InteractiveShell\n",
    "InteractiveShell.ast_node_interactivity = \"all\"\n",
    "\n",
    "pd.set_option('display.max_columns', 200)\n",
    "pd.set_option('display.max_colwidth', 400)\n",
    "\n",
    "import matplotlib.pyplot as plt\n",
    "plt.rc('figure', figsize=(18, 4))\n",
    "\n",
    "import seaborn as sns\n",
    "sns.set(context='notebook', style='whitegrid', rc={'figure.figsize': (18,4)})\n",
    "\n",
    "np.set_printoptions(precision=4, suppress=True)\n",
    "\n",
    "%matplotlib inline\n",
    "%config InlineBackend.figure_format = 'retina'"
   ]
  },
  {
   "cell_type": "code",
   "execution_count": null,
   "metadata": {},
   "outputs": [],
   "source": [
    "# set random seed for reproducability\n",
    "rnd_seed=42\n",
    "np.random.seed=rnd_seed\n",
    "np.random.set_state=rnd_seed"
   ]
  },
  {
   "cell_type": "code",
   "execution_count": null,
   "metadata": {},
   "outputs": [
    {
     "data": {
      "text/html": [
       "\n",
       "            <div>\n",
       "                <p><b>SparkSession - in-memory</b></p>\n",
       "                \n",
       "        <div>\n",
       "            <p><b>SparkContext</b></p>\n",
       "\n",
       "            <p><a href=\"http://python-20200612-104541.us-west1-b.c.winter-agency-280010.internal:4040\">Spark UI</a></p>\n",
       "\n",
       "            <dl>\n",
       "              <dt>Version</dt>\n",
       "                <dd><code>v3.0.0</code></dd>\n",
       "              <dt>Master</dt>\n",
       "                <dd><code>local</code></dd>\n",
       "              <dt>AppName</dt>\n",
       "                <dd><code>pyspark-shell</code></dd>\n",
       "            </dl>\n",
       "        </div>\n",
       "        \n",
       "            </div>\n",
       "        "
      ],
      "text/plain": [
       "<pyspark.sql.session.SparkSession at 0x7f8108225c90>"
      ]
     },
     "execution_count": 19,
     "metadata": {},
     "output_type": "execute_result"
    }
   ],
   "source": [
    "spark = (SparkSession\n",
    "         .builder\n",
    "         .master(\"local[*]\")\n",
    "         .appName(\"movie-recommender-pyspark\")\n",
    "         .getOrCreate())\n",
    "spark"
   ]
  },
  {
   "cell_type": "code",
   "execution_count": null,
   "metadata": {},
   "outputs": [
    {
     "data": {
      "text/html": [
       "\n",
       "        <div>\n",
       "            <p><b>SparkContext</b></p>\n",
       "\n",
       "            <p><a href=\"http://python-20200612-104541.us-west1-b.c.winter-agency-280010.internal:4040\">Spark UI</a></p>\n",
       "\n",
       "            <dl>\n",
       "              <dt>Version</dt>\n",
       "                <dd><code>v3.0.0</code></dd>\n",
       "              <dt>Master</dt>\n",
       "                <dd><code>local</code></dd>\n",
       "              <dt>AppName</dt>\n",
       "                <dd><code>pyspark-shell</code></dd>\n",
       "            </dl>\n",
       "        </div>\n",
       "        "
      ],
      "text/plain": [
       "<SparkContext master=local appName=pyspark-shell>"
      ]
     },
     "execution_count": 20,
     "metadata": {},
     "output_type": "execute_result"
    },
    {
     "name": "stdout",
     "output_type": "stream",
     "text": [
      "1\n"
     ]
    }
   ],
   "source": [
    "sc = spark.sparkContext\n",
    "sc\n",
    "print (sc.defaultParallelism)"
   ]
  },
  {
   "cell_type": "code",
   "execution_count": null,
   "metadata": {},
   "outputs": [
    {
     "data": {
      "text/plain": [
       "<pyspark.sql.context.SQLContext at 0x7f808419c310>"
      ]
     },
     "execution_count": 21,
     "metadata": {},
     "output_type": "execute_result"
    }
   ],
   "source": [
    "sqlContext = SQLContext(spark.sparkContext)\n",
    "sqlContext"
   ]
  },
  {
   "cell_type": "code",
   "execution_count": null,
   "metadata": {},
   "outputs": [
    {
     "name": "stdout",
     "output_type": "stream",
     "text": [
      "spark.app.id=local-1599960709354\n",
      "spark.app.name=pyspark-shell\n",
      "spark.driver.host=python-20200612-104541.us-west1-b.c.winter-agency-280010.internal\n",
      "spark.driver.port=34745\n",
      "spark.executor.id=driver\n",
      "spark.master=local\n",
      "spark.rdd.compress=True\n",
      "spark.serializer.objectStreamReset=100\n",
      "spark.submit.deployMode=client\n",
      "spark.submit.pyFiles=\n",
      "spark.ui.showConsoleProgress=true\n"
     ]
    }
   ],
   "source": [
    "print(sc.getConf().toDebugString())"
   ]
  },
  {
   "cell_type": "code",
   "execution_count": null,
   "metadata": {},
   "outputs": [],
   "source": [
    "train_features = sqlContext.read.format(\"com.databricks.spark.csv\").option(\"header\", \"true\").option(\"inferschema\", \"true\").option(\"mode\", \"DROPMALFORMED\").load(\"temp2_train_features.csv\")"
   ]
  },
  {
   "cell_type": "code",
   "execution_count": null,
   "metadata": {},
   "outputs": [],
   "source": [
    "test_features = sqlContext.read.format(\"com.databricks.spark.csv\").option(\"header\", \"true\").option(\"inferschema\", \"true\").option(\"mode\", \"DROPMALFORMED\").load(\"temp2_test_features.csv\")"
   ]
  },
  {
   "cell_type": "code",
   "execution_count": null,
   "metadata": {},
   "outputs": [
    {
     "data": {
      "text/html": [
       "<div>\n",
       "<style scoped>\n",
       "    .dataframe tbody tr th:only-of-type {\n",
       "        vertical-align: middle;\n",
       "    }\n",
       "\n",
       "    .dataframe tbody tr th {\n",
       "        vertical-align: top;\n",
       "    }\n",
       "\n",
       "    .dataframe thead th {\n",
       "        text-align: right;\n",
       "    }\n",
       "</style>\n",
       "<table border=\"1\" class=\"dataframe\">\n",
       "  <thead>\n",
       "    <tr style=\"text-align: right;\">\n",
       "      <th></th>\n",
       "      <th>_c0</th>\n",
       "      <th>msno_id</th>\n",
       "      <th>song_new_id</th>\n",
       "      <th>target</th>\n",
       "    </tr>\n",
       "  </thead>\n",
       "  <tbody>\n",
       "    <tr>\n",
       "      <th>0</th>\n",
       "      <td>0</td>\n",
       "      <td>182789</td>\n",
       "      <td>7126</td>\n",
       "      <td>1</td>\n",
       "    </tr>\n",
       "    <tr>\n",
       "      <th>1</th>\n",
       "      <td>1</td>\n",
       "      <td>643790</td>\n",
       "      <td>8643</td>\n",
       "      <td>1</td>\n",
       "    </tr>\n",
       "    <tr>\n",
       "      <th>2</th>\n",
       "      <td>2</td>\n",
       "      <td>643790</td>\n",
       "      <td>77437</td>\n",
       "      <td>1</td>\n",
       "    </tr>\n",
       "    <tr>\n",
       "      <th>3</th>\n",
       "      <td>3</td>\n",
       "      <td>643790</td>\n",
       "      <td>287746</td>\n",
       "      <td>1</td>\n",
       "    </tr>\n",
       "    <tr>\n",
       "      <th>4</th>\n",
       "      <td>4</td>\n",
       "      <td>182789</td>\n",
       "      <td>366118</td>\n",
       "      <td>1</td>\n",
       "    </tr>\n",
       "    <tr>\n",
       "      <th>5</th>\n",
       "      <td>5</td>\n",
       "      <td>182789</td>\n",
       "      <td>351057</td>\n",
       "      <td>1</td>\n",
       "    </tr>\n",
       "    <tr>\n",
       "      <th>6</th>\n",
       "      <td>6</td>\n",
       "      <td>643790</td>\n",
       "      <td>13958</td>\n",
       "      <td>1</td>\n",
       "    </tr>\n",
       "    <tr>\n",
       "      <th>7</th>\n",
       "      <td>7</td>\n",
       "      <td>182789</td>\n",
       "      <td>5831</td>\n",
       "      <td>1</td>\n",
       "    </tr>\n",
       "    <tr>\n",
       "      <th>8</th>\n",
       "      <td>8</td>\n",
       "      <td>58387</td>\n",
       "      <td>6723</td>\n",
       "      <td>1</td>\n",
       "    </tr>\n",
       "    <tr>\n",
       "      <th>9</th>\n",
       "      <td>9</td>\n",
       "      <td>58387</td>\n",
       "      <td>731337</td>\n",
       "      <td>1</td>\n",
       "    </tr>\n",
       "  </tbody>\n",
       "</table>\n",
       "</div>"
      ],
      "text/plain": [
       "   _c0  msno_id  song_new_id  target\n",
       "0    0   182789         7126       1\n",
       "1    1   643790         8643       1\n",
       "2    2   643790        77437       1\n",
       "3    3   643790       287746       1\n",
       "4    4   182789       366118       1\n",
       "5    5   182789       351057       1\n",
       "6    6   643790        13958       1\n",
       "7    7   182789         5831       1\n",
       "8    8    58387         6723       1\n",
       "9    9    58387       731337       1"
      ]
     },
     "execution_count": 25,
     "metadata": {},
     "output_type": "execute_result"
    }
   ],
   "source": [
    "train_features.limit(10).toPandas()"
   ]
  },
  {
   "cell_type": "code",
   "execution_count": null,
   "metadata": {},
   "outputs": [
    {
     "data": {
      "text/plain": [
       "1"
      ]
     },
     "execution_count": 26,
     "metadata": {},
     "output_type": "execute_result"
    }
   ],
   "source": [
    "1"
   ]
  },
  {
   "cell_type": "code",
   "execution_count": null,
   "metadata": {},
   "outputs": [
    {
     "name": "stdout",
     "output_type": "stream",
     "text": [
      "root\n",
      " |-- _c0: integer (nullable = true)\n",
      " |-- msno_id: integer (nullable = true)\n",
      " |-- song_new_id: integer (nullable = true)\n",
      " |-- target: integer (nullable = true)\n",
      "\n"
     ]
    }
   ],
   "source": [
    "train_features.printSchema()"
   ]
  },
  {
   "cell_type": "code",
   "execution_count": null,
   "metadata": {},
   "outputs": [],
   "source": [
    "train_features = train_features.drop(\"_c0\", \"Unnamed: 0\", \"language_y\", \"lyricist_y\", \"composer_y\", \"genre_ids_y\",\n",
    "                  \"song_length_y\")\n",
    "\n",
    "test_features = test_features.drop(\"_c0\", \"Unnamed: 0\", \"language_y\", \"lyricist_y\", \"composer_y\", \"genre_ids_y\",\n",
    "                  \"song_length_y\")"
   ]
  },
  {
   "cell_type": "code",
   "execution_count": 141,
   "metadata": {},
   "outputs": [
    {
     "name": "stdout",
     "output_type": "stream",
     "text": [
      "Number of songs with at least one rating strictly higher than 1000: 1072\n"
     ]
    }
   ],
   "source": [
    "(print(\"Number of songs with at least one rating strictly higher than 1000: {0}\".format(test_features.filter('play_count > 1000')\n",
    "                                                                                     .select('song_id')\n",
    "                                                                                     .distinct()\n",
    "                                                                                     .count())))"
   ]
  },
  {
   "cell_type": "code",
   "execution_count": null,
   "metadata": {},
   "outputs": [
    {
     "data": {
      "text/plain": [
       "[Row(msno_id=182789, song_new_id=7126, target=1)]"
      ]
     },
     "execution_count": 29,
     "metadata": {},
     "output_type": "execute_result"
    }
   ],
   "source": [
    "train_features.head(1)"
   ]
  },
  {
   "cell_type": "code",
   "execution_count": 99,
   "metadata": {},
   "outputs": [],
   "source": [
    "\n",
    "# lm = (sns.lmplot(x='msno', y='song_id', hue='play_count', \n",
    "#                  data=test_features.toPandas(), \n",
    "#                  fit_reg=False, size=10, aspect=2, \n",
    "#                  palette=sns.palplot(sns.diverging_palette(250, 15, n=5, center=\"dark\"))))"
   ]
  },
  {
   "cell_type": "code",
   "execution_count": null,
   "metadata": {},
   "outputs": [],
   "source": [
    "# def str2id(msno):\n",
    "#     res = re.sub('[a-zA-Z]','', msno)\n",
    "#     ret = str(re.sub('\\W+','',res))\n",
    "#     if len(ret) > 7:\n",
    "#         return ret[:7]\n",
    "#     return ret\n",
    "    \n",
    "\n",
    "\n",
    "# func = udf(lambda x: str2id(x), IntegerType())\n",
    "\n",
    "# #train_df['msno_id'] = train_df['msno'].apply(str2id)\n",
    "# train_features.withColumn(\"msno_id\",func(train_features.msno))\n",
    "# train_features.withColumn(\"song_new_id\",func(train_features.song_id))\n"
   ]
  },
  {
   "cell_type": "code",
   "execution_count": null,
   "metadata": {},
   "outputs": [
    {
     "data": {
      "text/plain": [
       "DataFrame[msno_id: int, song_new_id: int, target: int]"
      ]
     },
     "execution_count": 31,
     "metadata": {},
     "output_type": "execute_result"
    }
   ],
   "source": [
    "#因为训练集太大太大，难以训练\n",
    "train_features.withColumn(\"target\", train_features[\"target\"].cast(IntegerType()))\n",
    "train_df, test_df = train_features.randomSplit([0.8, 0.2], seed=rnd_seed)"
   ]
  },
  {
   "cell_type": "code",
   "execution_count": null,
   "metadata": {},
   "outputs": [],
   "source": [
    "train_df = train_df.withColumn(\"target\", train_df[\"target\"].cast(IntegerType()))\n",
    "test_df = test_df.withColumn(\"target\", test_df[\"target\"].cast(IntegerType()))"
   ]
  },
  {
   "cell_type": "code",
   "execution_count": 42,
   "metadata": {},
   "outputs": [
    {
     "data": {
      "text/plain": [
       "DataFrame[msno_id: int, song_new_id: int, target: int]"
      ]
     },
     "execution_count": 42,
     "metadata": {},
     "output_type": "execute_result"
    },
    {
     "data": {
      "text/plain": [
       "DataFrame[msno_id: int, song_new_id: int, target: int]"
      ]
     },
     "execution_count": 42,
     "metadata": {},
     "output_type": "execute_result"
    }
   ],
   "source": [
    "\n",
    "# we will cache the data because we will be using this dataframes over and over again\n",
    "train_df.cache()\n",
    "test_df.cache()"
   ]
  },
  {
   "cell_type": "code",
   "execution_count": 43,
   "metadata": {},
   "outputs": [
    {
     "name": "stdout",
     "output_type": "stream",
     "text": [
      "root\n",
      " |-- msno_id: integer (nullable = true)\n",
      " |-- song_new_id: integer (nullable = true)\n",
      " |-- target: integer (nullable = true)\n",
      "\n"
     ]
    }
   ],
   "source": [
    "train_df.printSchema()"
   ]
  },
  {
   "cell_type": "code",
   "execution_count": null,
   "metadata": {},
   "outputs": [
    {
     "data": {
      "text/plain": [
       "[Row(msno_id=182789, song_new_id=7126, target=1)]"
      ]
     },
     "execution_count": 35,
     "metadata": {},
     "output_type": "execute_result"
    }
   ],
   "source": [
    "train_features.head(1)"
   ]
  },
  {
   "cell_type": "code",
   "execution_count": null,
   "metadata": {},
   "outputs": [],
   "source": [
    "# Build the recommendation model using ALS on the training data\n",
    "als = ALS(rank=10, maxIter=10, regParam=0.01, userCol='msno_id', itemCol='song_new_id', ratingCol='target', coldStartStrategy=\"drop\", seed=rnd_seed)\n",
    "\n"
   ]
  },
  {
   "cell_type": "code",
   "execution_count": 84,
   "metadata": {},
   "outputs": [],
   "source": [
    "from pyspark.sql import functions\n",
    "from pyspark.mllib.evaluation import RankingMetrics, RegressionMetrics\n",
    "#train_df.withColumn(\"msno_id\", functions.lit(0))"
   ]
  },
  {
   "cell_type": "code",
   "execution_count": null,
   "metadata": {},
   "outputs": [
    {
     "data": {
      "text/plain": [
       "109"
      ]
     },
     "execution_count": 38,
     "metadata": {},
     "output_type": "execute_result"
    }
   ],
   "source": [
    "import gc\n",
    "gc.collect()"
   ]
  },
  {
   "cell_type": "code",
   "execution_count": 38,
   "metadata": {},
   "outputs": [
    {
     "name": "stdout",
     "output_type": "stream",
     "text": [
      "+-----+\n",
      "|    0|\n",
      "+-----+\n",
      "| true|\n",
      "| true|\n",
      "| true|\n",
      "| true|\n",
      "| true|\n",
      "| true|\n",
      "| true|\n",
      "| true|\n",
      "| true|\n",
      "|false|\n",
      "|false|\n",
      "|false|\n",
      "|false|\n",
      "|false|\n",
      "|false|\n",
      "|false|\n",
      "|false|\n",
      "|false|\n",
      "|false|\n",
      "|false|\n",
      "+-----+\n",
      "only showing top 20 rows\n",
      "\n"
     ]
    }
   ],
   "source": [
    "from pyspark.sql.functions import isnull, isnan\n",
    "train_df.select(isnull(\"song_new_id\").alias(\"0\")).show()"
   ]
  },
  {
   "cell_type": "code",
   "execution_count": 41,
   "metadata": {},
   "outputs": [],
   "source": [
    "#train_df[\"msno_id\"].combine_first(0)"
   ]
  },
  {
   "cell_type": "code",
   "execution_count": null,
   "metadata": {},
   "outputs": [
    {
     "data": {
      "text/html": [
       "<div>\n",
       "<style scoped>\n",
       "    .dataframe tbody tr th:only-of-type {\n",
       "        vertical-align: middle;\n",
       "    }\n",
       "\n",
       "    .dataframe tbody tr th {\n",
       "        vertical-align: top;\n",
       "    }\n",
       "\n",
       "    .dataframe thead th {\n",
       "        text-align: right;\n",
       "    }\n",
       "</style>\n",
       "<table border=\"1\" class=\"dataframe\">\n",
       "  <thead>\n",
       "    <tr style=\"text-align: right;\">\n",
       "      <th></th>\n",
       "      <th>msno_id</th>\n",
       "      <th>song_new_id</th>\n",
       "      <th>target</th>\n",
       "    </tr>\n",
       "  </thead>\n",
       "  <tbody>\n",
       "    <tr>\n",
       "      <th>0</th>\n",
       "      <td>182789</td>\n",
       "      <td>7126</td>\n",
       "      <td>1</td>\n",
       "    </tr>\n",
       "    <tr>\n",
       "      <th>1</th>\n",
       "      <td>643790</td>\n",
       "      <td>8643</td>\n",
       "      <td>1</td>\n",
       "    </tr>\n",
       "    <tr>\n",
       "      <th>2</th>\n",
       "      <td>643790</td>\n",
       "      <td>77437</td>\n",
       "      <td>1</td>\n",
       "    </tr>\n",
       "    <tr>\n",
       "      <th>3</th>\n",
       "      <td>643790</td>\n",
       "      <td>287746</td>\n",
       "      <td>1</td>\n",
       "    </tr>\n",
       "    <tr>\n",
       "      <th>4</th>\n",
       "      <td>182789</td>\n",
       "      <td>366118</td>\n",
       "      <td>1</td>\n",
       "    </tr>\n",
       "    <tr>\n",
       "      <th>5</th>\n",
       "      <td>182789</td>\n",
       "      <td>351057</td>\n",
       "      <td>1</td>\n",
       "    </tr>\n",
       "    <tr>\n",
       "      <th>6</th>\n",
       "      <td>643790</td>\n",
       "      <td>13958</td>\n",
       "      <td>1</td>\n",
       "    </tr>\n",
       "    <tr>\n",
       "      <th>7</th>\n",
       "      <td>182789</td>\n",
       "      <td>5831</td>\n",
       "      <td>1</td>\n",
       "    </tr>\n",
       "    <tr>\n",
       "      <th>8</th>\n",
       "      <td>58387</td>\n",
       "      <td>6723</td>\n",
       "      <td>1</td>\n",
       "    </tr>\n",
       "    <tr>\n",
       "      <th>9</th>\n",
       "      <td>58387</td>\n",
       "      <td>731337</td>\n",
       "      <td>1</td>\n",
       "    </tr>\n",
       "  </tbody>\n",
       "</table>\n",
       "</div>"
      ],
      "text/plain": [
       "   msno_id  song_new_id  target\n",
       "0   182789         7126       1\n",
       "1   643790         8643       1\n",
       "2   643790        77437       1\n",
       "3   643790       287746       1\n",
       "4   182789       366118       1\n",
       "5   182789       351057       1\n",
       "6   643790        13958       1\n",
       "7   182789         5831       1\n",
       "8    58387         6723       1\n",
       "9    58387       731337       1"
      ]
     },
     "execution_count": 39,
     "metadata": {},
     "output_type": "execute_result"
    }
   ],
   "source": [
    "train_features.limit(10).toPandas()"
   ]
  },
  {
   "cell_type": "code",
   "execution_count": null,
   "metadata": {},
   "outputs": [],
   "source": [
    "#train_df = train_df.orderBy(\"msno_id\")\n",
    "train_df = train_df.fillna(0)\n",
    "test_df = test_df.fillna(0)"
   ]
  },
  {
   "cell_type": "code",
   "execution_count": null,
   "metadata": {},
   "outputs": [
    {
     "data": {
      "text/html": [
       "<div>\n",
       "<style scoped>\n",
       "    .dataframe tbody tr th:only-of-type {\n",
       "        vertical-align: middle;\n",
       "    }\n",
       "\n",
       "    .dataframe tbody tr th {\n",
       "        vertical-align: top;\n",
       "    }\n",
       "\n",
       "    .dataframe thead th {\n",
       "        text-align: right;\n",
       "    }\n",
       "</style>\n",
       "<table border=\"1\" class=\"dataframe\">\n",
       "  <thead>\n",
       "    <tr style=\"text-align: right;\">\n",
       "      <th></th>\n",
       "      <th>msno_id</th>\n",
       "      <th>song_new_id</th>\n",
       "      <th>target</th>\n",
       "    </tr>\n",
       "  </thead>\n",
       "  <tbody>\n",
       "    <tr>\n",
       "      <th>0</th>\n",
       "      <td>0</td>\n",
       "      <td>0</td>\n",
       "      <td>0</td>\n",
       "    </tr>\n",
       "    <tr>\n",
       "      <th>1</th>\n",
       "      <td>0</td>\n",
       "      <td>0</td>\n",
       "      <td>0</td>\n",
       "    </tr>\n",
       "    <tr>\n",
       "      <th>2</th>\n",
       "      <td>0</td>\n",
       "      <td>0</td>\n",
       "      <td>0</td>\n",
       "    </tr>\n",
       "    <tr>\n",
       "      <th>3</th>\n",
       "      <td>0</td>\n",
       "      <td>0</td>\n",
       "      <td>0</td>\n",
       "    </tr>\n",
       "    <tr>\n",
       "      <th>4</th>\n",
       "      <td>0</td>\n",
       "      <td>0</td>\n",
       "      <td>1</td>\n",
       "    </tr>\n",
       "    <tr>\n",
       "      <th>5</th>\n",
       "      <td>0</td>\n",
       "      <td>0</td>\n",
       "      <td>1</td>\n",
       "    </tr>\n",
       "    <tr>\n",
       "      <th>6</th>\n",
       "      <td>0</td>\n",
       "      <td>0</td>\n",
       "      <td>1</td>\n",
       "    </tr>\n",
       "    <tr>\n",
       "      <th>7</th>\n",
       "      <td>0</td>\n",
       "      <td>0</td>\n",
       "      <td>1</td>\n",
       "    </tr>\n",
       "    <tr>\n",
       "      <th>8</th>\n",
       "      <td>0</td>\n",
       "      <td>0</td>\n",
       "      <td>1</td>\n",
       "    </tr>\n",
       "    <tr>\n",
       "      <th>9</th>\n",
       "      <td>0</td>\n",
       "      <td>0</td>\n",
       "      <td>0</td>\n",
       "    </tr>\n",
       "  </tbody>\n",
       "</table>\n",
       "</div>"
      ],
      "text/plain": [
       "   msno_id  song_new_id  target\n",
       "0        0            0       0\n",
       "1        0            0       0\n",
       "2        0            0       0\n",
       "3        0            0       0\n",
       "4        0            0       1\n",
       "5        0            0       1\n",
       "6        0            0       1\n",
       "7        0            0       1\n",
       "8        0            0       1\n",
       "9        0            0       0"
      ]
     },
     "execution_count": 41,
     "metadata": {},
     "output_type": "execute_result"
    }
   ],
   "source": [
    "train_df.limit(10).toPandas()"
   ]
  },
  {
   "cell_type": "code",
   "execution_count": null,
   "metadata": {},
   "outputs": [],
   "source": [
    "model = als.fit(train_df)"
   ]
  },
  {
   "cell_type": "code",
   "execution_count": 45,
   "metadata": {},
   "outputs": [
    {
     "name": "stdout",
     "output_type": "stream",
     "text": [
      "+---+----------------------------------------------------------------------------------------------------+\n",
      "| id|                                                                                            features|\n",
      "+---+----------------------------------------------------------------------------------------------------+\n",
      "|  0|[-0.025261449, -0.3200597, 0.13558546, -0.06688132, -0.36999127, -0.37474155, -0.47915238, -0.249...|\n",
      "| 10|[-0.38584155, -0.5800418, 0.12796, -0.03428915, 0.010083084, -0.64424795, -0.4288808, -0.14846393...|\n",
      "| 20|[-0.110638276, -0.43918008, 0.26699138, 0.2653487, -0.4436625, -0.68173647, -0.23061687, -0.06858...|\n",
      "| 30|[-0.3659993, -0.27386227, -0.027479652, 0.35194445, -0.19346803, -0.5503287, -0.19324715, -0.4417...|\n",
      "| 40|[-0.218055, 0.050975718, -0.2741511, 0.0060462668, -0.31619093, -0.4281153, -0.22927262, -0.37442...|\n",
      "| 50|[-0.1725919, -0.17967756, -0.08847102, -0.14216883, -0.42307615, -0.8067499, -0.2566834, -0.38349...|\n",
      "| 60|[-0.118093126, -0.517598, 0.17795575, 0.25347397, -0.26672623, -0.42723185, -0.045545053, -0.3330...|\n",
      "| 70|[-0.22592735, -0.22647206, -0.10331011, 0.51975423, -0.23533212, -0.37824744, -0.4991714, -0.0584...|\n",
      "| 80|[0.17755306, 0.035493255, 0.27800566, 0.38533467, -0.6198236, -0.14916086, -0.12748419, -0.217061...|\n",
      "| 90|[-0.1511536, -0.18797186, -0.22846419, 0.1374118, -0.797774, -0.14248213, -0.18329631, -0.0624759...|\n",
      "+---+----------------------------------------------------------------------------------------------------+\n",
      "only showing top 10 rows\n",
      "\n"
     ]
    }
   ],
   "source": [
    "model.userFactors.show(10, 100)"
   ]
  },
  {
   "cell_type": "code",
   "execution_count": null,
   "metadata": {},
   "outputs": [
    {
     "data": {
      "text/plain": [
       "27805"
      ]
     },
     "execution_count": 46,
     "metadata": {},
     "output_type": "execute_result"
    }
   ],
   "source": [
    "model.userFactors.count()"
   ]
  },
  {
   "cell_type": "code",
   "execution_count": 48,
   "metadata": {},
   "outputs": [
    {
     "name": "stdout",
     "output_type": "stream",
     "text": [
      "+---+----------------------------------------------------------------------------------------------------+\n",
      "| id|                                                                                            features|\n",
      "+---+----------------------------------------------------------------------------------------------------+\n",
      "|  0|[-0.08059619, -0.14277264, 0.002137795, 0.04637022, -0.32817626, -0.35285893, -0.17084545, -0.324...|\n",
      "| 10|[-0.009540478, -0.2703578, 0.072347164, -0.19129835, -0.18653986, -0.22790945, -0.13785708, -0.42...|\n",
      "| 20|[-0.32017204, -0.3497971, -0.04570556, -0.068731226, -0.2132581, -0.07885092, -0.22913638, -0.353...|\n",
      "| 30|[-0.018630382, -0.29803267, 0.007969981, -0.07298389, -0.15459387, -0.30189875, -0.22593027, -0.3...|\n",
      "| 40|[-0.031342316, -0.2743831, 0.024820112, -0.0019409717, -0.32987043, -0.41848636, -0.15371953, -0....|\n",
      "| 50|[-0.13556553, -0.2704415, -0.08949764, -0.11744851, -0.17650323, -0.051439345, -0.2937678, -0.421...|\n",
      "| 60|[-0.02466895, -0.22568442, 0.013149417, -0.055264495, -0.26861095, -0.34826142, -0.18447338, -0.2...|\n",
      "| 70|[-0.28701356, -0.15880804, -0.15758677, -0.049587965, -0.31527215, -0.30560318, -0.40575036, -0.1...|\n",
      "| 80|[-0.30100998, -0.26538482, -0.027496483, -0.03061486, -0.14701864, -0.24228795, -0.39066374, -0.1...|\n",
      "| 90|[-0.2951811, -0.25670615, -0.02215399, -0.24978974, -0.24835043, -0.11999978, -0.31606248, -0.111...|\n",
      "+---+----------------------------------------------------------------------------------------------------+\n",
      "only showing top 10 rows\n",
      "\n"
     ]
    }
   ],
   "source": [
    "model.itemFactors.show(10, 100)"
   ]
  },
  {
   "cell_type": "code",
   "execution_count": 55,
   "metadata": {},
   "outputs": [],
   "source": [
    "paramGrid = (ParamGridBuilder()\n",
    "             .addGrid(als.rank, [1, 5, 10])\n",
    "             .addGrid(als.maxIter, [20])\n",
    "             .addGrid(als.regParam, [0.05, 0.1, 0.5])\n",
    "             .build())"
   ]
  },
  {
   "cell_type": "code",
   "execution_count": 56,
   "metadata": {},
   "outputs": [],
   "source": [
    "evaluator = RegressionEvaluator(predictionCol='prediction', labelCol='target', metricName='rmse')"
   ]
  },
  {
   "cell_type": "code",
   "execution_count": 59,
   "metadata": {},
   "outputs": [],
   "source": [
    "crossval = CrossValidator(estimator=als, estimatorParamMaps=paramGrid, evaluator=evaluator, numFolds=3)"
   ]
  },
  {
   "cell_type": "code",
   "execution_count": null,
   "metadata": {},
   "outputs": [],
   "source": [
    "cvModel = crossval.fit(train_df)"
   ]
  },
  {
   "cell_type": "code",
   "execution_count": 63,
   "metadata": {},
   "outputs": [
    {
     "data": {
      "text/plain": [
       "1"
      ]
     },
     "execution_count": 63,
     "metadata": {},
     "output_type": "execute_result"
    }
   ],
   "source": [
    "1"
   ]
  },
  {
   "cell_type": "code",
   "execution_count": 64,
   "metadata": {},
   "outputs": [
    {
     "data": {
      "text/plain": [
       "2"
      ]
     },
     "execution_count": 64,
     "metadata": {},
     "output_type": "execute_result"
    }
   ],
   "source": [
    "from pyspark.ml.recommendation import ALS\n",
    "\n",
    "def tune_ALS(train_data, validation_data, maxIter, regParams, ranks):\n",
    "    # initial\n",
    "    min_error = float('inf')\n",
    "    best_rank = -1\n",
    "    best_regularization = 0\n",
    "    best_model = None\n",
    "    for rank in ranks:\n",
    "        for reg in regParams:\n",
    "            # get ALS model\n",
    "            als = ALS().setMaxIter(maxIter).setRank(rank).setRegParam(reg)\n",
    "            # train ALS model\n",
    "            model = als.fit(train_data)\n",
    "            # evaluate the model by computing the RMSE on the validation data\n",
    "            predictions = model.transform(validation_data)\n",
    "            evaluator = RegressionEvaluator(metricName=\"rmse\",\n",
    "                                            labelCol=\"rating\",\n",
    "                                            predictionCol=\"prediction\")\n",
    "            rmse = evaluator.evaluate(predictions)\n",
    "            print('{} latent factors and regularization = {}: '\n",
    "                  'validation RMSE is {}'.format(rank, reg, rmse))\n",
    "            if rmse < min_error:\n",
    "                min_error = rmse\n",
    "                best_rank = rank\n",
    "                best_regularization = reg\n",
    "                best_model = model\n",
    "    print('\\nThe best model has {} latent factors and '\n",
    "          'regularization = {}'.format(best_rank, best_regularization))\n",
    "    return best_model"
   ]
  },
  {
   "cell_type": "code",
   "execution_count": null,
   "metadata": {},
   "outputs": [],
   "source": []
  },
  {
   "cell_type": "code",
   "execution_count": 65,
   "metadata": {},
   "outputs": [],
   "source": [
    "best_model = cvModel.bestModel"
   ]
  },
  {
   "cell_type": "code",
   "execution_count": 49,
   "metadata": {},
   "outputs": [
    {
     "name": "stdout",
     "output_type": "stream",
     "text": [
      "+-------+-----------+------+\n",
      "|msno_id|song_new_id|target|\n",
      "+-------+-----------+------+\n",
      "|      0|      29513|     0|\n",
      "|      0|      84309|     1|\n",
      "|      0|      86508|     1|\n",
      "|      0|     129488|     1|\n",
      "|      0|     170477|     0|\n",
      "|      0|     206968|     1|\n",
      "|      0|     250958|     1|\n",
      "|      0|     596355|     0|\n",
      "|      0|     642897|     1|\n",
      "|      0|     643659|     0|\n",
      "+-------+-----------+------+\n",
      "\n"
     ]
    }
   ],
   "source": [
    "test_df.sample(fraction=0.01).limit(10).show(10)"
   ]
  },
  {
   "cell_type": "code",
   "execution_count": 71,
   "metadata": {},
   "outputs": [
    {
     "name": "stdout",
     "output_type": "stream",
     "text": [
      "+-------+-----------+------+-----------+\n",
      "|msno_id|song_new_id|target| prediction|\n",
      "+-------+-----------+------+-----------+\n",
      "| 565154|        148|     0|  0.2910931|\n",
      "| 279532|        148|     1| 0.30200347|\n",
      "| 489334|        148|     1| 0.20511226|\n",
      "| 898551|        148|     0|0.101649076|\n",
      "| 292001|        148|     0| 0.28564808|\n",
      "| 700446|        148|     0|  0.5206393|\n",
      "| 847780|        148|     0| 0.19588542|\n",
      "| 232047|        148|     0| 0.20670481|\n",
      "|    691|        148|     1|   0.317098|\n",
      "| 405872|        148|     0| 0.30772084|\n",
      "|  12176|        148|     1|  0.5971481|\n",
      "|  41563|        148|     0|  0.3444055|\n",
      "| 426116|        148|     1|  0.8897885|\n",
      "| 382227|        148|     0|  0.2813537|\n",
      "|  41757|        148|     0| 0.34624657|\n",
      "| 627940|        148|     1| 0.12110627|\n",
      "| 421445|        148|     0| 0.17576729|\n",
      "|  10548|        148|     0| 0.38657314|\n",
      "| 606282|        148|     0| 0.23770678|\n",
      "|  66259|        148|     0| 0.25451034|\n",
      "+-------+-----------+------+-----------+\n",
      "only showing top 20 rows\n",
      "\n"
     ]
    }
   ],
   "source": [
    "music_pred = cvModel.transform(test_df)\n",
    "music_pred.show()\n",
    "#model.recommendProductsForUsers(643790, 287746)"
   ]
  },
  {
   "cell_type": "code",
   "execution_count": 73,
   "metadata": {},
   "outputs": [
    {
     "name": "stdout",
     "output_type": "stream",
     "text": [
      "+-------+-----------+------+------------+\n",
      "|msno_id|song_new_id|target|  prediction|\n",
      "+-------+-----------+------+------------+\n",
      "| 565154|        148|     0|   0.2910931|\n",
      "| 279532|        148|     1|  0.30200347|\n",
      "| 489334|        148|     1|  0.20511226|\n",
      "| 898551|        148|     0| 0.101649076|\n",
      "| 292001|        148|     0|  0.28564808|\n",
      "| 700446|        148|     0|   0.5206393|\n",
      "| 847780|        148|     0|  0.19588542|\n",
      "| 232047|        148|     0|  0.20670481|\n",
      "|    691|        148|     1|    0.317098|\n",
      "| 405872|        148|     0|  0.30772084|\n",
      "|  12176|        148|     1|   0.5971481|\n",
      "|  41563|        148|     0|   0.3444055|\n",
      "| 426116|        148|     1|   0.8897885|\n",
      "| 382227|        148|     0|   0.2813537|\n",
      "|  41757|        148|     0|  0.34624657|\n",
      "| 627940|        148|     1|  0.12110627|\n",
      "| 421445|        148|     0|  0.17576729|\n",
      "|  10548|        148|     0|  0.38657314|\n",
      "| 606282|        148|     0|  0.23770678|\n",
      "|  66259|        148|     0|  0.25451034|\n",
      "|  40020|        148|     0|  0.44649667|\n",
      "|  83346|        463|     1|   0.4158675|\n",
      "| 477620|        463|     1|   0.4037892|\n",
      "| 959497|        463|     0|  0.11509853|\n",
      "| 776534|        463|     1|   0.5726868|\n",
      "|  72624|        463|     1|  0.40564457|\n",
      "| 333801|        463|     0|   0.5826423|\n",
      "| 919460|        463|     1|  0.29556018|\n",
      "|  22120|        463|     1|  0.39497182|\n",
      "|  12257|        463|     1|  0.62601244|\n",
      "|  76523|        463|     0|   0.3403104|\n",
      "|  56015|        463|     0|   0.4394246|\n",
      "|  86921|        463|     1|   0.6854622|\n",
      "| 749082|        463|     1|  0.39722857|\n",
      "|    239|        463|     0|   0.3922097|\n",
      "| 155569|        463|     0|  0.19389299|\n",
      "|  60169|        463|     1|  0.61473966|\n",
      "|  24924|        463|     0|  0.13931188|\n",
      "| 518008|        463|     1|   0.6561073|\n",
      "| 399589|        463|     1|   0.3300824|\n",
      "| 758959|        463|     0|   0.6066725|\n",
      "|   6111|        463|     1|  0.21193413|\n",
      "| 571813|        463|     0|  0.10124357|\n",
      "|  65647|        463|     0|   0.3119343|\n",
      "| 602742|        471|     1|   0.5109157|\n",
      "| 101713|        471|     1|  0.47553635|\n",
      "| 560106|        471|     1|    0.411821|\n",
      "| 591475|        471|     0|  0.37490007|\n",
      "|  70916|        471|     1|   0.6372622|\n",
      "| 433704|        471|     0|  0.46223792|\n",
      "|  83112|        471|     0|   0.4562243|\n",
      "| 111645|        471|     0|  0.22480713|\n",
      "| 962376|        471|     1|  0.39887547|\n",
      "|   9131|        471|     1|  0.41106716|\n",
      "| 621151|        471|     0|   0.4364029|\n",
      "|   1232|        471|     0|  0.40644363|\n",
      "|  43043|        471|     0|  0.47031546|\n",
      "| 360271|        471|     0|   0.3354407|\n",
      "|     88|        471|     0|   0.4511153|\n",
      "|  81956|        471|     0|   0.4432793|\n",
      "| 716035|        471|     1|   0.3723601|\n",
      "| 250884|        471|     0|  0.42846212|\n",
      "|  67805|        471|     1|   0.5070653|\n",
      "| 308801|        471|     1|   0.5680092|\n",
      "|  30188|        471|     1|   0.5266768|\n",
      "| 603918|        471|     0|  0.53821653|\n",
      "|   5669|        471|     1|  0.42676476|\n",
      "|   3551|        471|     0|  0.23461813|\n",
      "|    591|        471|     1|   0.2222478|\n",
      "| 847538|        471|     0|  0.29082057|\n",
      "|   8219|        471|     0|  0.48023766|\n",
      "| 328429|        471|     1|   0.6270887|\n",
      "| 947582|        471|     0|  0.63271636|\n",
      "| 391835|        471|     0|    0.125242|\n",
      "| 250344|        471|     0|   0.5380641|\n",
      "|    378|        471|     1|  0.46340162|\n",
      "| 282363|        471|     0|  0.29043978|\n",
      "| 622430|        471|     1|  0.40791485|\n",
      "| 668538|        471|     1|   0.7818036|\n",
      "| 957288|        471|     0|   0.6258209|\n",
      "|   3460|        471|     0|    0.311811|\n",
      "| 657261|        471|     0|  0.51821715|\n",
      "| 787930|        471|     0|  0.30437976|\n",
      "| 777254|        471|     0|  0.30310905|\n",
      "|    281|        471|     0|  0.61690545|\n",
      "| 308480|        471|     1|    0.547587|\n",
      "|    186|        471|     1|    0.588432|\n",
      "| 499738|        471|     0|  0.44056845|\n",
      "| 718199|        471|     1|  0.72353876|\n",
      "| 963556|        496|     0|0.0121709965|\n",
      "|   9016|        496|     0|  0.21860822|\n",
      "|   8723|        496|     0|  0.45784003|\n",
      "| 668652|        496|     0|   0.3231833|\n",
      "|  96877|        496|     0|  0.26430836|\n",
      "|   7648|        496|     0|  0.20143878|\n",
      "|      9|        496|     0|  0.29583585|\n",
      "| 231688|        496|     1|  0.36690497|\n",
      "|  70864|        496|     1|  0.23545249|\n",
      "| 115049|        496|     1|  0.24429949|\n",
      "| 734358|        496|     0|   0.4842863|\n",
      "+-------+-----------+------+------------+\n",
      "only showing top 100 rows\n",
      "\n"
     ]
    }
   ],
   "source": [
    "music_pred.filter(\"prediction < 1.0 or prediction > 0.5\").show(100)"
   ]
  },
  {
   "cell_type": "code",
   "execution_count": 74,
   "metadata": {},
   "outputs": [
    {
     "data": {
      "text/plain": [
       "DataFrame[msno_id: int, song_new_id: int, target: float, prediction: float, prediction_rounded: float]"
      ]
     },
     "execution_count": 74,
     "metadata": {},
     "output_type": "execute_result"
    }
   ],
   "source": [
    "music_rating_preds = (music_pred\n",
    "                      .withColumn(\"prediction_rounded\", F.rint('prediction').cast(FloatType()))\n",
    "                      .withColumn(\"target\", col('target').cast(FloatType()))\n",
    "                     )\n",
    "music_rating_preds.cache()"
   ]
  },
  {
   "cell_type": "code",
   "execution_count": 75,
   "metadata": {},
   "outputs": [],
   "source": [
    "RMSE = evaluator.evaluate(music_rating_preds)"
   ]
  },
  {
   "cell_type": "code",
   "execution_count": 76,
   "metadata": {},
   "outputs": [
    {
     "name": "stdout",
     "output_type": "stream",
     "text": [
      "Root Mean Squared Error = 0.4550337605391539\n"
     ]
    }
   ],
   "source": [
    "print(\"Root Mean Squared Error = {0}\".format(RMSE))"
   ]
  },
  {
   "cell_type": "code",
   "execution_count": 77,
   "metadata": {},
   "outputs": [
    {
     "data": {
      "text/plain": [
       "0.5620356021749016"
      ]
     },
     "execution_count": 77,
     "metadata": {},
     "output_type": "execute_result"
    }
   ],
   "source": [
    "\n",
    "# RMSE with rating rounded column\n",
    "RegressionEvaluator(predictionCol='prediction_rounded', labelCol='target', metricName='rmse').evaluate(music_rating_preds)"
   ]
  },
  {
   "cell_type": "code",
   "execution_count": null,
   "metadata": {},
   "outputs": [],
   "source": [
    "from pyspark.mllib.evaluation import RankingMetrics, RegressionMetrics"
   ]
  },
  {
   "cell_type": "code",
   "execution_count": 79,
   "metadata": {},
   "outputs": [],
   "source": [
    "perUserActual = (music_rating_preds\n",
    "                 .where(col(\"target\") > 0.7)\n",
    "                 .groupBy(\"msno_id\")\n",
    "                 .agg(F.collect_set(\"song_new_id\").alias(\"music\")))"
   ]
  },
  {
   "cell_type": "code",
   "execution_count": 80,
   "metadata": {},
   "outputs": [
    {
     "name": "stdout",
     "output_type": "stream",
     "text": [
      "+-------+--------------------+\n",
      "|msno_id|               music|\n",
      "+-------+--------------------+\n",
      "|  14832|[48609, 952262, 8...|\n",
      "|  32592|[166021, 424333, ...|\n",
      "| 302124|[601176, 78190, 4...|\n",
      "| 716163|[568270, 30, 9541...|\n",
      "| 740678|[48609, 60, 11108...|\n",
      "| 882285|[424333, 28545, 3...|\n",
      "|   2366|[481385, 8068, 17...|\n",
      "|  73091|[81805, 844354, 4...|\n",
      "| 188125|       [897, 674748]|\n",
      "| 228408|[1199, 279323, 74...|\n",
      "| 251742|[0, 864927, 39304...|\n",
      "| 327814|[46852, 9380, 501...|\n",
      "| 328324|[12704, 889390, 3...|\n",
      "| 470179|[864927, 731008, ...|\n",
      "| 474305|[5039, 7384, 2850...|\n",
      "| 492123|[48609, 514391, 4...|\n",
      "| 551582|[246184, 239491, ...|\n",
      "| 597517|[2063, 78190, 963...|\n",
      "| 632365|[760996, 93937, 5...|\n",
      "| 679597|[33547, 198920, 9...|\n",
      "+-------+--------------------+\n",
      "only showing top 20 rows\n",
      "\n"
     ]
    }
   ],
   "source": [
    "perUserActual.show()"
   ]
  },
  {
   "cell_type": "code",
   "execution_count": 81,
   "metadata": {},
   "outputs": [
    {
     "name": "stdout",
     "output_type": "stream",
     "text": [
      "+-------+--------------------+\n",
      "|msno_id|               music|\n",
      "+-------+--------------------+\n",
      "|    148|[98385, 3987, 293...|\n",
      "|    463|[610, 0, 763363, ...|\n",
      "|    471|[1902, 901099, 68...|\n",
      "|    496|[97775, 100099, 3...|\n",
      "|   1088|[530588, 443753, ...|\n",
      "|   1591|[847584, 256978, ...|\n",
      "|   1829|[48609, 386629, 5...|\n",
      "|   1959|[486988, 557208, ...|\n",
      "|   2142|[11143, 89638, 49...|\n",
      "|   2366|[593997, 565832, ...|\n",
      "|   2659|[19376, 510079, 9...|\n",
      "|   2866|[883869, 82176, 2...|\n",
      "|   3997|[0, 97362, 8320, ...|\n",
      "|   4818|[453464, 283475, ...|\n",
      "|   4900|[0, 972544, 46852...|\n",
      "|   4935|[14680, 116972, 605]|\n",
      "|   7754|[33411, 236729, 8...|\n",
      "|   7880|[76688, 10680, 92...|\n",
      "|   8389|[565832, 439742, ...|\n",
      "|   8592|     [375062, 67529]|\n",
      "+-------+--------------------+\n",
      "only showing top 20 rows\n",
      "\n"
     ]
    }
   ],
   "source": [
    "\n",
    "perUserPredictions = (music_rating_preds.orderBy([\"msno_id\", \"prediction\"], ascending=[True, False])\n",
    "                 .groupBy(\"msno_id\")\n",
    "                 .agg(F.collect_set(\"song_new_id\").alias(\"music\")))\n",
    "\n",
    "perUserPredictions.show()\n"
   ]
  },
  {
   "cell_type": "code",
   "execution_count": 82,
   "metadata": {},
   "outputs": [],
   "source": [
    "perUserActualvPred = (perUserActual.join(perUserPredictions, [\"msno_id\"]).rdd\n",
    "                      .map(lambda row: (row[1], row[2][:15])))"
   ]
  },
  {
   "cell_type": "code",
   "execution_count": 85,
   "metadata": {},
   "outputs": [],
   "source": [
    "\n",
    "ranks = RankingMetrics(perUserActualvPred)"
   ]
  },
  {
   "cell_type": "code",
   "execution_count": 86,
   "metadata": {},
   "outputs": [
    {
     "data": {
      "text/plain": [
       "<pyspark.mllib.evaluation.RankingMetrics at 0x7f8082e0e750>"
      ]
     },
     "execution_count": 86,
     "metadata": {},
     "output_type": "execute_result"
    }
   ],
   "source": [
    "ranks"
   ]
  },
  {
   "cell_type": "code",
   "execution_count": 87,
   "metadata": {},
   "outputs": [
    {
     "data": {
      "text/plain": [
       "0.410300350722384"
      ]
     },
     "execution_count": 87,
     "metadata": {},
     "output_type": "execute_result"
    }
   ],
   "source": [
    "ranks.meanAveragePrecision"
   ]
  },
  {
   "cell_type": "code",
   "execution_count": 88,
   "metadata": {},
   "outputs": [
    {
     "data": {
      "text/plain": [
       "0.6010418057967143"
      ]
     },
     "execution_count": 88,
     "metadata": {},
     "output_type": "execute_result"
    }
   ],
   "source": [
    "ranks.precisionAt(5)"
   ]
  },
  {
   "cell_type": "code",
   "execution_count": 89,
   "metadata": {},
   "outputs": [],
   "source": [
    "#take lots of time\n",
    "# top 3 movies recommended for each user\n",
    "user_recs = best_model.recommendForAllUsers(3)"
   ]
  },
  {
   "cell_type": "code",
   "execution_count": 90,
   "metadata": {},
   "outputs": [
    {
     "name": "stdout",
     "output_type": "stream",
     "text": [
      "+-------+------------------------------------------------------------------+\n",
      "|msno_id|recommendations                                                   |\n",
      "+-------+------------------------------------------------------------------+\n",
      "|148    |[[667587, 0.56942385], [86750, 0.56942385], [839881, 0.5307072]]  |\n",
      "|463    |[[326260, 1.208981], [49414, 1.208981], [307117, 1.2072794]]      |\n",
      "|471    |[[839881, 0.6772567], [842900, 0.662526], [410034, 0.6561722]]    |\n",
      "|496    |[[513450, 1.0301806], [326260, 1.0258677], [49414, 1.0258677]]    |\n",
      "|1088   |[[513450, 0.91686845], [984190, 0.8857839], [348837, 0.852147]]   |\n",
      "|1591   |[[49964, 1.4699262], [410034, 1.4618485], [44407, 1.4030604]]     |\n",
      "|1829   |[[488959, 0.9008638], [313146, 0.8915163], [606821, 0.89049286]]  |\n",
      "|1959   |[[384420, 1.3532628], [676952, 1.3355956], [67659, 1.280351]]     |\n",
      "|2142   |[[305992, 0.98327714], [139261, 0.98327714], [907603, 0.98327714]]|\n",
      "|2366   |[[307117, 1.5458423], [842900, 1.5193088], [839881, 1.5192887]]   |\n",
      "|2659   |[[919460, 1.3992732], [76994, 1.2907736], [415024, 1.2907736]]    |\n",
      "|2866   |[[150834, 1.0138502], [969811, 0.9219455], [161907, 0.89932007]]  |\n",
      "|3997   |[[67659, 0.9631398], [410034, 0.93732697], [512159, 0.9340611]]   |\n",
      "|4818   |[[919460, 1.4970739], [842900, 1.4154702], [460131, 1.3682506]]   |\n",
      "|4900   |[[351703, 1.4890221], [607454, 1.4472656], [958626, 1.3440124]]   |\n",
      "|4935   |[[513450, 1.3489764], [951058, 1.2170277], [874249, 1.1884849]]   |\n",
      "|7754   |[[187574, 1.2078514], [126079, 1.2078514], [757115, 1.1473856]]   |\n",
      "|7880   |[[637391, 0.9932453], [919460, 0.9424038], [608215, 0.9047455]]   |\n",
      "|8086   |[[0, 0.0], [10, 0.0], [20, 0.0]]                                  |\n",
      "|8389   |[[285932, 1.7545519], [874249, 1.6761483], [720762, 1.5990088]]   |\n",
      "+-------+------------------------------------------------------------------+\n",
      "only showing top 20 rows\n",
      "\n"
     ]
    }
   ],
   "source": [
    "user_recs.show(truncate=False)"
   ]
  },
  {
   "cell_type": "code",
   "execution_count": 135,
   "metadata": {},
   "outputs": [
    {
     "data": {
      "text/plain": [
       "DataFrame[msno_id: int, recommendations: array<struct<song_new_id:int,rating:float>>]"
      ]
     },
     "execution_count": 135,
     "metadata": {},
     "output_type": "execute_result"
    }
   ],
   "source": [
    "user_recs"
   ]
  },
  {
   "cell_type": "code",
   "execution_count": 91,
   "metadata": {},
   "outputs": [
    {
     "name": "stdout",
     "output_type": "stream",
     "text": [
      "+-------+-------------------------------------------------------------+\n",
      "|msno_id|recommendations                                              |\n",
      "+-------+-------------------------------------------------------------+\n",
      "|1959   |[[384420, 1.3532628], [676952, 1.3355956], [67659, 1.280351]]|\n",
      "+-------+-------------------------------------------------------------+\n",
      "\n"
     ]
    }
   ],
   "source": [
    "user_recs_one = user_recs.where(user_recs.msno_id == 1959).cache()\n",
    "user_recs_one.show(truncate=False)"
   ]
  },
  {
   "cell_type": "code",
   "execution_count": null,
   "metadata": {},
   "outputs": [],
   "source": []
  },
  {
   "cell_type": "code",
   "execution_count": 136,
   "metadata": {},
   "outputs": [
    {
     "data": {
      "text/plain": [
       "[Row(msno_id=1959, song_new_id=[384420, 676952, 67659], rating=[1.3532627820968628, 1.3355956077575684, 1.2803510427474976])]"
      ]
     },
     "execution_count": 136,
     "metadata": {},
     "output_type": "execute_result"
    }
   ],
   "source": [
    "user_recs_one.select(\"msno_id\", \"recommendations.song_new_id\", \"recommendations.rating\").collect()"
   ]
  },
  {
   "cell_type": "code",
   "execution_count": 141,
   "metadata": {},
   "outputs": [],
   "source": [
    "user_recs_one = user_recs_one.toPandas()"
   ]
  },
  {
   "cell_type": "code",
   "execution_count": 142,
   "metadata": {},
   "outputs": [
    {
     "data": {
      "text/html": [
       "<div>\n",
       "<style scoped>\n",
       "    .dataframe tbody tr th:only-of-type {\n",
       "        vertical-align: middle;\n",
       "    }\n",
       "\n",
       "    .dataframe tbody tr th {\n",
       "        vertical-align: top;\n",
       "    }\n",
       "\n",
       "    .dataframe thead th {\n",
       "        text-align: right;\n",
       "    }\n",
       "</style>\n",
       "<table border=\"1\" class=\"dataframe\">\n",
       "  <thead>\n",
       "    <tr style=\"text-align: right;\">\n",
       "      <th></th>\n",
       "      <th>msno_id</th>\n",
       "      <th>recommendations</th>\n",
       "    </tr>\n",
       "  </thead>\n",
       "  <tbody>\n",
       "    <tr>\n",
       "      <th>0</th>\n",
       "      <td>1959</td>\n",
       "      <td>[(384420, 1.3532627820968628), (676952, 1.3355956077575684), (67659, 1.2803510427474976)]</td>\n",
       "    </tr>\n",
       "  </tbody>\n",
       "</table>\n",
       "</div>"
      ],
      "text/plain": [
       "   msno_id  \\\n",
       "0     1959   \n",
       "\n",
       "                                                                             recommendations  \n",
       "0  [(384420, 1.3532627820968628), (676952, 1.3355956077575684), (67659, 1.2803510427474976)]  "
      ]
     },
     "execution_count": 142,
     "metadata": {},
     "output_type": "execute_result"
    }
   ],
   "source": [
    "user_recs_one"
   ]
  },
  {
   "cell_type": "code",
   "execution_count": null,
   "metadata": {},
   "outputs": [],
   "source": []
  },
  {
   "cell_type": "code",
   "execution_count": 98,
   "metadata": {},
   "outputs": [],
   "source": [
    "#hybrid"
   ]
  },
  {
   "cell_type": "code",
   "execution_count": 99,
   "metadata": {},
   "outputs": [],
   "source": [
    "cosine_sim = np.loadtxt('cosine_sim.txt',delimiter=',')"
   ]
  },
  {
   "cell_type": "code",
   "execution_count": 100,
   "metadata": {},
   "outputs": [
    {
     "data": {
      "text/plain": [
       "(837500, 500)"
      ]
     },
     "execution_count": 100,
     "metadata": {},
     "output_type": "execute_result"
    }
   ],
   "source": [
    "cosine_sim.shape"
   ]
  },
  {
   "cell_type": "code",
   "execution_count": 101,
   "metadata": {},
   "outputs": [
    {
     "data": {
      "text/plain": [
       "44"
      ]
     },
     "execution_count": 101,
     "metadata": {},
     "output_type": "execute_result"
    }
   ],
   "source": []
  },
  {
   "cell_type": "code",
   "execution_count": null,
   "metadata": {},
   "outputs": [],
   "source": []
  },
  {
   "cell_type": "code",
   "execution_count": 145,
   "metadata": {},
   "outputs": [],
   "source": [
    "def hybrid(userId, title):\n",
    "    \n",
    "    idxs = get_index_by_name(title)    \n",
    "    sim_scores = get_cosine_sim_scores2(idxs)\n",
    "    movies = remove_blank(sim_scores)\n",
    "    movies = getFrame_by_indexs(movies)\n",
    "    \n",
    "\n",
    "    movies = movies.drop(['id','index'], axis=1)\n",
    "    movies['msno'] = userId\n",
    "    movies = change_data_type(movies)\n",
    "    \n",
    "    movies['est'] = gbm.predict(movies)\n",
    "    #movies['est'] = movies['song_id'].apply(lambda x: algo.predict(userId, x).est)\n",
    "                                 \n",
    "#     movies = movies.sort_values('est', ascending=False)\n",
    "#     return movies.head(10)\n",
    "    return movies\n",
    "\n",
    "def change_data_type(music):\n",
    "    drop_list2 = ['Unnamed: 0', 'Unnamed: 0.1']\n",
    "    music = music.drop(drop_list2,axis=1)\n",
    "    for col in music.columns:\n",
    "        if music[col].dtype == object:\n",
    "            #test_features[col] = train_features[col].astype('category')\n",
    "            music[col] = music[col].astype('category')\n",
    "    return music\n",
    "\n",
    "def getFrame_by_indexs(movies):\n",
    "    indexs = []\n",
    "    for i, v in movies.items():\n",
    "        indexs.append(i)\n",
    "    indexs = sorted(indexs)\n",
    "    begin = new_train_features.iloc[indexs[-1]:indexs[-1]+1]\n",
    "    for i in range(len(indexs)-1):\n",
    "        results = new_train_features.iloc[indexs[i]:indexs[i]+1]\n",
    "        begin = pd.concat([begin, results])\n",
    "\n",
    "    return begin\n",
    "\n",
    "\n",
    "\n",
    "def get_index_by_name(name):\n",
    "    specific_songs = new_train_features.loc[new_train_features.name.str.contains(name)]\n",
    "    #specific_songs = test_features.loc[test_features.name.str.contains(name)]\n",
    "    dd = specific_songs.head(5)\n",
    "    #print(dd.index)\n",
    "    return dd.index\n",
    "\n",
    "def get_scores(slist):\n",
    "    res = []\n",
    "    for i in slist:\n",
    "        if i != 0:\n",
    "            res.append(i)\n",
    "    return res\n",
    "\n",
    "def get_cosine_sim_scores2(idxs):\n",
    "    res = []\n",
    "    for i in idxs:\n",
    "        sim_scores = list(enumerate(cosine_sim[i]))\n",
    "        sim_scores = sorted(sim_scores, key=lambda x: x[1], reverse=True)\n",
    "        sim_scores = sim_scores[1:31]\n",
    "        movie_indices = [i[0] for i in sim_scores]\n",
    "        temp = titles.iloc[movie_indices]\n",
    "        res.append(temp)\n",
    "\n",
    "    return res\n",
    "\n",
    "def get_cosine_sim_scores(idx):\n",
    "    res = []\n",
    "    for i in range(len(cosine_sim_list)):\n",
    "        if len(consine_sim_list[i]) > idx:\n",
    "            temp = cosine_sim_list[i][idx]\n",
    "            res.append(temp)\n",
    "            \n",
    "        #temp = map(lambda x: get_scores(x), cosine_sim_list)\n",
    "    sim_scores = list(enumerate(res))\n",
    "    #print(sim_scores)\n",
    "    return sim_scores\n"
   ]
  },
  {
   "cell_type": "code",
   "execution_count": null,
   "metadata": {},
   "outputs": [],
   "source": []
  },
  {
   "cell_type": "code",
   "execution_count": null,
   "metadata": {},
   "outputs": [],
   "source": []
  },
  {
   "cell_type": "code",
   "execution_count": 113,
   "metadata": {},
   "outputs": [],
   "source": [
    "def get_recommendation(title):\n",
    "    idx = indices[title]\n",
    "    sim_scores = list(enumerate(cosine_sim[idx]))\n",
    "    sim_scores = sorted(sim_scores, key=lambda x: x[1], reverse=True)\n",
    "    sim_scores = sim_scores[1:26]\n",
    "    movie_indices = [i[0] for i in sim_scores]\n",
    "    return titles.iloc[movie_indices]    \n",
    "    \n",
    "        \n",
    "def get_recommendations2(title):\n",
    "    idxs = get_index_by_name(title)    \n",
    "    sim_scores = get_cosine_sim_scores2(idxs)\n",
    "    return sim_scores"
   ]
  },
  {
   "cell_type": "code",
   "execution_count": 223,
   "metadata": {},
   "outputs": [],
   "source": [
    "new_train_features = pd.read_csv('test_features.csv')"
   ]
  },
  {
   "cell_type": "code",
   "execution_count": 224,
   "metadata": {},
   "outputs": [],
   "source": [
    "new_train_features.drop('song_length_y',axis = 1 , inplace =True)\n",
    "new_train_features.drop('genre_ids_y',axis = 1 , inplace =True)\n",
    "new_train_features.drop('artist_name_y',axis = 1 , inplace =True)\n",
    "new_train_features.drop('composer_y',axis = 1 , inplace =True)\n",
    "new_train_features.drop('lyricist_y',axis = 1 , inplace =True)\n",
    "new_train_features.drop('language_y',axis = 1 , inplace =True)\n",
    "new_train_features.drop('lyricist_x',axis = 1 , inplace =True)\n",
    "new_train_features.drop('source_type',axis = 1 , inplace =True)\n"
   ]
  },
  {
   "cell_type": "code",
   "execution_count": 225,
   "metadata": {},
   "outputs": [
    {
     "data": {
      "text/plain": [
       "1"
      ]
     },
     "execution_count": 225,
     "metadata": {},
     "output_type": "execute_result"
    }
   ],
   "source": [
    "1"
   ]
  },
  {
   "cell_type": "code",
   "execution_count": 226,
   "metadata": {},
   "outputs": [],
   "source": [
    "new_train_features['description'] = new_train_features['name'] + new_train_features['artist_name_x']\n",
    "new_train_features['name'] = new_train_features['name'].fillna('')"
   ]
  },
  {
   "cell_type": "code",
   "execution_count": null,
   "metadata": {},
   "outputs": [],
   "source": []
  },
  {
   "cell_type": "code",
   "execution_count": null,
   "metadata": {},
   "outputs": [],
   "source": []
  },
  {
   "cell_type": "code",
   "execution_count": 227,
   "metadata": {},
   "outputs": [
    {
     "data": {
      "text/html": [
       "<div>\n",
       "<style scoped>\n",
       "    .dataframe tbody tr th:only-of-type {\n",
       "        vertical-align: middle;\n",
       "    }\n",
       "\n",
       "    .dataframe tbody tr th {\n",
       "        vertical-align: top;\n",
       "    }\n",
       "\n",
       "    .dataframe thead th {\n",
       "        text-align: right;\n",
       "    }\n",
       "</style>\n",
       "<table border=\"1\" class=\"dataframe\">\n",
       "  <thead>\n",
       "    <tr style=\"text-align: right;\">\n",
       "      <th></th>\n",
       "      <th>Unnamed: 0</th>\n",
       "      <th>Unnamed: 0.1</th>\n",
       "      <th>id</th>\n",
       "      <th>msno</th>\n",
       "      <th>song_id</th>\n",
       "      <th>source_system_tab</th>\n",
       "      <th>source_screen_name</th>\n",
       "      <th>song_length_x</th>\n",
       "      <th>genre_ids_x</th>\n",
       "      <th>artist_name_x</th>\n",
       "      <th>composer_x</th>\n",
       "      <th>language_x</th>\n",
       "      <th>name</th>\n",
       "      <th>isrc</th>\n",
       "      <th>city</th>\n",
       "      <th>bd</th>\n",
       "      <th>gender</th>\n",
       "      <th>registered_via</th>\n",
       "      <th>registration_init_time</th>\n",
       "      <th>expiration_date</th>\n",
       "      <th>repeat_count</th>\n",
       "      <th>play_count</th>\n",
       "      <th>repeat_percentage</th>\n",
       "      <th>repeat_count_artist</th>\n",
       "      <th>play_count_artist</th>\n",
       "      <th>repeat_count_msno</th>\n",
       "      <th>play_count_msno</th>\n",
       "      <th>repeat_percentage_msno</th>\n",
       "      <th>song_year</th>\n",
       "      <th>description</th>\n",
       "    </tr>\n",
       "  </thead>\n",
       "  <tbody>\n",
       "    <tr>\n",
       "      <th>0</th>\n",
       "      <td>0</td>\n",
       "      <td>0</td>\n",
       "      <td>0</td>\n",
       "      <td>V8ruy7SGk7tDm3zA51DPpn6qutt+vmKMBKa21dp54uM=</td>\n",
       "      <td>WmHKgKMlp1lQMecNdNvDMkvIycZYHnFwDT72I5sIssc=</td>\n",
       "      <td>my library</td>\n",
       "      <td>Local playlist more</td>\n",
       "      <td>224130.0</td>\n",
       "      <td>458</td>\n",
       "      <td>梁文音 (Rachel Liang)</td>\n",
       "      <td>Qi Zheng Zhang</td>\n",
       "      <td>3.0</td>\n",
       "      <td>愛其實很殘忍</td>\n",
       "      <td>TWUM71400047</td>\n",
       "      <td>1</td>\n",
       "      <td>0</td>\n",
       "      <td>NaN</td>\n",
       "      <td>7</td>\n",
       "      <td>2016-02-19</td>\n",
       "      <td>2017-09-18</td>\n",
       "      <td>350.0</td>\n",
       "      <td>694.0</td>\n",
       "      <td>50.4</td>\n",
       "      <td>7102.0</td>\n",
       "      <td>13654.0</td>\n",
       "      <td>52.0</td>\n",
       "      <td>142.0</td>\n",
       "      <td>36.6</td>\n",
       "      <td>2.0</td>\n",
       "      <td>愛其實很殘忍梁文音 (Rachel Liang)</td>\n",
       "    </tr>\n",
       "  </tbody>\n",
       "</table>\n",
       "</div>"
      ],
      "text/plain": [
       "   Unnamed: 0  Unnamed: 0.1  id                                          msno  \\\n",
       "0           0             0   0  V8ruy7SGk7tDm3zA51DPpn6qutt+vmKMBKa21dp54uM=   \n",
       "\n",
       "                                        song_id source_system_tab  \\\n",
       "0  WmHKgKMlp1lQMecNdNvDMkvIycZYHnFwDT72I5sIssc=        my library   \n",
       "\n",
       "    source_screen_name  song_length_x genre_ids_x       artist_name_x  \\\n",
       "0  Local playlist more       224130.0         458  梁文音 (Rachel Liang)   \n",
       "\n",
       "       composer_x  language_x    name          isrc  city  bd gender  \\\n",
       "0  Qi Zheng Zhang         3.0  愛其實很殘忍  TWUM71400047     1   0    NaN   \n",
       "\n",
       "   registered_via registration_init_time expiration_date  repeat_count  \\\n",
       "0               7             2016-02-19      2017-09-18         350.0   \n",
       "\n",
       "   play_count  repeat_percentage  repeat_count_artist  play_count_artist  \\\n",
       "0       694.0               50.4               7102.0            13654.0   \n",
       "\n",
       "   repeat_count_msno  play_count_msno  repeat_percentage_msno  song_year  \\\n",
       "0               52.0            142.0                    36.6        2.0   \n",
       "\n",
       "                description  \n",
       "0  愛其實很殘忍梁文音 (Rachel Liang)  "
      ]
     },
     "execution_count": 227,
     "metadata": {},
     "output_type": "execute_result"
    }
   ],
   "source": [
    "new_train_features.head(1)"
   ]
  },
  {
   "cell_type": "code",
   "execution_count": 228,
   "metadata": {},
   "outputs": [],
   "source": [
    "new_train_features = new_train_features.reset_index()\n",
    "titles = new_train_features.name\n"
   ]
  },
  {
   "cell_type": "code",
   "execution_count": 229,
   "metadata": {},
   "outputs": [
    {
     "data": {
      "text/plain": [
       "(837941,)"
      ]
     },
     "execution_count": 229,
     "metadata": {},
     "output_type": "execute_result"
    }
   ],
   "source": [
    "titles.shape"
   ]
  },
  {
   "cell_type": "code",
   "execution_count": 230,
   "metadata": {},
   "outputs": [],
   "source": [
    "recom = get_recommendations2('my love')"
   ]
  },
  {
   "cell_type": "code",
   "execution_count": 231,
   "metadata": {},
   "outputs": [
    {
     "data": {
      "text/plain": [
       "{11: 'koi',\n",
       " 13: '伊是阮老爸 (My Dad)',\n",
       " 14: '決絕的信仰 (The Resolute Belief)',\n",
       " 15: '釘子花',\n",
       " 37: 'ho hay yan (喔嗨洋)',\n",
       " 63: '神秘嘉賓 (Mystery Guest)',\n",
       " 73: '你就不要想起我',\n",
       " 75: '18',\n",
       " 154: 'On My Way',\n",
       " 164: '凉凉',\n",
       " 165: \"Miss Movin' On\",\n",
       " 174: '淘汰(國)',\n",
       " 191: 'Get you！',\n",
       " 233: '當你',\n",
       " 257: 'The Best Is Yet To Come',\n",
       " 259: 'Se Me Olivido Tu Nombre(忘了妳是誰)',\n",
       " 263: 'Besame Mucho',\n",
       " 269: 'Never Be Like You',\n",
       " 345: 'Love on the Weekend',\n",
       " 349: 'Crush',\n",
       " 371: \"Thinking 'Bout You\",\n",
       " 444: 'Take Me To Church',\n",
       " 481: '女人花',\n",
       " 495: '陪你 (With you)',\n",
       " 499: 'Never Say Goodbye',\n",
       " 394: 'Adventure Of A Lifetime',\n",
       " 494: 'Faded',\n",
       " 308: 'PLAY 我呸',\n",
       " 334: 'This Love',\n",
       " 496: 'Nagareboshi',\n",
       " 25: '聽說 (Listen and Say)',\n",
       " 103: '全世界的人都知道',\n",
       " 117: '新年未老 (New Year)',\n",
       " 162: 'Sucker For Pain',\n",
       " 182: '小天使 (Little Angel)',\n",
       " 289: '還是會寂寞',\n",
       " 290: 'Run The Show (featuring Shaka Dee)',\n",
       " 291: 'Faith',\n",
       " 318: 'Relaxing Rain',\n",
       " 322: 'White Noise for Deep Sleep Short',\n",
       " 323: '該忘的日子 (I Am Moving On)',\n",
       " 325: 'Radioactive (電影「宿主」、電玩「刺客教條3」主題曲、NBA 2012-2013季賽精彩回顧音樂)',\n",
       " 329: '無眠',\n",
       " 385: 'Distraction',\n",
       " 431: '我的回憶',\n",
       " 486: '當我想著你的時候',\n",
       " 498: 'Forever & Always',\n",
       " 26: 'Get Away',\n",
       " 425: '天后',\n",
       " 467: 'Perro (Album)',\n",
       " 7: '黃昏',\n",
       " 473: 'Move',\n",
       " 51: '皇后區的皇后',\n",
       " 306: '黑色柳丁',\n",
       " 354: '黑色柳丁',\n",
       " 140: '返來我身邊',\n",
       " 92: '秘密',\n",
       " 175: '愛請問怎麼走',\n",
       " 24: '你的溫度',\n",
       " 209: '離開你的愛',\n",
       " 255: \"阿公的舊皮衫 (Grandpa's Old Shirt)\",\n",
       " 192: '不挑',\n",
       " 195: 'How Deep Is Your Love',\n",
       " 292: '我愛過你 (I Loved You)',\n",
       " 18: '如果沒有以後',\n",
       " 114: 'HOME',\n",
       " 237: '夢中的情話',\n",
       " 133: 'Memories Of You',\n",
       " 426: 'Love Somebody',\n",
       " 167: '妮妮 (Nini)',\n",
       " 116: '我很醜可是我很溫柔 (I May Be Ugly But I Am Tender)',\n",
       " 67: '飛鳥與魚',\n",
       " 131: '忘記擁抱',\n",
       " 89: 'Run Up (feat. PARTYNEXTDOOR & Nicki Minaj)',\n",
       " 32: 'This Love (Acoustic)',\n",
       " 422: '愛恨攏是你',\n",
       " 450: '愛我好嗎',\n",
       " 159: '真的愛妳',\n",
       " 300: '悟',\n",
       " 279: 'Fly! Boy! Fly!',\n",
       " 139: '愛到袂凍愛',\n",
       " 145: '早安！卡農 (Pachelbel’s Canon)',\n",
       " 0: '愛其實很殘忍',\n",
       " 1: '她說',\n",
       " 2: 'subarashiki nichijo',\n",
       " 3: 'Hold Me| Thrill Me| Kiss Me| Kill Me',\n",
       " 4: 'Om Yoga',\n",
       " 5: '1|2|3|4',\n",
       " 28: '傻瓜的冒險',\n",
       " 129: '只怪我自己',\n",
       " 231: '失戀陣線聯盟',\n",
       " 369: 'Goodbye',\n",
       " 372: '大世界小世界',\n",
       " 412: '姐姐',\n",
       " 489: '最愛還是你',\n",
       " 247: 'Sexy Baby',\n",
       " 33: '打臉',\n",
       " 57: '活在此刻',\n",
       " 125: 'Break Me Down',\n",
       " 433: '天上的你好嗎',\n",
       " 387: '天后',\n",
       " 77: 'LONG ISLAND VIEW',\n",
       " 74: '王妃',\n",
       " 123: '其實都沒有',\n",
       " 161: '幸福太短 (Fleeting Happiness)',\n",
       " 294: '孤星淚',\n",
       " 295: '恭喜發財',\n",
       " 52: '夜空中最亮的星',\n",
       " 414: '我的歌聲裡 (You Exist in My Song)',\n",
       " 351: '癢',\n",
       " 488: '海洋',\n",
       " 158: '大齡女子 (Darling)'}"
      ]
     },
     "execution_count": 231,
     "metadata": {},
     "output_type": "execute_result"
    }
   ],
   "source": [
    "def remove_blank(recom):\n",
    "    res = dict()\n",
    "    for r in recom:\n",
    "        for i, v in r.items():\n",
    "            temp = ' '.join(v.split())\n",
    "            if temp != '':\n",
    "                res[i] = temp\n",
    "    return res\n",
    "remove_blank(recom)"
   ]
  },
  {
   "cell_type": "code",
   "execution_count": 149,
   "metadata": {},
   "outputs": [],
   "source": [
    "import lightgbm as lgb\n",
    "gbm = lgb.Booster(model_file='model.txt')\n",
    "    "
   ]
  },
  {
   "cell_type": "code",
   "execution_count": 232,
   "metadata": {},
   "outputs": [
    {
     "name": "stdout",
     "output_type": "stream",
     "text": [
      "<class 'pandas.core.frame.DataFrame'>\n",
      "RangeIndex: 837941 entries, 0 to 837940\n",
      "Data columns (total 31 columns):\n",
      " #   Column                  Non-Null Count   Dtype  \n",
      "---  ------                  --------------   -----  \n",
      " 0   index                   837941 non-null  int64  \n",
      " 1   Unnamed: 0              837941 non-null  int64  \n",
      " 2   Unnamed: 0.1            837941 non-null  int64  \n",
      " 3   id                      837941 non-null  int64  \n",
      " 4   msno                    837941 non-null  object \n",
      " 5   song_id                 837941 non-null  object \n",
      " 6   source_system_tab       835145 non-null  object \n",
      " 7   source_screen_name      787802 non-null  object \n",
      " 8   song_length_x           837934 non-null  float64\n",
      " 9   genre_ids_x             826839 non-null  object \n",
      " 10  artist_name_x           837934 non-null  object \n",
      " 11  composer_x              636468 non-null  object \n",
      " 12  language_x              837925 non-null  float64\n",
      " 13  name                    837941 non-null  object \n",
      " 14  isrc                    772937 non-null  object \n",
      " 15  city                    837941 non-null  int64  \n",
      " 16  bd                      837941 non-null  int64  \n",
      " 17  gender                  496169 non-null  object \n",
      " 18  registered_via          837941 non-null  int64  \n",
      " 19  registration_init_time  837941 non-null  object \n",
      " 20  expiration_date         837941 non-null  object \n",
      " 21  repeat_count            837940 non-null  float64\n",
      " 22  play_count              837940 non-null  float64\n",
      " 23  repeat_percentage       786109 non-null  float64\n",
      " 24  repeat_count_artist     829926 non-null  float64\n",
      " 25  play_count_artist       837940 non-null  float64\n",
      " 26  repeat_count_msno       793526 non-null  float64\n",
      " 27  play_count_msno         837940 non-null  float64\n",
      " 28  repeat_percentage_msno  793526 non-null  float64\n",
      " 29  song_year               772936 non-null  float64\n",
      " 30  description             837622 non-null  object \n",
      "dtypes: float64(11), int64(7), object(13)\n",
      "memory usage: 198.2+ MB\n"
     ]
    }
   ],
   "source": [
    "new_train_features.info()"
   ]
  },
  {
   "cell_type": "code",
   "execution_count": 243,
   "metadata": {},
   "outputs": [],
   "source": [
    "def new_hybrid(msno_id, title):\n",
    "    new_msno_id = str2id(msno_id)\n",
    "    user_recs_one = user_recs.where(user_recs.msno_id == new_msno_id).cache()\n",
    "    user_recs_one.show(truncate=False)\n",
    "    user_recs_one = user_recs_one.toPandas()  \n",
    "    \n",
    "    idxs = get_index_by_name(title)    \n",
    "    sim_scores = get_cosine_sim_scores2(idxs)\n",
    "    music = remove_blank(sim_scores)\n",
    "    music = getFrame_by_indexs(music)\n",
    "    #\"Unnamed: 0\", \"Unnamed: 0.1\",\n",
    "    music = music.drop(['id','index'], axis=1)\n",
    "    music['msno'] = msno_id\n",
    "    music = change_data_type(music)\n",
    "    \n",
    "    music['est'] = gbm.predict(music)    \n",
    "    \n",
    "    music['msno_id'] = music['msno'].apply(str2id)\n",
    "    \n",
    "    #res = pd.merge(user_recs_one, music, how='left', on='msno_id')\n",
    "    return user_recs_one, music"
   ]
  },
  {
   "cell_type": "code",
   "execution_count": null,
   "metadata": {},
   "outputs": [],
   "source": []
  },
  {
   "cell_type": "code",
   "execution_count": null,
   "metadata": {},
   "outputs": [],
   "source": [
    "#we can combine music and music all, merging them together to make a recommendation list"
   ]
  },
  {
   "cell_type": "code",
   "execution_count": 244,
   "metadata": {},
   "outputs": [
    {
     "name": "stdout",
     "output_type": "stream",
     "text": [
      "+-------+--------------------------------------------------------------+\n",
      "|msno_id|recommendations                                               |\n",
      "+-------+--------------------------------------------------------------+\n",
      "|919574 |[[590906, 0.4549486], [958626, 0.438386], [351703, 0.4266878]]|\n",
      "+-------+--------------------------------------------------------------+\n",
      "\n"
     ]
    }
   ],
   "source": [
    "music, music_all = new_hybrid(\"91GgOFj9CDFYxxqRxQBT5L7FYjborQ40TReKAqpfQrs=\",'my love')"
   ]
  },
  {
   "cell_type": "code",
   "execution_count": 245,
   "metadata": {},
   "outputs": [
    {
     "data": {
      "text/html": [
       "<div>\n",
       "<style scoped>\n",
       "    .dataframe tbody tr th:only-of-type {\n",
       "        vertical-align: middle;\n",
       "    }\n",
       "\n",
       "    .dataframe tbody tr th {\n",
       "        vertical-align: top;\n",
       "    }\n",
       "\n",
       "    .dataframe thead th {\n",
       "        text-align: right;\n",
       "    }\n",
       "</style>\n",
       "<table border=\"1\" class=\"dataframe\">\n",
       "  <thead>\n",
       "    <tr style=\"text-align: right;\">\n",
       "      <th></th>\n",
       "      <th>msno_id</th>\n",
       "      <th>recommendations</th>\n",
       "    </tr>\n",
       "  </thead>\n",
       "  <tbody>\n",
       "    <tr>\n",
       "      <th>0</th>\n",
       "      <td>919574</td>\n",
       "      <td>[(590906, 0.4549486041069031), (958626, 0.4383859932422638), (351703, 0.4266878068447113)]</td>\n",
       "    </tr>\n",
       "  </tbody>\n",
       "</table>\n",
       "</div>"
      ],
      "text/plain": [
       "   msno_id  \\\n",
       "0   919574   \n",
       "\n",
       "                                                                              recommendations  \n",
       "0  [(590906, 0.4549486041069031), (958626, 0.4383859932422638), (351703, 0.4266878068447113)]  "
      ]
     },
     "execution_count": 245,
     "metadata": {},
     "output_type": "execute_result"
    }
   ],
   "source": [
    "music"
   ]
  },
  {
   "cell_type": "code",
   "execution_count": 246,
   "metadata": {},
   "outputs": [
    {
     "data": {
      "text/html": [
       "<div>\n",
       "<style scoped>\n",
       "    .dataframe tbody tr th:only-of-type {\n",
       "        vertical-align: middle;\n",
       "    }\n",
       "\n",
       "    .dataframe tbody tr th {\n",
       "        vertical-align: top;\n",
       "    }\n",
       "\n",
       "    .dataframe thead th {\n",
       "        text-align: right;\n",
       "    }\n",
       "</style>\n",
       "<table border=\"1\" class=\"dataframe\">\n",
       "  <thead>\n",
       "    <tr style=\"text-align: right;\">\n",
       "      <th></th>\n",
       "      <th>msno</th>\n",
       "      <th>song_id</th>\n",
       "      <th>source_system_tab</th>\n",
       "      <th>source_screen_name</th>\n",
       "      <th>song_length_x</th>\n",
       "      <th>genre_ids_x</th>\n",
       "      <th>artist_name_x</th>\n",
       "      <th>composer_x</th>\n",
       "      <th>language_x</th>\n",
       "      <th>name</th>\n",
       "      <th>isrc</th>\n",
       "      <th>city</th>\n",
       "      <th>bd</th>\n",
       "      <th>gender</th>\n",
       "      <th>registered_via</th>\n",
       "      <th>registration_init_time</th>\n",
       "      <th>expiration_date</th>\n",
       "      <th>repeat_count</th>\n",
       "      <th>play_count</th>\n",
       "      <th>repeat_percentage</th>\n",
       "      <th>repeat_count_artist</th>\n",
       "      <th>play_count_artist</th>\n",
       "      <th>repeat_count_msno</th>\n",
       "      <th>play_count_msno</th>\n",
       "      <th>repeat_percentage_msno</th>\n",
       "      <th>song_year</th>\n",
       "      <th>description</th>\n",
       "      <th>est</th>\n",
       "      <th>msno_id</th>\n",
       "    </tr>\n",
       "  </thead>\n",
       "  <tbody>\n",
       "    <tr>\n",
       "      <th>499</th>\n",
       "      <td>91GgOFj9CDFYxxqRxQBT5L7FYjborQ40TReKAqpfQrs=</td>\n",
       "      <td>W+gqrO3dhhuHUO0wAZTSobfk0Vf207+MDDnxd9DNY9g=</td>\n",
       "      <td>discover</td>\n",
       "      <td>Online playlist more</td>\n",
       "      <td>260527.0</td>\n",
       "      <td>444</td>\n",
       "      <td>Hwayobi</td>\n",
       "      <td>Sung Il Park</td>\n",
       "      <td>31.0</td>\n",
       "      <td>Never Say Goodbye</td>\n",
       "      <td>KRA0C1700001</td>\n",
       "      <td>1</td>\n",
       "      <td>0</td>\n",
       "      <td>NaN</td>\n",
       "      <td>7</td>\n",
       "      <td>2016-06-13</td>\n",
       "      <td>2017-09-13</td>\n",
       "      <td>41.0</td>\n",
       "      <td>105.0</td>\n",
       "      <td>39.0</td>\n",
       "      <td>51.0</td>\n",
       "      <td>131.0</td>\n",
       "      <td>50.0</td>\n",
       "      <td>97.0</td>\n",
       "      <td>51.5</td>\n",
       "      <td>3.0</td>\n",
       "      <td>Never Say GoodbyeHwayobi</td>\n",
       "      <td>0.212979</td>\n",
       "      <td>919574</td>\n",
       "    </tr>\n",
       "    <tr>\n",
       "      <th>0</th>\n",
       "      <td>91GgOFj9CDFYxxqRxQBT5L7FYjborQ40TReKAqpfQrs=</td>\n",
       "      <td>WmHKgKMlp1lQMecNdNvDMkvIycZYHnFwDT72I5sIssc=</td>\n",
       "      <td>my library</td>\n",
       "      <td>Local playlist more</td>\n",
       "      <td>224130.0</td>\n",
       "      <td>458</td>\n",
       "      <td>梁文音 (Rachel Liang)</td>\n",
       "      <td>Qi Zheng Zhang</td>\n",
       "      <td>3.0</td>\n",
       "      <td>愛其實很殘忍</td>\n",
       "      <td>TWUM71400047</td>\n",
       "      <td>1</td>\n",
       "      <td>0</td>\n",
       "      <td>NaN</td>\n",
       "      <td>7</td>\n",
       "      <td>2016-02-19</td>\n",
       "      <td>2017-09-18</td>\n",
       "      <td>350.0</td>\n",
       "      <td>694.0</td>\n",
       "      <td>50.4</td>\n",
       "      <td>7102.0</td>\n",
       "      <td>13654.0</td>\n",
       "      <td>52.0</td>\n",
       "      <td>142.0</td>\n",
       "      <td>36.6</td>\n",
       "      <td>2.0</td>\n",
       "      <td>愛其實很殘忍梁文音 (Rachel Liang)</td>\n",
       "      <td>0.374245</td>\n",
       "      <td>919574</td>\n",
       "    </tr>\n",
       "    <tr>\n",
       "      <th>1</th>\n",
       "      <td>91GgOFj9CDFYxxqRxQBT5L7FYjborQ40TReKAqpfQrs=</td>\n",
       "      <td>y/rsZ9DC7FwK5F2PK2D5mj+aOBUJAjuu3dZ14NgE0vM=</td>\n",
       "      <td>my library</td>\n",
       "      <td>Local playlist more</td>\n",
       "      <td>320470.0</td>\n",
       "      <td>465</td>\n",
       "      <td>林俊傑 (JJ Lin)</td>\n",
       "      <td>林俊傑</td>\n",
       "      <td>3.0</td>\n",
       "      <td>她說</td>\n",
       "      <td>TWB671005201</td>\n",
       "      <td>1</td>\n",
       "      <td>0</td>\n",
       "      <td>NaN</td>\n",
       "      <td>7</td>\n",
       "      <td>2016-02-19</td>\n",
       "      <td>2017-09-18</td>\n",
       "      <td>3804.0</td>\n",
       "      <td>6090.0</td>\n",
       "      <td>62.5</td>\n",
       "      <td>67621.0</td>\n",
       "      <td>115325.0</td>\n",
       "      <td>52.0</td>\n",
       "      <td>142.0</td>\n",
       "      <td>36.6</td>\n",
       "      <td>2.0</td>\n",
       "      <td>她說林俊傑 (JJ Lin)</td>\n",
       "      <td>0.453118</td>\n",
       "      <td>919574</td>\n",
       "    </tr>\n",
       "    <tr>\n",
       "      <th>2</th>\n",
       "      <td>91GgOFj9CDFYxxqRxQBT5L7FYjborQ40TReKAqpfQrs=</td>\n",
       "      <td>8eZLFOdGVdXBSqoAv5nsLigeH2BvKXzTQYtUM53I0k4=</td>\n",
       "      <td>discover</td>\n",
       "      <td>NaN</td>\n",
       "      <td>315899.0</td>\n",
       "      <td>2022</td>\n",
       "      <td>Yu Takahashi (高橋優)</td>\n",
       "      <td>Yu Takahashi</td>\n",
       "      <td>17.0</td>\n",
       "      <td>subarashiki nichijo</td>\n",
       "      <td>JPWP01070260</td>\n",
       "      <td>1</td>\n",
       "      <td>0</td>\n",
       "      <td>NaN</td>\n",
       "      <td>4</td>\n",
       "      <td>2016-11-17</td>\n",
       "      <td>2016-11-24</td>\n",
       "      <td>2.0</td>\n",
       "      <td>5.0</td>\n",
       "      <td>40.0</td>\n",
       "      <td>286.0</td>\n",
       "      <td>989.0</td>\n",
       "      <td>19.0</td>\n",
       "      <td>132.0</td>\n",
       "      <td>14.4</td>\n",
       "      <td>2.0</td>\n",
       "      <td>subarashiki nichijoYu Takahashi (高橋優)</td>\n",
       "      <td>0.048399</td>\n",
       "      <td>919574</td>\n",
       "    </tr>\n",
       "    <tr>\n",
       "      <th>3</th>\n",
       "      <td>91GgOFj9CDFYxxqRxQBT5L7FYjborQ40TReKAqpfQrs=</td>\n",
       "      <td>ztCf8thYsS4YN3GcIL/bvoxLm/T5mYBVKOO4C9NiVfQ=</td>\n",
       "      <td>radio</td>\n",
       "      <td>Radio</td>\n",
       "      <td>285210.0</td>\n",
       "      <td>465</td>\n",
       "      <td>U2</td>\n",
       "      <td>The Edge| Adam Clayton| Larry Mullen| Jr.</td>\n",
       "      <td>52.0</td>\n",
       "      <td>Hold Me| Thrill Me| Kiss Me| Kill Me</td>\n",
       "      <td>GBAAN0201228</td>\n",
       "      <td>3</td>\n",
       "      <td>30</td>\n",
       "      <td>male</td>\n",
       "      <td>9</td>\n",
       "      <td>2007-07-25</td>\n",
       "      <td>2017-04-30</td>\n",
       "      <td>7.0</td>\n",
       "      <td>31.0</td>\n",
       "      <td>22.6</td>\n",
       "      <td>228.0</td>\n",
       "      <td>698.0</td>\n",
       "      <td>115.0</td>\n",
       "      <td>388.0</td>\n",
       "      <td>29.6</td>\n",
       "      <td>0.0</td>\n",
       "      <td>Hold Me| Thrill Me| Kiss Me| Kill MeU2</td>\n",
       "      <td>0.103330</td>\n",
       "      <td>919574</td>\n",
       "    </tr>\n",
       "    <tr>\n",
       "      <th>...</th>\n",
       "      <td>...</td>\n",
       "      <td>...</td>\n",
       "      <td>...</td>\n",
       "      <td>...</td>\n",
       "      <td>...</td>\n",
       "      <td>...</td>\n",
       "      <td>...</td>\n",
       "      <td>...</td>\n",
       "      <td>...</td>\n",
       "      <td>...</td>\n",
       "      <td>...</td>\n",
       "      <td>...</td>\n",
       "      <td>...</td>\n",
       "      <td>...</td>\n",
       "      <td>...</td>\n",
       "      <td>...</td>\n",
       "      <td>...</td>\n",
       "      <td>...</td>\n",
       "      <td>...</td>\n",
       "      <td>...</td>\n",
       "      <td>...</td>\n",
       "      <td>...</td>\n",
       "      <td>...</td>\n",
       "      <td>...</td>\n",
       "      <td>...</td>\n",
       "      <td>...</td>\n",
       "      <td>...</td>\n",
       "      <td>...</td>\n",
       "      <td>...</td>\n",
       "    </tr>\n",
       "    <tr>\n",
       "      <th>489</th>\n",
       "      <td>91GgOFj9CDFYxxqRxQBT5L7FYjborQ40TReKAqpfQrs=</td>\n",
       "      <td>g7l+2tpCTxb6MgdBUOrGQvr61PIjZXyN0UhXTTgz4YU=</td>\n",
       "      <td>my library</td>\n",
       "      <td>Local playlist more</td>\n",
       "      <td>231026.0</td>\n",
       "      <td>465</td>\n",
       "      <td>唐禹哲 (Danson Tang)</td>\n",
       "      <td>林邁可</td>\n",
       "      <td>3.0</td>\n",
       "      <td>最愛還是你</td>\n",
       "      <td>TWD950729103</td>\n",
       "      <td>13</td>\n",
       "      <td>20</td>\n",
       "      <td>male</td>\n",
       "      <td>7</td>\n",
       "      <td>2015-11-15</td>\n",
       "      <td>2017-05-14</td>\n",
       "      <td>234.0</td>\n",
       "      <td>415.0</td>\n",
       "      <td>56.4</td>\n",
       "      <td>1534.0</td>\n",
       "      <td>3518.0</td>\n",
       "      <td>522.0</td>\n",
       "      <td>632.0</td>\n",
       "      <td>82.6</td>\n",
       "      <td>1.0</td>\n",
       "      <td>最愛還是你唐禹哲 (Danson Tang)</td>\n",
       "      <td>0.551873</td>\n",
       "      <td>919574</td>\n",
       "    </tr>\n",
       "    <tr>\n",
       "      <th>494</th>\n",
       "      <td>91GgOFj9CDFYxxqRxQBT5L7FYjborQ40TReKAqpfQrs=</td>\n",
       "      <td>J4qKkLIoW7aYACuTupHLAPZYmRp08en1AEux+GSUzdw=</td>\n",
       "      <td>my library</td>\n",
       "      <td>Local playlist more</td>\n",
       "      <td>212750.0</td>\n",
       "      <td>1616|1609</td>\n",
       "      <td>Alan Walker</td>\n",
       "      <td>Alan Walker| Jesper Borgen| Anders Froen| Gunnar Greve</td>\n",
       "      <td>52.0</td>\n",
       "      <td>Faded</td>\n",
       "      <td>NOG841549010</td>\n",
       "      <td>3</td>\n",
       "      <td>34</td>\n",
       "      <td>female</td>\n",
       "      <td>9</td>\n",
       "      <td>2014-11-16</td>\n",
       "      <td>2017-09-30</td>\n",
       "      <td>7903.0</td>\n",
       "      <td>10565.0</td>\n",
       "      <td>74.8</td>\n",
       "      <td>23950.0</td>\n",
       "      <td>36781.0</td>\n",
       "      <td>178.0</td>\n",
       "      <td>289.0</td>\n",
       "      <td>61.6</td>\n",
       "      <td>3.0</td>\n",
       "      <td>FadedAlan Walker</td>\n",
       "      <td>0.854559</td>\n",
       "      <td>919574</td>\n",
       "    </tr>\n",
       "    <tr>\n",
       "      <th>495</th>\n",
       "      <td>91GgOFj9CDFYxxqRxQBT5L7FYjborQ40TReKAqpfQrs=</td>\n",
       "      <td>G0rUz0kguI35yzj95LX2BXI30PqCcJJtPNfirR0BhIs=</td>\n",
       "      <td>discover</td>\n",
       "      <td>Online playlist more</td>\n",
       "      <td>260806.0</td>\n",
       "      <td>458</td>\n",
       "      <td>范瑋琪 (Christine Fan)</td>\n",
       "      <td>饒善強</td>\n",
       "      <td>3.0</td>\n",
       "      <td>陪你 (With you)</td>\n",
       "      <td>TWD251750501</td>\n",
       "      <td>1</td>\n",
       "      <td>0</td>\n",
       "      <td>NaN</td>\n",
       "      <td>7</td>\n",
       "      <td>2013-09-23</td>\n",
       "      <td>2017-09-12</td>\n",
       "      <td>3410.0</td>\n",
       "      <td>4834.0</td>\n",
       "      <td>70.5</td>\n",
       "      <td>14841.0</td>\n",
       "      <td>28719.0</td>\n",
       "      <td>97.0</td>\n",
       "      <td>210.0</td>\n",
       "      <td>46.2</td>\n",
       "      <td>3.0</td>\n",
       "      <td>陪你 (With you)范瑋琪 (Christine Fan)</td>\n",
       "      <td>0.741872</td>\n",
       "      <td>919574</td>\n",
       "    </tr>\n",
       "    <tr>\n",
       "      <th>496</th>\n",
       "      <td>91GgOFj9CDFYxxqRxQBT5L7FYjborQ40TReKAqpfQrs=</td>\n",
       "      <td>AGZKkV4V1Tbm881nAs6lnpncnN0NpMypfFxYWbPWQsk=</td>\n",
       "      <td>my library</td>\n",
       "      <td>Local playlist more</td>\n",
       "      <td>303464.0</td>\n",
       "      <td>465</td>\n",
       "      <td>Sayaka Shionoya (塩ノ谷早耶香)</td>\n",
       "      <td>Erik Lidbom</td>\n",
       "      <td>17.0</td>\n",
       "      <td>Nagareboshi</td>\n",
       "      <td>JPKI01517963</td>\n",
       "      <td>3</td>\n",
       "      <td>34</td>\n",
       "      <td>female</td>\n",
       "      <td>9</td>\n",
       "      <td>2014-11-16</td>\n",
       "      <td>2017-09-30</td>\n",
       "      <td>8.0</td>\n",
       "      <td>20.0</td>\n",
       "      <td>40.0</td>\n",
       "      <td>128.0</td>\n",
       "      <td>324.0</td>\n",
       "      <td>178.0</td>\n",
       "      <td>289.0</td>\n",
       "      <td>61.6</td>\n",
       "      <td>3.0</td>\n",
       "      <td>NagareboshiSayaka Shionoya (塩ノ谷早耶香)</td>\n",
       "      <td>0.212355</td>\n",
       "      <td>919574</td>\n",
       "    </tr>\n",
       "    <tr>\n",
       "      <th>498</th>\n",
       "      <td>91GgOFj9CDFYxxqRxQBT5L7FYjborQ40TReKAqpfQrs=</td>\n",
       "      <td>Gr0wbWW68EEzoCV5a7XSLjWQf5H5yGszf8hFsHZ/FyM=</td>\n",
       "      <td>my library</td>\n",
       "      <td>Album more</td>\n",
       "      <td>224954.0</td>\n",
       "      <td>465|1011</td>\n",
       "      <td>Taylor Swift</td>\n",
       "      <td>Taylor Swift</td>\n",
       "      <td>52.0</td>\n",
       "      <td>Forever &amp; Always</td>\n",
       "      <td>USCJY0803336</td>\n",
       "      <td>13</td>\n",
       "      <td>19</td>\n",
       "      <td>female</td>\n",
       "      <td>9</td>\n",
       "      <td>2011-10-15</td>\n",
       "      <td>2017-09-10</td>\n",
       "      <td>18.0</td>\n",
       "      <td>39.0</td>\n",
       "      <td>46.2</td>\n",
       "      <td>12601.0</td>\n",
       "      <td>24347.0</td>\n",
       "      <td>119.0</td>\n",
       "      <td>172.0</td>\n",
       "      <td>69.2</td>\n",
       "      <td>1.0</td>\n",
       "      <td>Forever &amp; AlwaysTaylor Swift</td>\n",
       "      <td>0.572107</td>\n",
       "      <td>919574</td>\n",
       "    </tr>\n",
       "  </tbody>\n",
       "</table>\n",
       "<p>112 rows × 29 columns</p>\n",
       "</div>"
      ],
      "text/plain": [
       "                                             msno  \\\n",
       "499  91GgOFj9CDFYxxqRxQBT5L7FYjborQ40TReKAqpfQrs=   \n",
       "0    91GgOFj9CDFYxxqRxQBT5L7FYjborQ40TReKAqpfQrs=   \n",
       "1    91GgOFj9CDFYxxqRxQBT5L7FYjborQ40TReKAqpfQrs=   \n",
       "2    91GgOFj9CDFYxxqRxQBT5L7FYjborQ40TReKAqpfQrs=   \n",
       "3    91GgOFj9CDFYxxqRxQBT5L7FYjborQ40TReKAqpfQrs=   \n",
       "..                                            ...   \n",
       "489  91GgOFj9CDFYxxqRxQBT5L7FYjborQ40TReKAqpfQrs=   \n",
       "494  91GgOFj9CDFYxxqRxQBT5L7FYjborQ40TReKAqpfQrs=   \n",
       "495  91GgOFj9CDFYxxqRxQBT5L7FYjborQ40TReKAqpfQrs=   \n",
       "496  91GgOFj9CDFYxxqRxQBT5L7FYjborQ40TReKAqpfQrs=   \n",
       "498  91GgOFj9CDFYxxqRxQBT5L7FYjborQ40TReKAqpfQrs=   \n",
       "\n",
       "                                          song_id source_system_tab  \\\n",
       "499  W+gqrO3dhhuHUO0wAZTSobfk0Vf207+MDDnxd9DNY9g=          discover   \n",
       "0    WmHKgKMlp1lQMecNdNvDMkvIycZYHnFwDT72I5sIssc=        my library   \n",
       "1    y/rsZ9DC7FwK5F2PK2D5mj+aOBUJAjuu3dZ14NgE0vM=        my library   \n",
       "2    8eZLFOdGVdXBSqoAv5nsLigeH2BvKXzTQYtUM53I0k4=          discover   \n",
       "3    ztCf8thYsS4YN3GcIL/bvoxLm/T5mYBVKOO4C9NiVfQ=             radio   \n",
       "..                                            ...               ...   \n",
       "489  g7l+2tpCTxb6MgdBUOrGQvr61PIjZXyN0UhXTTgz4YU=        my library   \n",
       "494  J4qKkLIoW7aYACuTupHLAPZYmRp08en1AEux+GSUzdw=        my library   \n",
       "495  G0rUz0kguI35yzj95LX2BXI30PqCcJJtPNfirR0BhIs=          discover   \n",
       "496  AGZKkV4V1Tbm881nAs6lnpncnN0NpMypfFxYWbPWQsk=        my library   \n",
       "498  Gr0wbWW68EEzoCV5a7XSLjWQf5H5yGszf8hFsHZ/FyM=        my library   \n",
       "\n",
       "       source_screen_name  song_length_x genre_ids_x  \\\n",
       "499  Online playlist more       260527.0         444   \n",
       "0     Local playlist more       224130.0         458   \n",
       "1     Local playlist more       320470.0         465   \n",
       "2                     NaN       315899.0        2022   \n",
       "3                   Radio       285210.0         465   \n",
       "..                    ...            ...         ...   \n",
       "489   Local playlist more       231026.0         465   \n",
       "494   Local playlist more       212750.0   1616|1609   \n",
       "495  Online playlist more       260806.0         458   \n",
       "496   Local playlist more       303464.0         465   \n",
       "498            Album more       224954.0    465|1011   \n",
       "\n",
       "                artist_name_x  \\\n",
       "499                   Hwayobi   \n",
       "0          梁文音 (Rachel Liang)   \n",
       "1                林俊傑 (JJ Lin)   \n",
       "2          Yu Takahashi (高橋優)   \n",
       "3                          U2   \n",
       "..                        ...   \n",
       "489         唐禹哲 (Danson Tang)   \n",
       "494               Alan Walker   \n",
       "495       范瑋琪 (Christine Fan)   \n",
       "496  Sayaka Shionoya (塩ノ谷早耶香)   \n",
       "498              Taylor Swift   \n",
       "\n",
       "                                                 composer_x  language_x  \\\n",
       "499                                            Sung Il Park        31.0   \n",
       "0                                            Qi Zheng Zhang         3.0   \n",
       "1                                                       林俊傑         3.0   \n",
       "2                                              Yu Takahashi        17.0   \n",
       "3                 The Edge| Adam Clayton| Larry Mullen| Jr.        52.0   \n",
       "..                                                      ...         ...   \n",
       "489                                                     林邁可         3.0   \n",
       "494  Alan Walker| Jesper Borgen| Anders Froen| Gunnar Greve        52.0   \n",
       "495                                                     饒善強         3.0   \n",
       "496                                             Erik Lidbom        17.0   \n",
       "498                                            Taylor Swift        52.0   \n",
       "\n",
       "                                     name          isrc  city  bd  gender  \\\n",
       "499                     Never Say Goodbye  KRA0C1700001     1   0     NaN   \n",
       "0                                  愛其實很殘忍  TWUM71400047     1   0     NaN   \n",
       "1                                      她說  TWB671005201     1   0     NaN   \n",
       "2                     subarashiki nichijo  JPWP01070260     1   0     NaN   \n",
       "3    Hold Me| Thrill Me| Kiss Me| Kill Me  GBAAN0201228     3  30    male   \n",
       "..                                    ...           ...   ...  ..     ...   \n",
       "489                                 最愛還是你  TWD950729103    13  20    male   \n",
       "494                                 Faded  NOG841549010     3  34  female   \n",
       "495                         陪你 (With you)  TWD251750501     1   0     NaN   \n",
       "496                           Nagareboshi  JPKI01517963     3  34  female   \n",
       "498                      Forever & Always  USCJY0803336    13  19  female   \n",
       "\n",
       "     registered_via registration_init_time expiration_date  repeat_count  \\\n",
       "499               7             2016-06-13      2017-09-13          41.0   \n",
       "0                 7             2016-02-19      2017-09-18         350.0   \n",
       "1                 7             2016-02-19      2017-09-18        3804.0   \n",
       "2                 4             2016-11-17      2016-11-24           2.0   \n",
       "3                 9             2007-07-25      2017-04-30           7.0   \n",
       "..              ...                    ...             ...           ...   \n",
       "489               7             2015-11-15      2017-05-14         234.0   \n",
       "494               9             2014-11-16      2017-09-30        7903.0   \n",
       "495               7             2013-09-23      2017-09-12        3410.0   \n",
       "496               9             2014-11-16      2017-09-30           8.0   \n",
       "498               9             2011-10-15      2017-09-10          18.0   \n",
       "\n",
       "     play_count  repeat_percentage  repeat_count_artist  play_count_artist  \\\n",
       "499       105.0               39.0                 51.0              131.0   \n",
       "0         694.0               50.4               7102.0            13654.0   \n",
       "1        6090.0               62.5              67621.0           115325.0   \n",
       "2           5.0               40.0                286.0              989.0   \n",
       "3          31.0               22.6                228.0              698.0   \n",
       "..          ...                ...                  ...                ...   \n",
       "489       415.0               56.4               1534.0             3518.0   \n",
       "494     10565.0               74.8              23950.0            36781.0   \n",
       "495      4834.0               70.5              14841.0            28719.0   \n",
       "496        20.0               40.0                128.0              324.0   \n",
       "498        39.0               46.2              12601.0            24347.0   \n",
       "\n",
       "     repeat_count_msno  play_count_msno  repeat_percentage_msno  song_year  \\\n",
       "499               50.0             97.0                    51.5        3.0   \n",
       "0                 52.0            142.0                    36.6        2.0   \n",
       "1                 52.0            142.0                    36.6        2.0   \n",
       "2                 19.0            132.0                    14.4        2.0   \n",
       "3                115.0            388.0                    29.6        0.0   \n",
       "..                 ...              ...                     ...        ...   \n",
       "489              522.0            632.0                    82.6        1.0   \n",
       "494              178.0            289.0                    61.6        3.0   \n",
       "495               97.0            210.0                    46.2        3.0   \n",
       "496              178.0            289.0                    61.6        3.0   \n",
       "498              119.0            172.0                    69.2        1.0   \n",
       "\n",
       "                                description       est msno_id  \n",
       "499                Never Say GoodbyeHwayobi  0.212979  919574  \n",
       "0                  愛其實很殘忍梁文音 (Rachel Liang)  0.374245  919574  \n",
       "1                            她說林俊傑 (JJ Lin)  0.453118  919574  \n",
       "2     subarashiki nichijoYu Takahashi (高橋優)  0.048399  919574  \n",
       "3    Hold Me| Thrill Me| Kiss Me| Kill MeU2  0.103330  919574  \n",
       "..                                      ...       ...     ...  \n",
       "489                  最愛還是你唐禹哲 (Danson Tang)  0.551873  919574  \n",
       "494                        FadedAlan Walker  0.854559  919574  \n",
       "495        陪你 (With you)范瑋琪 (Christine Fan)  0.741872  919574  \n",
       "496     NagareboshiSayaka Shionoya (塩ノ谷早耶香)  0.212355  919574  \n",
       "498            Forever & AlwaysTaylor Swift  0.572107  919574  \n",
       "\n",
       "[112 rows x 29 columns]"
      ]
     },
     "execution_count": 246,
     "metadata": {},
     "output_type": "execute_result"
    }
   ],
   "source": [
    "music_all"
   ]
  },
  {
   "cell_type": "code",
   "execution_count": null,
   "metadata": {},
   "outputs": [],
   "source": []
  }
 ],
 "metadata": {
  "environment": {
   "name": "common-cpu.m48",
   "type": "gcloud",
   "uri": "gcr.io/deeplearning-platform-release/base-cpu:m48"
  },
  "kernelspec": {
   "display_name": "Python 3",
   "language": "python",
   "name": "python3"
  },
  "language_info": {
   "codemirror_mode": {
    "name": "ipython",
    "version": 3
   },
   "file_extension": ".py",
   "mimetype": "text/x-python",
   "name": "python",
   "nbconvert_exporter": "python",
   "pygments_lexer": "ipython3",
   "version": "3.7.6"
  }
 },
 "nbformat": 4,
 "nbformat_minor": 4
}
